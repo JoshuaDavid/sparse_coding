{
 "cells": [
  {
   "cell_type": "markdown",
   "id": "c15728a7-23df-4889-83b3-29b12950f8e0",
   "metadata": {},
   "source": [
    "# Investigation of How Features Project Onto Attention Parameters"
   ]
  },
  {
   "cell_type": "markdown",
   "id": "195caa4a-95fa-4aaf-898e-9f74b5503194",
   "metadata": {},
   "source": [
    "## Overview"
   ]
  },
  {
   "cell_type": "markdown",
   "id": "88459c17-5e39-4a0e-addf-0f14e5f3a826",
   "metadata": {},
   "source": [
    "The autoencoders generated within this repository consist of a number of vectors (\"features\") in the residual space, each representing a (hopefully interpretable) feature of residual space. Here, we want to look at the attention heads of the model through the lens of those features.\n",
    "\n",
    "Our intention is to explore the alignment between features and attention parameters. At a high level, the motivation is that for each attention parameter (`Q`, `K`, `V`), and for each feature, we want to know how closely that attention parameter is aligned with that feature. One approach to achieve this quantitatively is by employing the cosine similarity (or its squared counterpart, depending on the exact nature of our interpretability objectives).\n",
    "\n",
    "If we were doing this for a feature ($ \\in \\mathbb{R}^d\\_model $) and a neuron ($ \\in \\mathbb{R}^d\\_model $), we could do this by measuring the cosine similarity\n",
    "$ cos\\_sim(\\mathbf{a}, \\mathbf{b}) = \\frac{\\mathbf{a} \\cdot \\mathbf{b}}{\\| \\mathbf{a} \\| \\| \\mathbf{b} \\|} $\n",
    "if we were measuring the extent to which the feature aligned with the neuron, or the squared cosine similarity\n",
    "$ cos^2\\_sim(\\mathbf{a}, \\mathbf{b}) = cos\\_sim(\\mathbf{a}, \\mathbf{b})^2 $\n",
    "if we only cared about the extent to which they were non-orthogonal.\n",
    "\n",
    "We would like to do the analogous operation, where we have a column vector \n",
    "$ \\mathbf{f} \\in \\mathbb{R}^n $\n",
    "(our dictionary feature) and a subspace\n",
    "$ A \\in \\mathbb{R}^{n \\times m} $ (our attention paremteter). We only care about magnitude, rather than direction, since an attention space does not meaningfully have a direction (I think, **@todo** confirm this with someone who knows math). That operation looks like\n",
    "\n",
    "However, what we actually have here is a matrix\n",
    "$ F \\in \\mathbb{R}^{d\\_dict \\times d\\_model} $\n",
    "which represents d\\_dict features each of size \n",
    "$ d_{\\text{model}} = d\\_model $\n",
    "from our learned dictionary, and an attention parameter matrix \n",
    "$ W \\in \\mathbb{R}^{d\\_model \\times d\\_attn} $\n",
    "an attention parameter (e.g. the key matrix of layer 1 head 3).\n",
    "\n",
    "Our analogous operation, then, looks like\n",
    "\n",
    "1. Normalize the columns of $ W $ to unit norm:  \n",
    "$ {{W\\_normed}_{ij}} = \\frac{W_{ij}}{\\sqrt{\\sum_{i=1}^{d\\_model} W_{ij}^2}} $  \n",
    "where $ i $ denotes the row index and $ j $ the column index.\n",
    "\n",
    "3. Compute a matrix product between the attention parameter matrix and the normalized matrix of dictionary features $ \\text{F} $, element-wise squared:  \n",
    "$ M = (W\\_normed \\cdot F)^2 $  \n",
    "where $ \\cdot $ denotes matrix multiplication.\n",
    "\n",
    "5. Sum over the columns of matrix $ M $ to get a resulting vector $ \\text{result} \\in \\mathbb{R}^{d\\_dict} $:  \n",
    "$ \\text{result}_i = \\sum_{j=1}^{d\\_model} M_{ij} $\n",
    "\n",
    "We call this score the **Feature-Attention Alignment Score** (FAAS) (**@todo** better name for this, also is this basically a standard metric already? This has _got_ to be some sort of standard metric). Note that FAAS can exceed 1."
   ]
  },
  {
   "cell_type": "markdown",
   "id": "7d582776-4a0a-4bb4-8f66-6bc98570f3d4",
   "metadata": {},
   "source": [
    "## Hypotheses"
   ]
  },
  {
   "cell_type": "markdown",
   "id": "2a8f0105-4da5-443b-b8fc-3c91b9d1a1ef",
   "metadata": {},
   "source": [
    "1. For features the attention head does not \"care\" about, the FAAS values will cluster near 0. If you pass a dictionary of random features to this method, it will form a normal distribution centered around $ \\frac{d\\_attn}{d\\_model} $ because math.\n",
    "2. For a dictionary trained on the residual stream of the same model the attention heads are from, FAAS will form a long-tailed or bimodal distribution, with a large cluster of features with near-zero FAAS, and a few features with large FAAS.\n",
    "3. The features with large FAAS values will be semantically related to each other when the technique is applied to language models."
   ]
  },
  {
   "cell_type": "markdown",
   "id": "dbd32f8a-4799-4430-99ac-4b8e02ad467a",
   "metadata": {},
   "source": [
    "## Code"
   ]
  },
  {
   "cell_type": "markdown",
   "id": "8b377617-0cb0-45d8-83be-f7c4d8fdacec",
   "metadata": {},
   "source": [
    "### Notebook setup stuff"
   ]
  },
  {
   "cell_type": "markdown",
   "id": "68475284-a33a-451a-a959-df630ccee358",
   "metadata": {},
   "source": [
    "This notebook lives in the `./interp_notebooks/` directory, which is not the same as the project root. We need to add the project root directory (`..`) to the path so that importing stuff works"
   ]
  },
  {
   "cell_type": "code",
   "execution_count": 1,
   "id": "10d1cc1b-b777-4930-aeb3-e4e155f97251",
   "metadata": {},
   "outputs": [],
   "source": [
    "import sys\n",
    "import os\n",
    "sys.path.insert(0, os.path.realpath('..'))"
   ]
  },
  {
   "cell_type": "markdown",
   "id": "d6316ea5-e8c6-490f-8d62-4880c4d1d6ac",
   "metadata": {},
   "source": [
    "### Imports"
   ]
  },
  {
   "cell_type": "markdown",
   "id": "8c188a10-5b7e-4fb1-9518-02cf16d566b5",
   "metadata": {},
   "source": [
    "Third-party libraries"
   ]
  },
  {
   "cell_type": "code",
   "execution_count": 2,
   "id": "d14bb792-48ee-4901-aae0-147402715369",
   "metadata": {},
   "outputs": [],
   "source": [
    "from transformer_lens import HookedTransformer\n",
    "import torch\n",
    "import numpy as np\n",
    "import matplotlib.pyplot as plt\n",
    "import einops\n",
    "from dataclasses import dataclass\n",
    "from datasets import Dataset, load_dataset\n",
    "from IPython.display import display, Markdown\n",
    "from circuitsvis.activations import text_neuron_activations\n",
    "from circuitsvis.tokens import colored_tokens"
   ]
  },
  {
   "cell_type": "markdown",
   "id": "4d877ecd-a9e3-4ca4-a37b-cc59c7d8cc6c",
   "metadata": {},
   "source": [
    "Stuff specific to this repo"
   ]
  },
  {
   "cell_type": "code",
   "execution_count": 3,
   "id": "73c4e7e9-7248-429b-934c-3400e1c2c474",
   "metadata": {},
   "outputs": [],
   "source": [
    "from notebook_utils import (\n",
    "    hyperparams_match,\n",
    "    load_autoencoders,\n",
    "    get_dictionary_activations,\n",
    "    get_tokens_and_activations,\n",
    "    get_feature_datapoints,\n",
    "    get_neuron_activation,\n",
    "    ablate_text,\n",
    "    visualize_text,\n",
    "    ablate_feature_direction,\n",
    "    visualize_logit_diff\n",
    ")"
   ]
  },
  {
   "cell_type": "markdown",
   "id": "334f36e9-880e-479c-842f-da6df6a0c08b",
   "metadata": {},
   "source": [
    "### Helper functions"
   ]
  },
  {
   "cell_type": "code",
   "execution_count": 4,
   "id": "5f476008-f6a3-4bbb-a199-94ff1f5999d1",
   "metadata": {},
   "outputs": [],
   "source": [
    "def feature_attention_alignment_scores(features, attn_param):\n",
    "    # features.shape == (d_dict, d_model)\n",
    "    # so axis 1 is d_model\n",
    "    normed_features   = features / torch.linalg.norm(features, axis=1, keepdim=True)\n",
    "    # attn_param.shape == (d_model, d_attn)\n",
    "    # so axis 0 is d_model\n",
    "    normed_attn_param = attn_param / torch.linalg.norm(attn_param, axis=0, keepdim=True)\n",
    "    cos_sims = torch.einsum(\n",
    "        'an, nb -> ab',\n",
    "        normed_features,\n",
    "        normed_attn_param\n",
    "    )\n",
    "    scores = (cos_sims**2).sum(axis=1)\n",
    "    return scores"
   ]
  },
  {
   "cell_type": "markdown",
   "id": "817c21d5-e90b-49e8-bde8-c9e69ebdddce",
   "metadata": {},
   "source": [
    "### Setup"
   ]
  },
  {
   "cell_type": "markdown",
   "id": "cb0fba7e-76f9-468d-871e-dcaf8ff733b8",
   "metadata": {},
   "source": [
    "#### Configuration"
   ]
  },
  {
   "cell_type": "code",
   "execution_count": 5,
   "id": "c05ef86d-46ca-4037-bccc-6f1bfda42ef1",
   "metadata": {},
   "outputs": [],
   "source": [
    "model_name = 'EleutherAI/Pythia-70m-deduped'\n",
    "dataset_name = \"NeelNanda/pile-10k\"\n",
    "token_amount=25\n",
    "device = 'cuda'"
   ]
  },
  {
   "cell_type": "markdown",
   "id": "4a64a925-3d2b-4591-9c30-41eac0d2225d",
   "metadata": {},
   "source": [
    "#### Load the model (from HF or cache)"
   ]
  },
  {
   "cell_type": "code",
   "execution_count": 6,
   "id": "c62da29d-d4a6-4049-bc6c-13ce1d4f26c4",
   "metadata": {},
   "outputs": [
    {
     "name": "stderr",
     "output_type": "stream",
     "text": [
      "Using pad_token, but it is not set yet.\n"
     ]
    },
    {
     "name": "stdout",
     "output_type": "stream",
     "text": [
      "Loaded pretrained model EleutherAI/Pythia-70m-deduped into HookedTransformer\n"
     ]
    }
   ],
   "source": [
    "model = HookedTransformer.from_pretrained(model_name, device=device)"
   ]
  },
  {
   "cell_type": "markdown",
   "id": "b473501b-0d57-4d16-aa32-0523c5eac7d6",
   "metadata": {},
   "source": [
    "#### Load the autoencoder from disk"
   ]
  },
  {
   "cell_type": "code",
   "execution_count": 7,
   "id": "309db518-4d94-421a-abca-1bca056d3dab",
   "metadata": {},
   "outputs": [],
   "source": [
    "# This can change depending where on disk the models are stored.\n",
    "hyperparams_by_path = {\n",
    "    f'/workspace/sparse_coding/outputs/dense_sweep_tied_resid/chunks/{chunk:02d}/layer_{layer:d}/dict_ratio_{dict_ratio:d}/learned_dicts.pt': {\n",
    "        \"chunk\": chunk,\n",
    "        \"layer\": layer,\n",
    "        \"dict_ratio\": dict_ratio,\n",
    "        \"model\": \"EleutherAI/Pythia-70m-deduped\",\n",
    "        \"cache_name\": f\"blocks.{layer}.hook_resid_post\",\n",
    "    }\n",
    "    for chunk in [0, 5, 10, 15, 20, 25, 29]\n",
    "    for layer in [0, 1, 2, 3, 4, 5]\n",
    "    for dict_ratio in [1, 2, 4, 8]\n",
    "}\n",
    "desired_hyperparams = {\n",
    "    \"model\": lambda model: model == \"EleutherAI/Pythia-70m-deduped\",\n",
    "    \"chunk\": lambda chunk: chunk == 25,\n",
    "    \"layer\": lambda layer: layer == 3,\n",
    "    \"dict_ratio\": lambda dict_ratio: dict_ratio in [2],\n",
    "    \"l1_alpha\": lambda l1_alpha: abs(l1_alpha - 0.002) < 1e-6,\n",
    "}"
   ]
  },
  {
   "cell_type": "code",
   "execution_count": 8,
   "id": "5ef6f095-d738-41ad-976a-8a63eddf95d0",
   "metadata": {},
   "outputs": [],
   "source": [
    "located_autoencoders = load_autoencoders(desired_hyperparams, hyperparams_by_path)\n",
    "assert 1 == len(located_autoencoders), \"Did not find exactly one matching autoencoder. Perhaps your files are in a different location on this server? See the above cell.\"\n",
    "\n",
    "autoencoder = located_autoencoders[0].autoencoder\n",
    "autoencoder.to_device(device)\n",
    "learned_dict = autoencoder.get_learned_dict()\n",
    "cache_name = located_autoencoders[0].hyperparams['cache_name']"
   ]
  },
  {
   "cell_type": "code",
   "execution_count": 9,
   "id": "f626a08c-83b7-475f-bf44-e64d3e788845",
   "metadata": {},
   "outputs": [],
   "source": [
    "attn = {\n",
    "    'q': [dict(model.named_parameters())[f'blocks.{i}.attn.W_Q'] for i in range(6)],\n",
    "    'k': [dict(model.named_parameters())[f'blocks.{i}.attn.W_K'] for i in range(6)],\n",
    "    'v': [dict(model.named_parameters())[f'blocks.{i}.attn.W_V'] for i in range(6)],\n",
    "}"
   ]
  },
  {
   "cell_type": "markdown",
   "id": "a012d252-9a33-4073-b3ae-8e99d55933a2",
   "metadata": {},
   "source": [
    "#### Load the input data we'll compute activations for"
   ]
  },
  {
   "cell_type": "code",
   "execution_count": 10,
   "id": "7907cd9b-be2a-4754-a291-07fb1ccddbb6",
   "metadata": {},
   "outputs": [
    {
     "name": "stderr",
     "output_type": "stream",
     "text": [
      "Found cached dataset parquet (/root/.cache/huggingface/datasets/NeelNanda___parquet/NeelNanda--pile-10k-72f566e9f7c464ab/0.0.0/2a3b91fbd88a2c90d1dbbb32b460cf621d31bd5b05b934492fdef7d8d6f236ec)\n",
      "Loading cached processed dataset at /root/.cache/huggingface/datasets/NeelNanda___parquet/NeelNanda--pile-10k-72f566e9f7c464ab/0.0.0/2a3b91fbd88a2c90d1dbbb32b460cf621d31bd5b05b934492fdef7d8d6f236ec/cache-473750aa8803f6e8.arrow\n",
      "Loading cached processed dataset at /root/.cache/huggingface/datasets/NeelNanda___parquet/NeelNanda--pile-10k-72f566e9f7c464ab/0.0.0/2a3b91fbd88a2c90d1dbbb32b460cf621d31bd5b05b934492fdef7d8d6f236ec/cache-f3f9893fa5687d61.arrow\n",
      "Loading cached processed dataset at /root/.cache/huggingface/datasets/NeelNanda___parquet/NeelNanda--pile-10k-72f566e9f7c464ab/0.0.0/2a3b91fbd88a2c90d1dbbb32b460cf621d31bd5b05b934492fdef7d8d6f236ec/cache-571335d3e09e18d1.arrow\n"
     ]
    }
   ],
   "source": [
    "dataset = load_dataset(dataset_name, split=\"train\").map(\n",
    "    lambda x: model.tokenizer(x['text']),\n",
    "    batched=True,\n",
    ").filter(\n",
    "    lambda x: len(x['input_ids']) > token_amount\n",
    ").map(\n",
    "    lambda x: {'input_ids': x['input_ids'][:token_amount]}\n",
    ")"
   ]
  },
  {
   "cell_type": "markdown",
   "id": "1d95772e-6698-47a9-b86e-fdb055feebec",
   "metadata": {},
   "source": [
    "#### And actually compute the activations"
   ]
  },
  {
   "cell_type": "code",
   "execution_count": 11,
   "id": "28b54131-e9b3-42bf-ab87-9c292fb7fa95",
   "metadata": {},
   "outputs": [],
   "source": [
    "dictionary_activations = get_dictionary_activations(model, autoencoder, dataset, cache_name, token_amount, device, 256)"
   ]
  },
  {
   "cell_type": "markdown",
   "id": "5b62371a-c4cd-4926-8e7e-bef80c4a8bfd",
   "metadata": {},
   "source": [
    "### Test that no patterns show for random dictionaries or attention params"
   ]
  },
  {
   "cell_type": "markdown",
   "id": "504002c5-ec47-4903-96d5-a4ff36bad12e",
   "metadata": {
    "jp-MarkdownHeadingCollapsed": true
   },
   "source": [
    "#### Random dictionary, random attention param"
   ]
  },
  {
   "cell_type": "code",
   "execution_count": 12,
   "id": "7bf09ce5-dc61-4e2c-b6eb-dda4a4d600db",
   "metadata": {},
   "outputs": [
    {
     "data": {
      "image/png": "[encoded data removed]",
      "text/plain": [
       "<Figure size 640x480 with 1 Axes>"
      ]
     },
     "metadata": {},
     "output_type": "display_data"
    }
   ],
   "source": [
    "scores = feature_attention_alignment_scores(\n",
    "    torch.randn(1024, 512).cuda(),\n",
    "    torch.randn(512, 64).cuda()\n",
    ").detach().cpu()\n",
    "plt.hist(scores, bins=100, range=(0, 1))\n",
    "plt.show()"
   ]
  },
  {
   "cell_type": "markdown",
   "id": "5c2fd4f6-efae-4121-af23-9349432967f5",
   "metadata": {},
   "source": [
    "Indeed, this does show a normal-ish looking distribution centered on $ \\frac{d\\_attn}{d\\_model} = \\frac{64}{512} = 0.125 $"
   ]
  },
  {
   "cell_type": "markdown",
   "id": "98279dc4-fa92-4204-a2f1-465c2381fa47",
   "metadata": {
    "jp-MarkdownHeadingCollapsed": true
   },
   "source": [
    "#### Random dictionary, real attention param (layer 4, head 5)"
   ]
  },
  {
   "cell_type": "code",
   "execution_count": 13,
   "id": "d8be9e47-a35b-4cfe-a651-b1bfc1f4ef14",
   "metadata": {},
   "outputs": [
    {
     "data": {
      "image/png": "[encoded data removed]",
      "text/plain": [
       "<Figure size 640x480 with 1 Axes>"
      ]
     },
     "metadata": {},
     "output_type": "display_data"
    }
   ],
   "source": [
    "scores = feature_attention_alignment_scores(\n",
    "    torch.randn(1024, 512).cuda(),\n",
    "    attn['k'][4][5]\n",
    ").detach().cpu()\n",
    "plt.hist(scores, bins=100, range=(0, 1))\n",
    "plt.show()"
   ]
  },
  {
   "cell_type": "markdown",
   "id": "0339f404-54a6-4373-bb98-bc8e22fb85a4",
   "metadata": {},
   "source": [
    "Again, normal-ish distribution centered around $ \\frac{d\\_attn}{d\\_model} = \\frac{64}{512} = 0.125 $"
   ]
  },
  {
   "cell_type": "markdown",
   "id": "7e695635-aca0-4355-b7da-01f869820e51",
   "metadata": {
    "jp-MarkdownHeadingCollapsed": true
   },
   "source": [
    "#### Real dictionary, random attention pattern"
   ]
  },
  {
   "cell_type": "code",
   "execution_count": 14,
   "id": "72cc656f-3963-4b7f-9a4c-3cd744ca8d42",
   "metadata": {},
   "outputs": [
    {
     "data": {
      "image/png": "[encoded data removed]",
      "text/plain": [
       "<Figure size 640x480 with 1 Axes>"
      ]
     },
     "metadata": {},
     "output_type": "display_data"
    }
   ],
   "source": [
    "scores = feature_attention_alignment_scores(\n",
    "    learned_dict,\n",
    "    torch.randn(512, 64).cuda()\n",
    ").detach().cpu()\n",
    "plt.hist(scores, bins=100, range=(0, 1))\n",
    "plt.show()"
   ]
  },
  {
   "cell_type": "markdown",
   "id": "287599be-d9a8-41fe-b825-a9a371f56d5f",
   "metadata": {},
   "source": [
    "Again, normal-ish distribution centered around $ \\frac{d\\_attn}{d\\_model} = \\frac{64}{512} = 0.125 $"
   ]
  },
  {
   "cell_type": "markdown",
   "id": "dfd3890a-fd9b-47c2-8fcb-87fb0f6ac626",
   "metadata": {},
   "source": [
    "### Testing on real features and attention params"
   ]
  },
  {
   "cell_type": "markdown",
   "id": "fede3d1e-6e80-418c-964f-19b6927d00e9",
   "metadata": {},
   "source": [
    "##### Verify that the FAAS distribution is long-tailed on an attn key param"
   ]
  },
  {
   "cell_type": "code",
   "execution_count": 15,
   "id": "7ac5e52a-505b-428c-a552-5296028b6638",
   "metadata": {},
   "outputs": [
    {
     "data": {
      "image/png": "[encoded data removed]",
      "text/plain": [
       "<Figure size 640x480 with 1 Axes>"
      ]
     },
     "metadata": {},
     "output_type": "display_data"
    }
   ],
   "source": [
    "layer, head = 4, 5\n",
    "\n",
    "scores = feature_attention_alignment_scores(learned_dict, attn['k'][layer][head]).detach().cpu()\n",
    "plt.hist(scores, bins=100)\n",
    "plt.show()"
   ]
  },
  {
   "cell_type": "markdown",
   "id": "1e1b23f8-2b00-4560-904a-08e43bd00158",
   "metadata": {},
   "source": [
    "That is the long-tailed distribution we've been looking for."
   ]
  },
  {
   "cell_type": "markdown",
   "id": "12c2eb9e-085f-4c9e-87f5-8b9f023bf1b0",
   "metadata": {},
   "source": [
    "##### Verify that the FAAS distribution is long-tailed on an attn query param"
   ]
  },
  {
   "cell_type": "code",
   "execution_count": 16,
   "id": "aaf61de4-f50b-492a-bc6f-505a3d61f6b7",
   "metadata": {},
   "outputs": [
    {
     "data": {
      "image/png": "[encoded data removed]",
      "text/plain": [
       "<Figure size 640x480 with 1 Axes>"
      ]
     },
     "metadata": {},
     "output_type": "display_data"
    }
   ],
   "source": [
    "layer, head = 4, 3\n",
    "\n",
    "scores = feature_attention_alignment_scores(learned_dict, attn['q'][layer][head]).detach().cpu()\n",
    "plt.hist(scores, bins=100)\n",
    "plt.show()"
   ]
  },
  {
   "cell_type": "markdown",
   "id": "3452af39-6fb6-438d-9952-161129db5327",
   "metadata": {},
   "source": [
    "That is _very much_ the long-tailed distribution we've been looking for."
   ]
  },
  {
   "cell_type": "markdown",
   "id": "51ce3855-7ea5-45b8-a4bf-92777c76adf0",
   "metadata": {},
   "source": [
    "#### Do some interpretability stuff"
   ]
  },
  {
   "cell_type": "code",
   "execution_count": null,
   "id": "607e373c-c615-40cd-b8d6-b7eb7d941d85",
   "metadata": {},
   "outputs": [
    {
     "data": {
      "text/markdown": [
       "##### Examining Layer:4/Head:5/W_K"
      ],
      "text/plain": [
       "<IPython.core.display.Markdown object>"
      ]
     },
     "metadata": {},
     "output_type": "display_data"
    },
    {
     "name": "stdout",
     "output_type": "stream",
     "text": [
      "Found 20 features over threshold 0.500 for L4H5:W_K\n",
      "Feature ids = [80, 161, 162, 171, 177, 194, 213, 230, 264, 472, 497, 550, 568, 705, 707, 729, 873, 957, 972, 1013]\n"
     ]
    },
    {
     "data": {
      "text/html": [
       "<div id=\"circuits-vis-9f0ef23d-45d3\" style=\"margin: 15px 0;\"/>\n",
       "    <script crossorigin type=\"module\">\n",
       "    import { render, TextNeuronActivations } from \"https://unpkg.com/circuitsvis@1.40.1/dist/cdn/esm.js\";\n",
       "    render(\n",
       "      \"circuits-vis-9f0ef23d-45d3\",\n",
       "      TextNeuronActivations,\n",
       "      {\"tokens\": [\"Q\", \":\", \"\\\\newline\", \"\\\\newline\", \"L\", \"imits\", \" -\", \" prove\", \" or\", \" dis\", \"prove\", \"\\\\newline\", \"\\\\newline\", \"If\", \" $\\\\\", \"lim\", \"_{\", \"x\", \" \\\\\", \"to\", \" 0\", \"^+\", \"}\", \" f\", \"(\", \"\\n\", \"Q\", \":\", \"\\\\newline\", \"\\\\newline\", \"Show\", \" that\", \" $\", \"F\", \"(\", \"G\", \"(\", \"x\", \"))=\", \"G\", \"(\", \"\\n\", \"Q\", \":\", \"\\\\newline\", \"\\\\newline\", \"Eval\", \"uating\", \" $\\\\\", \"int\", \" \\\\\", \"sqrt\", \"{\", \"x\", \"}\\\\\", \"ln\", \"(\", \"\\n\", \"Q\", \":\", \"\\\\newline\", \"\\\\newline\", \"Show\", \" that\", \" $\", \"F\", \"(\", \"G\", \"(\", \"x\", \"))=\", \"G\", \"(\", \"F\", \"(\", \"\\n\", \"Q\", \":\", \"\\\\newline\", \"\\\\newline\", \"Opt\", \"imal\", \"ization\", \" of\", \" sum\", \" $\", \"f\", \"(\", \"\\n\", \"Q\", \":\", \"\\\\newline\", \"\\\\newline\", \"Show\", \" that\", \" $\", \"F\", \"(\", \"\\n\", \"Q\", \":\", \"\\\\newline\", \"\\\\newline\", \"Show\", \" that\", \" $\\\\\", \"lim\", \"_{\", \"x\", \"\\\\\", \"to\", \" \\\\\", \"infty\", \"}\", \" \\\\\", \"frac\", \"{\", \"f\", \"(\", \"x\", \")}{\", \"g\", \"(\", \"\\n\", \"Q\", \":\", \"\\\\newline\", \"\\\\newline\", \"${\\\\\", \"rm\", \" Aut\", \"}(\", \"\\n\", \"Q\", \":\", \"\\\\newline\", \"\\\\newline\", \"Show\", \" that\", \" $\\\\\", \"lim\", \"_{\", \"x\", \"\\\\\", \"to\", \" \\\\\", \"infty\", \"}\", \" \\\\\", \"frac\", \"{\", \"f\", \"(\", \"\\n\", \"---\", \"\\\\newline\", \"abstract\", \":\", \" '\", \"The\", \" number\", \" $\", \"R\", \"(\", \"\\n\"], \"activations\": [[[0.0]], [[0.0]], [[0.0]], [[0.0]], [[0.0]], [[0.0]], [[0.0]], [[0.0]], [[0.0]], [[0.0]], [[0.0]], [[0.0]], [[0.0]], [[0.0]], [[0.2638123631477356]], [[0.0]], [[1.1685969829559326]], [[0.0]], [[0.0]], [[0.015925168991088867]], [[0.0]], [[0.287971556186676]], [[0.7995910048484802]], [[0.0]], [[4.251371383666992]], [[0.0]], [[0.0]], [[0.0]], [[0.0]], [[0.0]], [[0.0]], [[0.0]], [[0.0]], [[0.0]], [[3.9340250492095947]], [[0.3454362750053406]], [[3.750744581222534]], [[0.0]], [[0.7911836504936218]], [[0.0029225945472717285]], [[4.223040580749512]], [[0.0]], [[0.0]], [[0.0]], [[0.0]], [[0.0]], [[0.0]], [[0.0]], [[0.19771379232406616]], [[0.21480602025985718]], [[0.925739586353302]], [[0.15458744764328003]], [[1.3485443592071533]], [[0.0]], [[0.31094545125961304]], [[0.4839518666267395]], [[4.18449068069458]], [[0.0]], [[0.0]], [[0.0]], [[0.0]], [[0.0]], [[0.0]], [[0.0]], [[0.0]], [[0.0]], [[3.934014081954956]], [[0.34542232751846313]], [[3.750650644302368]], [[0.0]], [[0.79121333360672]], [[0.00289839506149292]], [[4.222997188568115]], [[0.09610724449157715]], [[4.1693315505981445]], [[0.0]], [[0.0]], [[0.0]], [[0.0]], [[0.0]], [[0.0]], [[0.0]], [[0.0]], [[0.0]], [[0.0]], [[0.19332247972488403]], [[0.0]], [[3.964319944381714]], [[0.0]], [[0.0]], [[0.0]], [[0.0]], [[0.0]], [[0.0]], [[0.0]], [[0.0]], [[0.0]], [[3.9340531826019287]], [[0.0]], [[0.0]], [[0.0]], [[0.0]], [[0.0]], [[0.0]], [[0.0]], [[0.13721400499343872]], [[0.0]], [[1.1205828189849854]], [[0.0]], [[0.0]], [[0.1457931399345398]], [[0.4925228953361511]], [[0.0]], [[0.9585587382316589]], [[0.6136205792427063]], [[0.4400424361228943]], [[1.231208086013794]], [[0.0]], [[3.808851957321167]], [[0.0]], [[0.6917464137077332]], [[0.0]], [[3.8655011653900146]], [[0.0]], [[0.0]], [[0.0]], [[0.0]], [[0.0]], [[0.0]], [[0.0]], [[0.0]], [[3.862872362136841]], [[0.0]], [[0.0]], [[0.0]], [[0.0]], [[0.0]], [[0.0]], [[0.0]], [[0.13721400499343872]], [[0.0]], [[1.1205828189849854]], [[0.0]], [[0.0]], [[0.1457931399345398]], [[0.4925228953361511]], [[0.0]], [[0.9585587382316589]], [[0.6136205792427063]], [[0.4400424361228943]], [[1.231208086013794]], [[0.0]], [[3.808851957321167]], [[0.0]], [[0.0]], [[0.0]], [[0.0]], [[0.0]], [[0.0]], [[0.0]], [[0.0]], [[0.0]], [[0.0]], [[3.796917676925659]], [[0.0]]], \"firstDimensionName\": \"Attn Param\", \"secondDimensionName\": \"Feature\", \"firstDimensionLabels\": [\"Layer:4/Head:5/W_K\"], \"secondDimensionLabels\": [\"80\"]}\n",
       "    )\n",
       "    </script>"
      ],
      "text/plain": [
       "<circuitsvis.utils.render.RenderedHTML at 0x7f62e419f5d0>"
      ]
     },
     "metadata": {},
     "output_type": "display_data"
    },
    {
     "data": {
      "text/html": [
       "<div id=\"circuits-vis-defab319-9c8b\" style=\"margin: 15px 0;\"/>\n",
       "    <script crossorigin type=\"module\">\n",
       "    import { render, TextNeuronActivations } from \"https://unpkg.com/circuitsvis@1.40.1/dist/cdn/esm.js\";\n",
       "    render(\n",
       "      \"circuits-vis-defab319-9c8b\",\n",
       "      TextNeuronActivations,\n",
       "      {\"tokens\": [\"<\", \"section\", \" class\", \"=\\\"\", \"notice\", \"-\", \"previous\", \"\\\">\", \"\\\\newline\", \"  \", \"<\", \"div\", \" class\", \"=\\\"\", \"container\", \" text\", \"-\", \"center\", \"\\\">\", \"\\\\newline\", \"    \", \"<\", \"\\n\", \"Q\", \":\", \"\\\\newline\", \"\\\\newline\", \"Issue\", \" with\", \" jquery\", \" remove\", \" method\", \" on\", \" IE\", \"7\", \"?\", \"\\\\newline\", \"\\\\newline\", \"<\", \"table\", \" class\", \"=\\\"\", \"my\", \"Custom\", \"ers\", \"\\\">\", \"\\\\newline\", \" <\", \"\\n\", \"\\ufeff\", \"<!\", \"DOCTYPE\", \" html\", \">\", \"\\\\newline\", \"<!--\", \"[\", \"if\", \" IE\", \"]\", \"><\", \"![\", \"endif\", \"]--\", \">\", \"\\\\newline\", \"<\", \"html\", \">\", \"\\\\newline\", \"  \", \"\\\\newline\", \"  \", \"<\", \"\\n\", \"<!--\", \"index\", \".\", \"w\", \"xml\", \"-->\", \"\\r\", \"\\\\newline\", \"<\", \"view\", \" class\", \"=\\\"\", \"index\", \"\\\">\", \"\\r\\\\newline\", \"  \", \"<\", \"\\n\", \"<\", \"section\", \" class\", \"=\\\"\", \"notice\", \"-\", \"previous\", \"\\\">\", \"\\\\newline\", \"  \", \"<\", \"\\n\", \"<\", \"header\", \" class\", \"=\\\"\", \"header\", \"-\", \"wrapper\", \"\\\">\", \"\\\\newline\\\\newline\", \"  \", \"<\", \"nav\", \" class\", \"=\\\"\", \"inner\", \"\\\">\", \"\\\\newline\", \"    \", \"<\", \"\\n\", \"<!\", \"do\", \"ctype\", \" html\", \">\", \"\\\\newline\", \"<\", \"html\", \" lang\", \"=\\\"\", \"en\", \"\\\">\", \"\\\\newline\", \"<\", \"\\n\", \"<!\", \"do\", \"ctype\", \" html\", \">\", \"\\\\newline\", \"<\", \"html\", \" lang\", \"=\\\"\", \"en\", \"\\\">\", \"\\\\newline\", \"<\", \"\\n\", \"\\ufeff\", \"<!\", \"DOCTYPE\", \" html\", \">\", \"\\\\newline\", \"<!--\", \"[\", \"if\", \" IE\", \"]\", \"><\", \"![\", \"endif\", \"]--\", \">\", \"\\\\newline\", \"<\", \"\\n\", \"<!\", \"do\", \"ctype\", \" html\", \">\", \"\\\\newline\", \"<\", \"html\", \" lang\", \"=\\\"\", \"en\", \"\\\">\", \"\\\\newline\", \"<\", \"head\", \">\", \"\\\\newline\", \"    \", \"<\", \"\\n\"], \"activations\": [[[1.6304222345352173]], [[0.0]], [[0.0]], [[0.6752573251724243]], [[0.0]], [[0.0]], [[0.0]], [[0.05050849914550781]], [[0.0]], [[0.0]], [[7.1252336502075195]], [[1.997961163520813]], [[0.7800582647323608]], [[1.7645565271377563]], [[0.0]], [[0.022156357765197754]], [[0.2173527479171753]], [[0.0]], [[0.035466790199279785]], [[0.0]], [[0.24044883251190186]], [[7.608614921569824]], [[0.0]], [[0.0]], [[0.0]], [[0.0]], [[0.0]], [[0.0]], [[0.0]], [[0.0]], [[0.0]], [[0.0]], [[0.0]], [[0.0]], [[0.0]], [[0.0]], [[0.0]], [[0.0]], [[4.597201347351074]], [[0.8010238409042358]], [[0.07494676113128662]], [[1.0415014028549194]], [[0.0]], [[0.0]], [[0.0]], [[0.2418597936630249]], [[0.0]], [[7.4226484298706055]], [[0.0]], [[0.0]], [[1.988866925239563]], [[0.7978814840316772]], [[0.0]], [[0.0]], [[0.0]], [[2.3515443801879883]], [[2.014615535736084]], [[0.0]], [[0.0]], [[0.31857752799987793]], [[6.0013275146484375]], [[1.181327223777771]], [[0.0]], [[0.2834054231643677]], [[0.01303708553314209]], [[0.0]], [[6.932605743408203]], [[0.7403899431228638]], [[0.0]], [[0.0]], [[0.15231072902679443]], [[0.7447417974472046]], [[0.5438166856765747]], [[7.218301773071289]], [[0.0]], [[0.9569922685623169]], [[0.0]], [[0.0]], [[0.0]], [[0.0]], [[0.11009860038757324]], [[1.4918874502182007]], [[0.832513689994812]], [[5.990482807159424]], [[1.0844134092330933]], [[0.4340277910232544]], [[1.399962306022644]], [[0.0]], [[0.11161398887634277]], [[0.2652488946914673]], [[0.5505090951919556]], [[7.139849662780762]], [[0.0]], [[1.6304227113723755]], [[0.0]], [[0.0]], [[0.6753474473953247]], [[0.0]], [[0.0]], [[0.0]], [[0.05059170722961426]], [[0.0]], [[0.0]], [[7.125453948974609]], [[0.0]], [[1.6304222345352173]], [[0.0]], [[0.04676687717437744]], [[0.5208536386489868]], [[0.0]], [[0.29004812240600586]], [[0.0]], [[0.056658387184143066]], [[0.0]], [[0.1504150629043579]], [[6.366368770599365]], [[1.5919731855392456]], [[1.2561429738998413]], [[1.8103429079055786]], [[0.0]], [[0.5131576061248779]], [[0.005891680717468262]], [[0.25226283073425293]], [[6.978649139404297]], [[0.0]], [[1.1140280961990356]], [[0.0]], [[0.0]], [[0.0]], [[0.0]], [[0.0]], [[5.9809417724609375]], [[0.8783618211746216]], [[0.0]], [[0.0]], [[0.0]], [[0.0]], [[0.05422687530517578]], [[6.935305595397949]], [[0.0]], [[1.1140280961990356]], [[0.0]], [[0.0]], [[0.0]], [[0.0]], [[0.0]], [[5.9809417724609375]], [[0.8783618211746216]], [[0.0]], [[0.0]], [[0.0]], [[0.0]], [[0.05422687530517578]], [[6.935305595397949]], [[0.0]], [[0.0]], [[1.988866925239563]], [[0.7978814840316772]], [[0.0]], [[0.0]], [[0.0]], [[2.3515443801879883]], [[2.014615535736084]], [[0.0]], [[0.0]], [[0.31857752799987793]], [[6.0013275146484375]], [[1.181327223777771]], [[0.0]], [[0.2834054231643677]], [[0.01303708553314209]], [[0.0]], [[6.932605743408203]], [[0.0]], [[1.1140273809432983]], [[0.0]], [[0.0]], [[0.0]], [[0.0]], [[0.0]], [[5.980875015258789]], [[0.8783506155014038]], [[0.0]], [[0.0]], [[0.0]], [[0.0]], [[0.054227471351623535]], [[6.935305595397949]], [[0.8668514490127563]], [[0.03201699256896973]], [[0.0]], [[0.29209792613983154]], [[6.860624313354492]], [[0.0]]], \"firstDimensionName\": \"Attn Param\", \"secondDimensionName\": \"Feature\", \"firstDimensionLabels\": [\"Layer:4/Head:5/W_K\"], \"secondDimensionLabels\": [\"161\"]}\n",
       "    )\n",
       "    </script>"
      ],
      "text/plain": [
       "<circuitsvis.utils.render.RenderedHTML at 0x7f62e405fa10>"
      ]
     },
     "metadata": {},
     "output_type": "display_data"
    },
    {
     "data": {
      "text/html": [
       "<div id=\"circuits-vis-e88fea70-91f4\" style=\"margin: 15px 0;\"/>\n",
       "    <script crossorigin type=\"module\">\n",
       "    import { render, TextNeuronActivations } from \"https://unpkg.com/circuitsvis@1.40.1/dist/cdn/esm.js\";\n",
       "    render(\n",
       "      \"circuits-vis-e88fea70-91f4\",\n",
       "      TextNeuronActivations,\n",
       "      {\"tokens\": [\"\\\\[\", \"section\", \"\\\\]\", \" \\\\[\", \"theorem\", \"\\\\][\", \"Lemma\", \"]{}\", \" \\\\[\", \"\\n\", \"\\\\[\", \"section\", \"\\\\]\", \" \\\\[\", \"theorem\", \"\\\\][\", \"Lemma\", \"]{}\", \" \\\\[\", \"theorem\", \"\\\\][\", \"Proposition\", \"]{}\", \" \\\\[\", \"theorem\", \"\\\\][\", \"Cor\", \"ollary\", \"]{}\", \" \\\\[\", \"\\n\", \"\\\\[\", \"section\", \"\\\\]\", \" \\\\[\", \"\\n\", \"\\\\[\", \"section\", \"\\\\]\", \" \\\\[\", \"theorem\", \"\\\\][\", \"Lemma\", \"]{}\", \" \\\\[\", \"theorem\", \"\\\\][\", \"Proposition\", \"]{}\", \" \\\\[\", \"\\n\", \"---\", \"\\\\newline\", \"abstract\", \":\", \" '\", \"Fr\", \"anson\", \"\\u2019\", \"s\", \" Bell\", \" experiment\", \" with\", \" energy\", \"-\", \"time\", \" entanglement\", \" \\\\[\", \"\\n\", \"---\", \"\\\\newline\", \"abstract\", \":\", \" '\", \"In\", \"sp\", \"ired\", \" by\", \" the\", \" paper\", \" of\", \" Tas\", \"aka\", \" [@\", \"\\n\", \"1\", \".\", \" Historical\", \" Orig\", \"ins\", \" {#\", \"\\n\", \"\\\\[\", \"section\", \"\\\\]\", \" \\\\[\", \"theorem\", \"\\\\][\", \"Lemma\", \"]{}\", \" \\\\[\", \"theorem\", \"\\\\][\", \"\\n\", \"log\", \".\", \"level\", \"=${\", \"log\", \".\", \"level\", \"}\", \"\\\\newline\", \"log\", \".\", \"path\", \"=${\", \"\\n\", \"AGE\", \" hypothesis\", \" {#\", \"\\n\"], \"activations\": [[[1.2991472482681274]], [[1.3509818315505981]], [[0.0]], [[5.663788795471191]], [[1.9106215238571167]], [[1.8870841264724731]], [[0.43860089778900146]], [[0.0]], [[6.161548137664795]], [[0.0]], [[1.2991467714309692]], [[1.350955605506897]], [[0.0]], [[5.663804054260254]], [[1.910626769065857]], [[1.8870710134506226]], [[0.43864762783050537]], [[0.0]], [[6.161480903625488]], [[1.3672555685043335]], [[2.097982883453369]], [[0.0]], [[0.0]], [[5.329225540161133]], [[0.8254183530807495]], [[1.7438184022903442]], [[0.7616845369338989]], [[0.0]], [[0.0]], [[5.843984603881836]], [[0.0]], [[1.2991489171981812]], [[1.350972056388855]], [[0.0]], [[5.6638031005859375]], [[0.0]], [[1.2991482019424438]], [[1.3509739637374878]], [[0.0]], [[5.663908004760742]], [[1.9106460809707642]], [[1.8871053457260132]], [[0.4386552572250366]], [[0.0]], [[6.161470413208008]], [[1.3672770261764526]], [[2.0981688499450684]], [[0.0]], [[0.0]], [[5.329109191894531]], [[0.0]], [[0.0]], [[0.0]], [[0.0]], [[0.0]], [[0.536372184753418]], [[0.0]], [[0.0]], [[0.0]], [[0.0]], [[0.0]], [[0.0]], [[0.0]], [[0.0]], [[0.0]], [[0.0]], [[0.0]], [[4.20707893371582]], [[0.0]], [[0.0]], [[0.0]], [[0.0]], [[0.0]], [[0.5363153219223022]], [[0.0]], [[0.0]], [[0.0]], [[0.0]], [[0.0]], [[0.0]], [[0.0]], [[0.0]], [[0.0]], [[3.012019634246826]], [[0.0]], [[0.0]], [[0.0]], [[0.0]], [[0.0]], [[0.0]], [[2.3378491401672363]], [[0.0]], [[1.2991482019424438]], [[1.3509739637374878]], [[0.0]], [[5.663908004760742]], [[1.9106460809707642]], [[1.8871053457260132]], [[0.4386552572250366]], [[0.0]], [[6.161470413208008]], [[1.3672770261764526]], [[2.0981688499450684]], [[0.0]], [[0.0]], [[0.0]], [[0.0]], [[1.913575530052185]], [[0.0]], [[0.15981078147888184]], [[0.0]], [[0.0]], [[0.0]], [[0.0]], [[0.0]], [[0.0]], [[1.9789005517959595]], [[0.0]], [[0.0]], [[0.0]], [[1.9688204526901245]], [[0.0]]], \"firstDimensionName\": \"Attn Param\", \"secondDimensionName\": \"Feature\", \"firstDimensionLabels\": [\"Layer:4/Head:5/W_K\"], \"secondDimensionLabels\": [\"162\"]}\n",
       "    )\n",
       "    </script>"
      ],
      "text/plain": [
       "<circuitsvis.utils.render.RenderedHTML at 0x7f62e4071b50>"
      ]
     },
     "metadata": {},
     "output_type": "display_data"
    },
    {
     "data": {
      "text/html": [
       "<div id=\"circuits-vis-f37e0a8e-1937\" style=\"margin: 15px 0;\"/>\n",
       "    <script crossorigin type=\"module\">\n",
       "    import { render, TextNeuronActivations } from \"https://unpkg.com/circuitsvis@1.40.1/dist/cdn/esm.js\";\n",
       "    render(\n",
       "      \"circuits-vis-f37e0a8e-1937\",\n",
       "      TextNeuronActivations,\n",
       "      {\"tokens\": [\"Too\", \" many\", \" people\", \"\\n\", \"The\", \" closure\", \" of\", \" schools\", \" across\", \" the\", \" UK\", \" has\", \" left\", \" many\", \" parents\", \" and\", \" care\", \"rs\", \"\\n\", \"CI\", \"BC\", \" Poll\", \":\", \" Nearly\", \" half\", \" of\", \" all\", \" Canadians\", \"\\n\", \"Stand\", \" against\", \" threat\", \" from\", \" gay\", \" marriage\", \",\", \" head\", \" of\", \" the\", \" Catholic\", \" church\", \" will\", \" tell\", \" worsh\", \"ippers\", \"\\n\", \"How\", \" American\", \" males\", \" feel\", \" about\", \" themselves\", \" has\", \" been\", \" in\", \" a\", \" steady\", \" decline\", \" since\", \" the\", \" 2008\", \" recession\", \" \\u2013\", \" but\", \" Establ\", \"ishment\", \" p\", \"und\", \"its\", \"\\n\", \"The\", \" closure\", \" of\", \" schools\", \" across\", \" the\", \" UK\", \" has\", \" left\", \" many\", \" parents\", \"\\n\", \"Story\", \" about\", \" how\", \" thousands\", \" of\", \" college\", \" students\", \"\\n\", \"T\", \"ent\", \"ative\", \" Grad\", \"uation\", \" D\", \"ates\", \" Set\", \"\\\\newline\", \"\\\\newline\", \"I\", \" hope\", \" that\", \" everyone\", \"\\n\", \"I\", \" love\", \" it\", \" when\", \" people\", \"\\n\", \"From\", \" the\", \" Democracy\", \" for\", \" America\", \" email\", \":\", \"\\\\newline\", \"\\\\newline\", \"On\", \" Friday\", \",\", \" we\", \" asked\", \" D\", \"FA\", \" members\", \"\\n\"], \"activations\": [[[0.6858371496200562]], [[0.49798810482025146]], [[5.300137519836426]], [[0.0]], [[0.3862088918685913]], [[0.0]], [[0.0]], [[1.3185325860977173]], [[0.1807938814163208]], [[0.0]], [[1.0519167184829712]], [[0.0]], [[0.0]], [[1.142985463142395]], [[5.010023593902588]], [[0.33170151710510254]], [[0.3257995843887329]], [[5.2811408042907715]], [[0.0]], [[0.7111784219741821]], [[1.010527491569519]], [[0.0]], [[0.0]], [[0.28390586376190186]], [[1.4364060163497925]], [[0.8287705183029175]], [[1.4392307996749878]], [[5.144735813140869]], [[0.0]], [[0.030416369438171387]], [[0.0]], [[0.0]], [[0.0]], [[0.0]], [[0.2838912010192871]], [[0.0]], [[0.0]], [[0.0]], [[0.0]], [[0.15474224090576172]], [[2.0497169494628906]], [[1.295111060142517]], [[0.0]], [[0.19997799396514893]], [[5.102895259857178]], [[0.0]], [[0.4315747022628784]], [[0.0]], [[1.1606613397598267]], [[0.0]], [[0.0]], [[1.1231023073196411]], [[0.0]], [[0.0]], [[0.0]], [[0.0]], [[0.0]], [[0.6794663667678833]], [[0.0]], [[0.0]], [[0.0]], [[0.0]], [[0.0]], [[0.0]], [[0.0]], [[0.5102556943893433]], [[0.0]], [[0.0]], [[5.078895092010498]], [[0.0]], [[0.3862088918685913]], [[0.0]], [[0.0]], [[1.3185325860977173]], [[0.1807938814163208]], [[0.0]], [[1.0519167184829712]], [[0.0]], [[0.0]], [[1.142985463142395]], [[5.010023593902588]], [[0.0]], [[0.82463538646698]], [[0.22983825206756592]], [[0.4471101760864258]], [[1.536049723625183]], [[0.7329431772232056]], [[1.1587573289871216]], [[4.988810062408447]], [[0.0]], [[0.0]], [[0.0]], [[0.0]], [[0.0]], [[0.0]], [[0.0]], [[0.0]], [[0.0]], [[0.0]], [[0.0]], [[0.0]], [[0.0]], [[0.0]], [[4.971100807189941]], [[0.0]], [[1.0230053663253784]], [[0.0]], [[0.0]], [[0.3134192228317261]], [[4.965865612030029]], [[0.0]], [[0.011404633522033691]], [[0.0]], [[0.0]], [[0.0]], [[1.3201285600662231]], [[0.0]], [[0.0]], [[0.0]], [[0.0]], [[0.0]], [[0.0]], [[0.0]], [[0.879285454750061]], [[0.0]], [[0.0]], [[1.7853885889053345]], [[4.952860355377197]], [[0.0]]], \"firstDimensionName\": \"Attn Param\", \"secondDimensionName\": \"Feature\", \"firstDimensionLabels\": [\"Layer:4/Head:5/W_K\"], \"secondDimensionLabels\": [\"171\"]}\n",
       "    )\n",
       "    </script>"
      ],
      "text/plain": [
       "<circuitsvis.utils.render.RenderedHTML at 0x7f62e408d5d0>"
      ]
     },
     "metadata": {},
     "output_type": "display_data"
    },
    {
     "data": {
      "text/html": [
       "<div id=\"circuits-vis-ac744ce5-5e6b\" style=\"margin: 15px 0;\"/>\n",
       "    <script crossorigin type=\"module\">\n",
       "    import { render, TextNeuronActivations } from \"https://unpkg.com/circuitsvis@1.40.1/dist/cdn/esm.js\";\n",
       "    render(\n",
       "      \"circuits-vis-ac744ce5-5e6b\",\n",
       "      TextNeuronActivations,\n",
       "      {\"tokens\": [\"{\", \"\\\\newline\", \"  \", \"\\\"\", \"f\", \"ps\", \"Limit\", \"\\\":\", \" 60\", \",\", \"\\\\newline\", \"  \", \"\\\"\", \"pres\", \"et\", \"\\\":\", \" \\\"\", \"basic\", \"\\\",\", \"\\\\newline\", \"  \", \"\\\"\", \"background\", \"\\n\", \"export\", \" *\", \" from\", \" './\", \"styles\", \"'\", \"\\\\newline\", \"export\", \" *\", \" from\", \" './\", \"access\", \"ibility\", \"'\", \"\\\\newline\", \"export\", \" *\", \" from\", \" './\", \"common\", \"\\n\", \"The\", \" two\", \" classes\", \" `\", \"K\", \"ines\", \"is\", \"Rec\", \"order\", \"`\", \" and\", \" `\", \"K\", \"ines\", \"is\", \"Fire\", \"\\n\", \"export\", \" *\", \" from\", \" './\", \"styles\", \"'\", \"\\\\newline\", \"export\", \" *\", \" from\", \" './\", \"access\", \"ibility\", \"\\n\", \"Cy\", \"thon\", \"==\", \"0\", \".\", \"29\", \".\", \"21\", \"\\\\newline\", \"n\", \"umpy\", \"==\", \"1\", \".\", \"19\", \".\", \"1\", \"\\\\newline\", \"cache\", \"tools\", \"\\n\", \"#\", \"include\", \" <\", \"windows\", \".\", \"h\", \">\", \"\\\\newline\", \"#\", \"include\", \" \\\"\", \"ias\", \"iod\", \"rv\", \".\", \"h\", \"\\\"\", \"\\\\newline\", \"#\", \"include\", \" \\\"\", \"asi\", \"\\n\", \"const\", \" nest\", \" =\", \" require\", \"('\", \"dep\", \"nest\", \"')\", \"\\\\newline\", \"const\", \" Value\", \" =\", \" require\", \"('\", \"mut\", \"ant\", \"/\", \"value\", \"')\", \"\\\\newline\", \"const\", \" once\", \"True\", \"\\n\", \"export\", \" enum\", \" Notification\", \"Animation\", \"Type\", \" {\", \"\\\\newline\", \"  \", \"F\", \"ade\", \" =\", \" '\", \"fade\", \"',\", \"\\\\newline\", \"  \", \"From\", \"Top\", \"\\n\", \"The\", \" two\", \" classes\", \" `\", \"K\", \"ines\", \"is\", \"Rec\", \"order\", \"`\", \" and\", \" `\", \"K\", \"ines\", \"is\", \"Fire\", \"h\", \"ose\", \"\\n\", \"const\", \" nest\", \" =\", \" require\", \"('\", \"dep\", \"nest\", \"')\", \"\\\\newline\", \"const\", \" Value\", \" =\", \" require\", \"('\", \"mut\", \"ant\", \"/\", \"value\", \"')\", \"\\\\newline\", \"const\", \" once\", \"\\n\"], \"activations\": [[[0.0]], [[0.0]], [[0.0]], [[0.0]], [[0.2420501708984375]], [[0.15334880352020264]], [[0.654478907585144]], [[0.0]], [[0.0]], [[0.0]], [[0.0]], [[0.0]], [[0.32790815830230713]], [[1.7275029420852661]], [[1.9658533334732056]], [[0.0]], [[0.0]], [[0.0]], [[0.0]], [[0.0]], [[0.0]], [[0.21396124362945557]], [[3.0754895210266113]], [[0.0]], [[0.0]], [[0.0]], [[0.0]], [[0.0]], [[0.06208956241607666]], [[0.0]], [[0.0]], [[0.0]], [[0.0]], [[0.4032301902770996]], [[0.13472867012023926]], [[1.9405893087387085]], [[2.214738368988037]], [[0.0]], [[0.0]], [[0.0]], [[0.0]], [[1.2184773683547974]], [[0.8255933523178101]], [[2.934448719024658]], [[0.0]], [[0.0]], [[0.0]], [[0.0]], [[0.0]], [[0.3477747440338135]], [[0.4130973815917969]], [[0.5508449077606201]], [[1.2420097589492798]], [[0.9416595697402954]], [[0.0]], [[0.0]], [[0.0]], [[0.0]], [[0.30257439613342285]], [[1.153239130973816]], [[2.2994275093078613]], [[0.0]], [[0.0]], [[0.0]], [[0.0]], [[0.0]], [[0.06206560134887695]], [[0.0]], [[0.0]], [[0.0]], [[0.0]], [[0.4032036066055298]], [[0.13461995124816895]], [[1.9406541585922241]], [[2.2147631645202637]], [[0.0]], [[0.1593400239944458]], [[0.0]], [[0.0]], [[0.0]], [[0.0]], [[0.0]], [[0.0]], [[0.0]], [[0.0]], [[0.6750340461730957]], [[1.1497858762741089]], [[0.464328408241272]], [[0.0]], [[0.0]], [[0.0]], [[0.0]], [[0.0]], [[0.06657254695892334]], [[1.737836480140686]], [[2.204965114593506]], [[0.0]], [[0.0]], [[0.0]], [[0.0]], [[0.19375920295715332]], [[0.0]], [[0.0]], [[0.0]], [[0.0]], [[0.0]], [[0.22002828121185303]], [[1.0277231931686401]], [[1.0981110334396362]], [[1.9227017164230347]], [[1.3193844556808472]], [[0.8778916597366333]], [[0.12885797023773193]], [[0.0]], [[0.0]], [[0.0]], [[0.0]], [[0.8485699892044067]], [[2.147658348083496]], [[0.0]], [[0.0]], [[0.0]], [[0.0]], [[0.0]], [[0.0]], [[0.0]], [[0.0]], [[0.0]], [[0.0]], [[0.0]], [[0.6286766529083252]], [[0.0]], [[0.0]], [[0.0]], [[0.0]], [[0.0]], [[0.07476556301116943]], [[0.0]], [[0.0]], [[0.0]], [[0.2533777952194214]], [[1.9971696138381958]], [[2.146693706512451]], [[0.0]], [[0.0]], [[0.0]], [[0.12484169006347656]], [[0.5600482225418091]], [[0.0]], [[0.0]], [[0.0]], [[0.05986487865447998]], [[1.0068708658218384]], [[1.0769563913345337]], [[0.0]], [[0.0]], [[0.0]], [[0.0]], [[0.0]], [[0.21526896953582764]], [[1.4139574766159058]], [[2.136892318725586]], [[0.0]], [[0.0]], [[0.0]], [[0.0]], [[0.0]], [[0.3477722406387329]], [[0.41309845447540283]], [[0.5508469343185425]], [[1.2420092821121216]], [[0.9416550397872925]], [[0.0]], [[0.0]], [[0.0]], [[0.0]], [[0.3026697635650635]], [[1.1532355546951294]], [[2.2994117736816406]], [[1.6373988389968872]], [[2.062685012817383]], [[0.0]], [[0.0]], [[0.0]], [[0.0]], [[0.0]], [[0.0]], [[0.0]], [[0.0]], [[0.0]], [[0.0]], [[0.0]], [[0.6286766529083252]], [[0.0]], [[0.0]], [[0.0]], [[0.0]], [[0.0]], [[0.07476556301116943]], [[0.0]], [[0.0]], [[0.0]], [[0.2533777952194214]], [[1.9971696138381958]], [[0.0]]], \"firstDimensionName\": \"Attn Param\", \"secondDimensionName\": \"Feature\", \"firstDimensionLabels\": [\"Layer:4/Head:5/W_K\"], \"secondDimensionLabels\": [\"177\"]}\n",
       "    )\n",
       "    </script>"
      ],
      "text/plain": [
       "<circuitsvis.utils.render.RenderedHTML at 0x7f62e4093ad0>"
      ]
     },
     "metadata": {},
     "output_type": "display_data"
    },
    {
     "data": {
      "text/html": [
       "<div id=\"circuits-vis-c3e3e9fa-7f93\" style=\"margin: 15px 0;\"/>\n",
       "    <script crossorigin type=\"module\">\n",
       "    import { render, TextNeuronActivations } from \"https://unpkg.com/circuitsvis@1.40.1/dist/cdn/esm.js\";\n",
       "    render(\n",
       "      \"circuits-vis-c3e3e9fa-7f93\",\n",
       "      TextNeuronActivations,\n",
       "      {\"tokens\": [\"{%\", \" load\", \" static\", \" %}\", \"\\\\newline\", \"<\", \"script\", \" src\", \"=\\\"{\", \"%\", \" static\", \" '\", \"\\n\", \"<?\", \"php\", \"\\\\newline\", \"//\", \" He\", \"ading\", \"\\\\newline\", \"$_\", \"['\", \"heading\", \"_\", \"title\", \"']\", \"     \", \"=\", \" '\", \"\\n\", \"export\", \" enum\", \" Notification\", \"Animation\", \"Type\", \" {\", \"\\\\newline\", \"  \", \"F\", \"ade\", \" =\", \" '\", \"\\n\", \"js\", \"Tool\", \"Bar\", \".\", \"strings\", \" =\", \" {};\", \"\\\\newline\", \"js\", \"Tool\", \"Bar\", \".\", \"strings\", \"['\", \"Strong\", \"']\", \" =\", \" '\", \"\\n\", \"import\", \" sqlite\", \"3\", \"\\\\newline\", \"import\", \" time\", \"\\\\newline\", \"import\", \" datetime\", \"\\\\newline\\\\newline\", \"\\\\newline\", \"conn\", \" =\", \" sqlite\", \"3\", \".\", \"connect\", \"('\", \"\\n\", \"(\", \"function\", \"($\", \"K\", \")\", \"\\\\newline\", \"{\", \"\\\\newline\", \"    \", \"$\", \"K\", \".\", \"add\", \"('\", \"\\n\", \"require\", \"([\", \"\\\\newline\", \"  \", \"'\", \"git\", \"book\", \"'\", \"\\\\newline\", \"],\", \" function\", \" (\", \"git\", \"book\", \")\", \" {\", \"\\\\newline\", \"  \", \"git\", \"book\", \".\", \"events\", \".\", \"bind\", \"('\", \"\\n\", \"{\", \"\\\\newline\", \"  \", \"\\\"\", \"pag\", \"ination\", \"\\\":\", \" {\", \"\\\\newline\", \"    \", \"\\\"\", \"Get\", \"Bot\", \"Ali\", \"ases\", \"\\\":\", \" {\", \"\\\\newline\", \"      \", \"\\\"\", \"input\", \"_\", \"token\", \"\\\":\", \" \\\"\", \"\\n\", \"@\", \"import\", \" url\", \"(\\\"\", \"\\n\", \"describe\", \" Word\", \"move\", \"::\", \"Doctor\", \"::\", \"M\", \"ys\", \"ql\", \" do\", \"\\\\newline\", \"  \", \"let\", \"(:\", \"move\", \"file\", \"_\", \"name\", \")\", \" {\", \" '\", \"\\n\"], \"activations\": [[[0.0]], [[0.0]], [[0.0]], [[1.0238088369369507]], [[0.0]], [[1.108453392982483]], [[0.0]], [[0.4712789058685303]], [[3.008962631225586]], [[1.8628848791122437]], [[0.7908700704574585]], [[5.114285469055176]], [[0.0]], [[0.0]], [[0.0]], [[0.0]], [[0.6562650203704834]], [[0.0]], [[0.0]], [[0.0]], [[0.8596369028091431]], [[3.3399806022644043]], [[0.42380475997924805]], [[1.0477157831192017]], [[0.2753061056137085]], [[0.5131403207778931]], [[0.6277369260787964]], [[1.1636279821395874]], [[4.990149021148682]], [[0.0]], [[0.0]], [[0.04200899600982666]], [[0.0]], [[0.0]], [[0.0]], [[2.055750846862793]], [[0.0]], [[0.775962233543396]], [[0.5005743503570557]], [[0.0]], [[0.5022073984146118]], [[4.876846790313721]], [[0.0]], [[0.0]], [[0.0]], [[0.0]], [[0.0]], [[0.0]], [[0.8953765630722046]], [[0.4391978979110718]], [[0.0]], [[0.0]], [[0.0]], [[0.0]], [[0.8071094751358032]], [[0.0]], [[3.407461643218994]], [[0.30856192111968994]], [[0.2684495449066162]], [[0.36480677127838135]], [[4.793252468109131]], [[0.0]], [[0.0]], [[0.0]], [[0.0]], [[0.0]], [[0.0]], [[0.0]], [[0.0]], [[0.0]], [[0.0]], [[0.0]], [[0.0]], [[0.0]], [[0.0]], [[0.0]], [[0.0]], [[0.3335690498352051]], [[0.0]], [[4.792933940887451]], [[0.0]], [[0.0]], [[0.1278231143951416]], [[2.1934847831726074]], [[0.20351123809814453]], [[0.29339051246643066]], [[0.0]], [[0.3911341428756714]], [[0.0]], [[0.0]], [[0.41869962215423584]], [[0.0]], [[0.13765287399291992]], [[0.0]], [[4.7860636711120605]], [[0.0]], [[0.0]], [[2.02958345413208]], [[0.0]], [[1.1153167486190796]], [[3.4492387771606445]], [[0.5447829961776733]], [[0.0]], [[1.1739405393600464]], [[0.0]], [[0.5291703939437866]], [[0.712382435798645]], [[1.510245680809021]], [[0.0]], [[0.0]], [[0.0]], [[0.40172410011291504]], [[0.0]], [[0.05296921730041504]], [[0.0]], [[0.0]], [[0.6515482664108276]], [[0.0]], [[1.169986605644226]], [[0.0]], [[4.641585350036621]], [[0.0]], [[0.0]], [[0.0]], [[0.0]], [[2.6892924308776855]], [[0.21560537815093994]], [[0.0]], [[0.43425238132476807]], [[1.429993987083435]], [[0.07882773876190186]], [[0.7116235494613647]], [[3.0567007064819336]], [[0.9759320020675659]], [[0.0]], [[0.4551483392715454]], [[0.8014289140701294]], [[0.8787208795547485]], [[1.638330340385437]], [[0.26827871799468994]], [[0.7551006078720093]], [[3.398144245147705]], [[0.6482506990432739]], [[1.3290585279464722]], [[0.6092861890792847]], [[1.3829320669174194]], [[4.554220676422119]], [[0.0]], [[0.0]], [[1.0330451726913452]], [[1.0063174962997437]], [[4.515531063079834]], [[0.0]], [[0.0]], [[0.0]], [[0.0]], [[0.0]], [[0.0]], [[0.03547048568725586]], [[0.0]], [[0.0]], [[0.0]], [[0.0]], [[0.0]], [[0.19007432460784912]], [[0.6036840677261353]], [[2.3426365852355957]], [[0.0]], [[0.0]], [[0.34712374210357666]], [[0.0]], [[0.4528447389602661]], [[1.9363456964492798]], [[4.507054805755615]], [[0.0]]], \"firstDimensionName\": \"Attn Param\", \"secondDimensionName\": \"Feature\", \"firstDimensionLabels\": [\"Layer:4/Head:5/W_K\"], \"secondDimensionLabels\": [\"194\"]}\n",
       "    )\n",
       "    </script>"
      ],
      "text/plain": [
       "<circuitsvis.utils.render.RenderedHTML at 0x7f62e408e710>"
      ]
     },
     "metadata": {},
     "output_type": "display_data"
    },
    {
     "data": {
      "text/html": [
       "<div id=\"circuits-vis-f00b3bfa-b6e1\" style=\"margin: 15px 0;\"/>\n",
       "    <script crossorigin type=\"module\">\n",
       "    import { render, TextNeuronActivations } from \"https://unpkg.com/circuitsvis@1.40.1/dist/cdn/esm.js\";\n",
       "    render(\n",
       "      \"circuits-vis-f00b3bfa-b6e1\",\n",
       "      TextNeuronActivations,\n",
       "      {\"tokens\": [\"Q\", \":\", \"\\\\newline\", \"\\\\newline\", \"Eval\", \"uating\", \" $\\\\\", \"int\", \" \\\\\", \"sqrt\", \"{\", \"x\", \"}\\\\\", \"ln\", \"(\", \"2\", \"x\", \")\\\\\", \":\\\\\", \"mathrm\", \"\\n\", \"Q\", \":\", \"\\\\newline\", \"\\\\newline\", \"Sim\", \"pl\", \"est\", \" proof\", \" that\", \" $\\\\\", \"binom\", \"{\", \"n\", \"}{\", \"k\", \"}\", \" \\\\\", \"leq\", \" \\\\\", \"left\", \"\\n\", \"Q\", \":\", \"\\\\newline\", \"\\\\newline\", \"Is\", \" the\", \" sum\", \" of\", \" separating\", \" vectors\", \" always\", \" separating\", \"?\", \"\\\\newline\", \"\\\\newline\", \"If\", \" $\\\\\", \"mathcal\", \"\\n\", \"Q\", \":\", \"\\\\newline\", \"\\\\newline\", \"Sim\", \"pl\", \"est\", \" proof\", \" that\", \" $\\\\\", \"binom\", \"\\n\", \"Q\", \":\", \"\\\\newline\", \"\\\\newline\", \"Following\", \" definite\", \" integral\", \"\\\\newline\", \"\\\\newline\", \"Here\", \" is\", \" the\", \" integral\", \":\", \"\\\\newline\", \"$$\\\\\", \"int\", \"_{\", \"0\", \"}^{\", \"2\", \"}\\\\\", \"sqrt\", \"\\n\", \"Q\", \":\", \"\\\\newline\", \"\\\\newline\", \"Eval\", \"uating\", \" $\\\\\", \"int\", \"\\n\", \"Q\", \":\", \"\\\\newline\", \"\\\\newline\", \"L\", \"imits\", \" -\", \" prove\", \" or\", \" dis\", \"prove\", \"\\\\newline\", \"\\\\newline\", \"If\", \" $\\\\\", \"lim\", \"\\n\", \"Q\", \":\", \"\\\\newline\", \"\\\\newline\", \"Integr\", \"als\", \" of\", \" $\\\\\", \"int\", \"\\n\", \"Q\", \":\", \"\\\\newline\", \"\\\\newline\", \"Cal\", \"culation\", \" of\", \" integers\", \" $\", \"b\", \",\", \"c\", \",\", \"d\", \",\", \"e\", \",\", \"f\", \",\", \"g\", \"$\", \" such\", \" that\", \" $\\\\\", \"frac\", \"\\n\", \"Q\", \":\", \"\\\\newline\", \"\\\\newline\", \"Sim\", \"pl\", \"est\", \" proof\", \" that\", \" $\\\\\", \"binom\", \"{\", \"n\", \"}{\", \"k\", \"}\", \" \\\\\", \"leq\", \" \\\\\", \"left\", \"(\\\\\", \"frac\", \"\\n\"], \"activations\": [[[0.0]], [[0.0]], [[0.0]], [[0.0]], [[0.0]], [[0.0]], [[0.2205582857131958]], [[4.770320415496826]], [[1.1142654418945312]], [[4.52463436126709]], [[0.680931568145752]], [[0.0]], [[0.0]], [[4.380302429199219]], [[0.8297958374023438]], [[0.4692802429199219]], [[0.0]], [[0.0]], [[2.531918525695801]], [[5.1336493492126465]], [[0.0]], [[0.0]], [[0.0]], [[0.0]], [[0.0]], [[0.0]], [[0.0]], [[0.0]], [[0.0]], [[0.0]], [[0.3792452812194824]], [[4.873961448669434]], [[0.5485594272613525]], [[0.0]], [[0.0]], [[0.0]], [[0.1933366060256958]], [[0.03233456611633301]], [[2.6947617530822754]], [[0.47182512283325195]], [[5.110472202301025]], [[0.0]], [[0.0]], [[0.0]], [[0.0]], [[0.0]], [[0.0]], [[0.0]], [[0.0]], [[0.0]], [[0.0]], [[0.0]], [[0.0]], [[0.0]], [[0.0]], [[0.0]], [[0.0]], [[0.0]], [[0.4068140983581543]], [[4.876871109008789]], [[0.0]], [[0.0]], [[0.0]], [[0.0]], [[0.0]], [[0.0]], [[0.0]], [[0.0]], [[0.0]], [[0.0]], [[0.3792259693145752]], [[4.873950004577637]], [[0.0]], [[0.0]], [[0.0]], [[0.0]], [[0.0]], [[0.0]], [[0.0]], [[0.0]], [[0.0]], [[0.0]], [[0.0]], [[0.0]], [[0.0]], [[0.40128374099731445]], [[0.0]], [[0.0]], [[0.271625280380249]], [[4.594480991363525]], [[0.16312849521636963]], [[0.09252762794494629]], [[0.0]], [[0.28504133224487305]], [[0.3684239387512207]], [[4.804597854614258]], [[0.0]], [[0.0]], [[0.0]], [[0.0]], [[0.0]], [[0.0]], [[0.0]], [[0.2205660343170166]], [[4.770359992980957]], [[0.0]], [[0.0]], [[0.0]], [[0.0]], [[0.0]], [[0.0]], [[0.0]], [[0.0]], [[0.0]], [[0.0]], [[0.0]], [[0.0]], [[0.0]], [[0.0]], [[0.0]], [[0.5572454929351807]], [[4.752877712249756]], [[0.0]], [[0.0]], [[0.0]], [[0.0]], [[0.0]], [[0.0]], [[0.0]], [[0.0]], [[0.490398645401001]], [[4.752498149871826]], [[0.0]], [[0.0]], [[0.0]], [[0.0]], [[0.0]], [[0.0]], [[0.02849268913269043]], [[0.0]], [[0.0]], [[0.0]], [[0.0]], [[0.0]], [[0.0]], [[0.0]], [[0.0]], [[0.0]], [[0.0]], [[0.0]], [[0.0]], [[0.0]], [[0.0]], [[0.0]], [[0.0]], [[0.0]], [[0.11345040798187256]], [[4.7097859382629395]], [[0.0]], [[0.0]], [[0.0]], [[0.0]], [[0.0]], [[0.0]], [[0.0]], [[0.0]], [[0.0]], [[0.0]], [[0.3792452812194824]], [[4.873961448669434]], [[0.5485594272613525]], [[0.0]], [[0.0]], [[0.0]], [[0.1933366060256958]], [[0.03233456611633301]], [[2.6947617530822754]], [[0.47182512283325195]], [[5.110472202301025]], [[2.00948429107666]], [[4.686313629150391]], [[0.0]]], \"firstDimensionName\": \"Attn Param\", \"secondDimensionName\": \"Feature\", \"firstDimensionLabels\": [\"Layer:4/Head:5/W_K\"], \"secondDimensionLabels\": [\"213\"]}\n",
       "    )\n",
       "    </script>"
      ],
      "text/plain": [
       "<circuitsvis.utils.render.RenderedHTML at 0x7f62e409c690>"
      ]
     },
     "metadata": {},
     "output_type": "display_data"
    },
    {
     "data": {
      "text/html": [
       "<div id=\"circuits-vis-5bf0a75a-b183\" style=\"margin: 15px 0;\"/>\n",
       "    <script crossorigin type=\"module\">\n",
       "    import { render, TextNeuronActivations } from \"https://unpkg.com/circuitsvis@1.40.1/dist/cdn/esm.js\";\n",
       "    render(\n",
       "      \"circuits-vis-5bf0a75a-b183\",\n",
       "      TextNeuronActivations,\n",
       "      {\"tokens\": [\"use\", \" az\", \"ure\", \"_\", \"sdk\", \"_\", \"storage\", \"_\", \"core\", \"::\", \"{\", \"Endpoint\", \"Protocol\", \",\", \" Connection\", \"String\", \"Builder\", \"};\", \"\\\\newline\", \"\\\\newline\", \"pub\", \" fn\", \"\\n\", \"import\", \" {\", \"M\", \"igration\", \"Interface\", \",\", \" Query\", \"Runner\", \"}\", \" from\", \" '\", \"type\", \"orm\", \"';\", \"\\\\newline\", \"\\\\newline\", \"export\", \" class\", \"\\n\", \"import\", \" *\", \" as\", \" React\", \" from\", \"'re\", \"act\", \"';\", \"\\\\newline\", \"import\", \"\\n\", \"import\", \" React\", \" from\", \"'re\", \"act\", \"';\", \"\\\\newline\", \"import\", \"\\n\", \"import\", \" React\", \" from\", \"'re\", \"act\", \"';\", \"\\\\newline\", \"import\", \"\\n\", \"require\", \" \\\"\", \"backup\", \"/\", \"config\", \"/\", \"ds\", \"l\", \"\\\"\", \"\\\\newline\", \"require\", \" \\\"\", \"backup\", \"/\", \"config\", \"/\", \"hel\", \"pers\", \"\\\"\", \"\\\\newline\", \"\\\\newline\", \"module\", \"\\n\", \"import\", \" React\", \" from\", \"'re\", \"act\", \"';\", \"\\\\newline\", \"import\", \" Prop\", \"Types\", \" from\", \" '\", \"prop\", \"-\", \"types\", \"';\", \"\\\\newline\", \"import\", \"\\n\", \"import\", \" React\", \" from\", \"'re\", \"act\", \"';\", \"\\\\newline\", \"import\", \" Prop\", \"Types\", \" from\", \" '\", \"prop\", \"-\", \"types\", \"';\", \"\\\\newline\", \"import\", \" moment\", \" from\", \"'m\", \"om\", \"ent\", \"';\", \"\\\\newline\", \"import\", \"\\n\", \"import\", \" fetch\", \" from\", \" '\", \"d\", \"va\", \"/\", \"fetch\", \"';\", \"\\\\newline\", \"import\", \" {\", \" notification\", \" }\", \" from\", \" '\", \"ant\", \"d\", \"';\", \"\\\\newline\", \"\\\\newline\", \"function\", \"\\n\", \"import\", \" {\", \" db\", \" }\", \" from\", \" \\\"\", \"../../\", \"lib\", \"/\", \"m\", \"ongo\", \"\\\"\", \"\\\\newline\", \"import\", \" parse\", \" from\", \" \\\"\", \"../../\", \"lib\", \"/\", \"parse\", \"\\\"\", \"\\\\newline\", \"\\\\newline\", \"class\", \"\\n\"], \"activations\": [[[0.0]], [[0.9777268171310425]], [[0.0]], [[0.0]], [[0.0]], [[0.0]], [[0.0]], [[0.0]], [[0.0]], [[0.26068413257598877]], [[0.7192846536636353]], [[0.0]], [[0.0]], [[0.0]], [[0.0]], [[0.0]], [[0.0]], [[0.0]], [[0.0]], [[0.0]], [[2.5603084564208984]], [[6.396448135375977]], [[0.0]], [[1.0976241827011108]], [[3.1322250366210938]], [[0.7651581764221191]], [[0.0]], [[0.2508479356765747]], [[0.9120093584060669]], [[0.0]], [[0.0]], [[0.7096978425979614]], [[1.7376853227615356]], [[1.0067671537399292]], [[0.37330126762390137]], [[0.0]], [[0.0]], [[0.0]], [[0.2716526985168457]], [[2.5744543075561523]], [[6.191048622131348]], [[0.0]], [[1.0976248979568481]], [[0.8486276865005493]], [[1.8989766836166382]], [[0.9479187726974487]], [[0.5975350141525269]], [[0.0]], [[0.2741665840148926]], [[0.19118964672088623]], [[0.0]], [[4.438729763031006]], [[0.0]], [[1.0976256132125854]], [[1.980211615562439]], [[1.1544681787490845]], [[0.0]], [[0.41313302516937256]], [[0.24194753170013428]], [[0.0]], [[4.44480037689209]], [[0.0]], [[1.0976256132125854]], [[1.980211615562439]], [[1.1544681787490845]], [[0.0]], [[0.41313302516937256]], [[0.24194753170013428]], [[0.0]], [[4.44480037689209]], [[0.0]], [[0.03448593616485596]], [[0.7867449522018433]], [[0.0]], [[0.596490740776062]], [[0.0]], [[0.8105772733688354]], [[0.0]], [[0.0]], [[0.0]], [[0.0]], [[1.2930575609207153]], [[1.0296152830123901]], [[0.0]], [[0.0]], [[0.0]], [[0.005152583122253418]], [[0.0]], [[0.0]], [[0.0]], [[0.0]], [[1.0091356039047241]], [[5.1861066818237305]], [[0.0]], [[1.0976241827011108]], [[1.9802080392837524]], [[1.154379963874817]], [[0.0]], [[0.4132636785507202]], [[0.24190795421600342]], [[0.0]], [[4.444693565368652]], [[1.6656681299209595]], [[0.7947186231613159]], [[1.6261481046676636]], [[0.9308336973190308]], [[0.3297957181930542]], [[0.0]], [[0.0]], [[0.23180854320526123]], [[0.0]], [[4.540251731872559]], [[0.0]], [[1.0976241827011108]], [[1.9802080392837524]], [[1.154379963874817]], [[0.0]], [[0.4132636785507202]], [[0.24190795421600342]], [[0.0]], [[4.444693565368652]], [[1.6656681299209595]], [[0.7947186231613159]], [[1.6261481046676636]], [[0.9308336973190308]], [[0.3297957181930542]], [[0.0]], [[0.0]], [[0.23180854320526123]], [[0.0]], [[4.540251731872559]], [[0.4874075651168823]], [[1.3593515157699585]], [[0.40588879585266113]], [[0.0]], [[0.0]], [[0.6231244802474976]], [[0.0]], [[4.500158786773682]], [[0.0]], [[1.0976241827011108]], [[0.2670478820800781]], [[0.835525393486023]], [[0.8648742437362671]], [[0.0]], [[0.0]], [[0.42900335788726807]], [[0.0]], [[0.06677651405334473]], [[0.0]], [[3.8459548950195312]], [[3.4139671325683594]], [[0.12504100799560547]], [[1.3882397413253784]], [[2.1103367805480957]], [[1.0445069074630737]], [[0.0]], [[0.0]], [[0.21904027462005615]], [[0.0]], [[0.8415497541427612]], [[5.074590682983398]], [[0.0]], [[1.0976241827011108]], [[3.1322250366210938]], [[0.6195598840713501]], [[1.2195228338241577]], [[2.042478561401367]], [[0.7068986892700195]], [[1.0994960069656372]], [[0.0]], [[1.2758840322494507]], [[0.0]], [[0.0]], [[0.4207340478897095]], [[0.0]], [[3.8819527626037598]], [[0.6585453748703003]], [[1.3785265684127808]], [[0.5527995824813843]], [[0.0]], [[0.0]], [[0.02409183979034424]], [[0.0]], [[0.035761237144470215]], [[0.0819242000579834]], [[1.1258381605148315]], [[5.062291145324707]], [[0.0]]], \"firstDimensionName\": \"Attn Param\", \"secondDimensionName\": \"Feature\", \"firstDimensionLabels\": [\"Layer:4/Head:5/W_K\"], \"secondDimensionLabels\": [\"230\"]}\n",
       "    )\n",
       "    </script>"
      ],
      "text/plain": [
       "<circuitsvis.utils.render.RenderedHTML at 0x7f62e409cb50>"
      ]
     },
     "metadata": {},
     "output_type": "display_data"
    },
    {
     "data": {
      "text/html": [
       "<div id=\"circuits-vis-41b96d73-7c23\" style=\"margin: 15px 0;\"/>\n",
       "    <script crossorigin type=\"module\">\n",
       "    import { render, TextNeuronActivations } from \"https://unpkg.com/circuitsvis@1.40.1/dist/cdn/esm.js\";\n",
       "    render(\n",
       "      \"circuits-vis-41b96d73-7c23\",\n",
       "      TextNeuronActivations,\n",
       "      {\"tokens\": [\"<?\", \"php\", \"\\\\newline\", \"\\\\newline\", \"return\", \" [\", \"\\\\newline\\\\newline\", \"    \", \"/*\", \"\\n\", \"/*\", \" es\", \"lint\", \"-\", \"disable\", \" es\", \"lint\", \"-\", \"comments\", \"/\", \"disable\", \"-\", \"enable\", \"-\", \"pair\", \" */\", \"\\\\newline\", \"\\\\newline\", \"/*\", \"\\n\", \"module\", \" Authority\", \"\\\\newline\\\\newline\", \"  \", \"#\", \"\\n\", \"#\", \"ifndef\", \" _\", \"NR\", \"F\", \"_\", \"DE\", \"LAY\", \"_\", \"H\", \"\\\\newline\", \"#\", \"define\", \" _\", \"NR\", \"F\", \"_\", \"DE\", \"LAY\", \"_\", \"H\", \"\\\\newline\", \"\\\\newline\", \"//\", \"\\n\", \"/*\", \" es\", \"lint\", \"-\", \"disable\", \" max\", \"-\", \"len\", \",\", \" max\", \"-\", \"statements\", \",\", \" complexity\", \",\", \"\\\\newline\", \"default\", \"-\", \"case\", \" */\", \"\\\\newline\", \"\\\\newline\", \"//\", \"\\n\", \"#\", \" ================================================================\", \"===\", \"\\\\newline\", \"#\", \"\\\\newline\", \"#\", \"\\n\", \"#\", \"!/\", \"bin\", \"/\", \"bash\", \"\\\\newline\", \"#\", \"\\\\newline\", \"#\", \"\\n\", \"{\", \"\\\\newline\", \"  \", \"global\", \":\", \" {},\", \"\\\\newline\", \"  \", \"components\", \":\", \" {\", \"\\\\newline\", \"    \", \"//\", \"\\n\", \"/**\", \" @\", \"file\", \" Cont\", \"ains\", \" the\", \" global\", \" variables\", \" used\", \" in\", \" Label\", \"Me\", \".\", \" */\", \"\\\\newline\", \"\\\\newline\", \"//\", \"\\n\", \"from\", \" py\", \"omo\", \".\", \"en\", \"viron\", \" import\", \" *\", \"\\\\newline\", \"\\\\newline\", \"#\", \" create\", \" the\", \" concrete\", \" model\", \"\\\\newline\", \"model\", \" =\", \" Con\", \"crete\", \"Model\", \"()\", \"\\\\newline\", \"\\\\newline\", \"#\", \"\\n\"], \"activations\": [[[0.5053976774215698]], [[0.523425817489624]], [[0.0]], [[0.18094539642333984]], [[0.436257004737854]], [[0.6915197372436523]], [[1.0168474912643433]], [[0.8308471441268921]], [[5.849808692932129]], [[0.0]], [[3.1374831199645996]], [[0.833969235420227]], [[0.04845786094665527]], [[0.0]], [[0.0]], [[0.0]], [[0.0]], [[0.0]], [[0.0]], [[0.14617884159088135]], [[0.0]], [[0.0]], [[0.0]], [[0.0]], [[0.0]], [[0.0]], [[0.0]], [[0.8271018266677856]], [[5.819383144378662]], [[0.0]], [[0.0]], [[0.0]], [[0.0]], [[1.459044337272644]], [[5.695929050445557]], [[0.0]], [[2.623541831970215]], [[0.7233222723007202]], [[1.120550274848938]], [[0.0]], [[0.0]], [[0.0]], [[0.0]], [[0.0]], [[0.0]], [[0.0]], [[0.0]], [[2.2814111709594727]], [[0.46352875232696533]], [[0.8137639760971069]], [[0.0]], [[0.0]], [[0.18528270721435547]], [[0.0]], [[0.0]], [[0.4972285032272339]], [[0.0]], [[0.0]], [[0.9388324022293091]], [[5.6383161544799805]], [[0.0]], [[3.1374831199645996]], [[0.833969235420227]], [[0.04845786094665527]], [[0.0]], [[0.0]], [[0.0]], [[0.0]], [[0.0]], [[0.09687316417694092]], [[0.0]], [[0.0]], [[0.0]], [[0.058995842933654785]], [[0.0]], [[0.13327479362487793]], [[0.0]], [[0.2592219114303589]], [[0.0]], [[0.0]], [[0.0]], [[0.3255385160446167]], [[0.9593056440353394]], [[5.608654499053955]], [[0.0]], [[2.623542308807373]], [[0.8922733068466187]], [[1.4574660062789917]], [[0.0]], [[4.963441371917725]], [[1.6596873998641968]], [[5.540715217590332]], [[0.0]], [[2.623542308807373]], [[1.412063479423523]], [[0.0]], [[0.0]], [[0.0]], [[0.0]], [[4.227016448974609]], [[1.478812575340271]], [[5.490140438079834]], [[0.0]], [[0.4988952875137329]], [[0.0]], [[0.5486180782318115]], [[0.0]], [[0.4397571086883545]], [[0.01957881450653076]], [[0.0]], [[0.737697958946228]], [[0.0]], [[0.08374929428100586]], [[0.9612406492233276]], [[0.38039112091064453]], [[0.04078686237335205]], [[5.467090129852295]], [[0.0]], [[2.8765788078308105]], [[1.543190360069275]], [[0.9204460382461548]], [[0.46624481678009033]], [[0.1549452543258667]], [[0.7259477376937866]], [[0.0]], [[0.0]], [[0.0]], [[0.23114335536956787]], [[0.0]], [[0.0]], [[0.0]], [[0.5424593687057495]], [[0.16633069515228271]], [[0.7718976736068726]], [[5.432206630706787]], [[0.0]], [[0.0]], [[0.0]], [[0.0]], [[0.0]], [[0.0]], [[0.0]], [[0.0]], [[1.054853081703186]], [[0.0]], [[1.060695767402649]], [[5.116273403167725]], [[0.9279085397720337]], [[0.8136669397354126]], [[0.0]], [[0.0]], [[0.0]], [[0.0]], [[0.36877942085266113]], [[0.0]], [[0.0]], [[0.0]], [[0.0]], [[0.0551602840423584]], [[1.1695140600204468]], [[5.407444477081299]], [[0.0]]], \"firstDimensionName\": \"Attn Param\", \"secondDimensionName\": \"Feature\", \"firstDimensionLabels\": [\"Layer:4/Head:5/W_K\"], \"secondDimensionLabels\": [\"264\"]}\n",
       "    )\n",
       "    </script>"
      ],
      "text/plain": [
       "<circuitsvis.utils.render.RenderedHTML at 0x7f62e40a1010>"
      ]
     },
     "metadata": {},
     "output_type": "display_data"
    },
    {
     "data": {
      "text/html": [
       "<div id=\"circuits-vis-744aefde-8636\" style=\"margin: 15px 0;\"/>\n",
       "    <script crossorigin type=\"module\">\n",
       "    import { render, TextNeuronActivations } from \"https://unpkg.com/circuitsvis@1.40.1/dist/cdn/esm.js\";\n",
       "    render(\n",
       "      \"circuits-vis-744aefde-8636\",\n",
       "      TextNeuronActivations,\n",
       "      {\"tokens\": [\"NOT\", \"ICE\", \":\", \" Pre\", \"-\", \"app\", \"lications\", \" submitted\", \" in\", \" response\", \" to\", \" this\", \"\\\\newline\", \"Funding\", \" Opportunity\", \" Ann\", \"ounce\", \"ment\", \" (\", \"\\n\", \"The\", \" study\", \" is\", \" comparing\", \" the\", \" efficacy\", \" and\", \" safety\", \" of\", \" heater\", \" probe\", \" or\", \" injection\", \" therapy\", \" for\", \" ulcers\", \" (\", \"\\n\", \"Zip\", \"pered\", \" Cover\", \" \\u201c\", \"Alpha\", \" Zone\", \"\\u201d\", \" (\", \"\\n\", \"Circ\", \"uit\", \"ized\", \" substrates\", \",\", \" and\", \" particularly\", \" printed\", \" circuit\", \" boards\", \" (\", \"\\n\", \"In\", \" certain\", \" electronic\", \" circuits\", \",\", \" a\", \" converted\", \" voltage\", \" may\", \" be\", \" used\", \".\", \" For\", \" example\", \",\", \" in\", \" a\", \" modern\", \" PC\", \" (\", \"\\n\", \"This\", \" invention\", \" is\", \" concerned\", \" generally\", \" with\", \" digital\", \" information\", \" storage\", \" devices\", \",\", \" and\", \" particularly\", \" with\", \" random\", \" access\", \" memories\", \" (\", \"\\n\", \"Image\", \" 1\", \" of\", \" 5\", \" A\", \" drawing\", \" of\", \" Peter\", \" S\", \"agan\", \"'s\", \" world\", \" champion\", \"'s\", \" jersey\", \" (\", \"\\n\", \"Computer\", \" assisted\", \" learning\", \":\", \" the\", \" potential\", \" for\", \" teaching\", \" and\", \" assessing\", \" in\", \" nursing\", \".\", \"\\\\newline\", \"This\", \" article\", \" discusses\", \" computer\", \" assisted\", \" learning\", \" (\", \"\\n\", \"This\", \" application\", \" is\", \" in\", \" response\", \" to\", \" the\", \" NIH\", \" Research\", \" Project\", \" Grant\", \" (\", \"\\n\", \"Integr\", \"ated\", \" circuit\", \" memories\", \",\", \" such\", \" as\", \" static\", \" random\", \" access\", \" memories\", \" (\", \"\\n\"], \"activations\": [[[0.44875097274780273]], [[0.8740432262420654]], [[0.5739362239837646]], [[0.9101383686065674]], [[1.2341761589050293]], [[0.1811462640762329]], [[0.0]], [[0.10222840309143066]], [[0.6456551551818848]], [[0.03970444202423096]], [[0.332195520401001]], [[0.0]], [[0.0]], [[0.0]], [[0.0]], [[0.0]], [[0.020798921585083008]], [[0.0]], [[6.015750408172607]], [[0.0]], [[0.0]], [[0.0]], [[0.12361061573028564]], [[0.0]], [[0.0]], [[0.0]], [[0.0]], [[0.0]], [[0.0]], [[0.0]], [[0.0]], [[0.0]], [[0.24763166904449463]], [[0.0]], [[0.025144338607788086]], [[0.15226709842681885]], [[5.986004829406738]], [[0.0]], [[0.07901334762573242]], [[0.0]], [[0.4407989978790283]], [[0.8645329475402832]], [[0.0]], [[0.0]], [[0.0]], [[5.978034019470215]], [[0.0]], [[0.0]], [[0.0]], [[0.0]], [[0.17197465896606445]], [[0.6305584907531738]], [[0.2055753469467163]], [[0.0]], [[0.2485969066619873]], [[0.0]], [[0.0]], [[5.969405651092529]], [[0.0]], [[0.0]], [[1.0785853862762451]], [[0.35683512687683105]], [[0.0]], [[0.0]], [[0.13153612613677979]], [[0.0]], [[0.0]], [[0.0]], [[0.0]], [[0.0]], [[0.0]], [[0.4442589282989502]], [[0.026735305786132812]], [[0.0]], [[0.2884436845779419]], [[0.16495776176452637]], [[0.0]], [[0.0]], [[5.875394344329834]], [[0.0]], [[0.0]], [[0.0]], [[0.0]], [[0.0]], [[0.0]], [[0.0]], [[0.0]], [[0.0]], [[0.0]], [[0.0]], [[0.35867369174957275]], [[0.0]], [[0.0]], [[0.0]], [[0.0]], [[0.0]], [[0.0]], [[5.874288082122803]], [[0.0]], [[0.5727941989898682]], [[0.0]], [[0.0]], [[0.0]], [[0.0]], [[0.0]], [[0.0]], [[0.0]], [[0.0]], [[0.0]], [[0.1747802495956421]], [[0.0]], [[0.0]], [[0.5170881748199463]], [[0.0]], [[5.868760108947754]], [[0.0]], [[0.18302249908447266]], [[0.02937459945678711]], [[0.0]], [[0.6955819129943848]], [[0.28013455867767334]], [[0.0]], [[0.0]], [[0.0]], [[0.0]], [[0.0]], [[0.21540021896362305]], [[0.0]], [[0.0]], [[0.0]], [[0.0]], [[0.0]], [[0.0]], [[0.0]], [[0.0]], [[0.0]], [[5.846283435821533]], [[0.0]], [[0.0]], [[0.0]], [[0.0]], [[0.0]], [[0.0]], [[0.0]], [[0.0]], [[0.0]], [[0.0]], [[0.0]], [[0.0]], [[5.806981563568115]], [[0.0]], [[0.0]], [[0.0]], [[0.0]], [[0.0]], [[0.5948731899261475]], [[0.0]], [[0.0]], [[0.0]], [[0.0]], [[0.0]], [[0.0]], [[5.804065227508545]], [[0.0]]], \"firstDimensionName\": \"Attn Param\", \"secondDimensionName\": \"Feature\", \"firstDimensionLabels\": [\"Layer:4/Head:5/W_K\"], \"secondDimensionLabels\": [\"472\"]}\n",
       "    )\n",
       "    </script>"
      ],
      "text/plain": [
       "<circuitsvis.utils.render.RenderedHTML at 0x7f62e40a4f90>"
      ]
     },
     "metadata": {},
     "output_type": "display_data"
    },
    {
     "data": {
      "text/html": [
       "<div id=\"circuits-vis-71f4235c-dc22\" style=\"margin: 15px 0;\"/>\n",
       "    <script crossorigin type=\"module\">\n",
       "    import { render, TextNeuronActivations } from \"https://unpkg.com/circuitsvis@1.40.1/dist/cdn/esm.js\";\n",
       "    render(\n",
       "      \"circuits-vis-71f4235c-dc22\",\n",
       "      TextNeuronActivations,\n",
       "      {\"tokens\": [\"\\\\newline\", \"k\", \"\\\\newline\", \"Let\", \" f\", \"(\", \"x\", \")\", \" =\", \" x\", \"**\", \"2\", \" -\", \" 5\", \"*\", \"x\", \" -\", \" 16\", \".\", \" Let\", \" u\", \" be\", \" f\", \"(\", \"\\n\", \"i\", \" =\", \" -\", \"7\", \".\", \" What\", \" is\", \" y\", \"(\", \"a\", \")?\", \"\\\\newline\", \"15\", \"\\\\newline\", \"Let\", \" o\", \"(\", \"\\n\", \"f\", \" -\", \" 1\", \".\", \" Let\", \" b\", \"(\", \"\\n\", \"Let\", \" c\", \"(\", \"l\", \")\", \" =\", \" -\", \"l\", \"**\", \"2\", \" +\", \" l\", \" -\", \" 1\", \".\", \" Determine\", \" s\", \"*\", \"j\", \"(\", \"\\n\", \".\", \"\\\\newline\", \"4\", \"\\\\newline\", \"Suppose\", \" 2\", \"*\", \"n\", \" +\", \" 100\", \" =\", \" 7\", \"*\", \"n\", \".\", \" Let\", \" q\", \"(\", \"\\n\", \"i\", \" =\", \" -\", \"7\", \".\", \" What\", \" is\", \" y\", \"(\", \"a\", \")?\", \"\\\\newline\", \"15\", \"\\\\newline\", \"Let\", \" o\", \"(\", \"g\", \")\", \" =\", \" g\", \".\", \" Let\", \" y\", \"(\", \"\\n\", \" =\", \" 4\", \"*\", \"x\", \" -\", \" 1\", \".\", \" Let\", \" l\", \"(\", \"\\n\", \"-\", \" 4\", \"*\", \"t\", \"**\", \"4\", \" +\", \" 2\", \"*\", \"t\", \"**\", \"4\", \".\", \" Let\", \" i\", \"(\", \"\\n\", \"+\", \" 6\", \"*\", \"c\", \"**\", \"2\", \" +\", \" 2\", \".\", \" Let\", \" v\", \"(\", \"\\n\", \"t\", \" m\", \"(\", \"o\", \")\", \" =\", \" -\", \"9\", \"*\", \"o\", \"**\", \"3\", \" -\", \" 2\", \"*\", \"o\", \"**\", \"2\", \".\", \" Let\", \" p\", \"(\", \"\\n\"], \"activations\": [[[0.0]], [[0.0]], [[0.0]], [[0.0]], [[0.0]], [[4.310519218444824]], [[0.0]], [[0.0]], [[0.0]], [[0.0]], [[0.2538367509841919]], [[0.0]], [[0.0]], [[0.0]], [[0.32197582721710205]], [[0.0]], [[0.0]], [[0.0]], [[0.0]], [[0.06771326065063477]], [[0.0]], [[0.0]], [[0.18322324752807617]], [[4.530102729797363]], [[0.0]], [[0.0]], [[0.0]], [[0.0]], [[0.0]], [[0.0]], [[0.0]], [[0.0]], [[0.0]], [[2.6653575897216797]], [[0.0]], [[0.0]], [[0.0]], [[0.0]], [[0.0]], [[0.0]], [[0.0]], [[4.530049800872803]], [[0.0]], [[0.0]], [[0.0]], [[0.0]], [[0.0]], [[0.0]], [[0.0]], [[4.487302303314209]], [[0.0]], [[0.0]], [[0.0]], [[4.2131733894348145]], [[0.0]], [[0.0]], [[0.0]], [[0.0]], [[0.0]], [[0.5018154382705688]], [[0.0]], [[0.0]], [[0.0]], [[0.0]], [[0.0]], [[0.0]], [[0.0]], [[0.0]], [[0.14342939853668213]], [[0.0]], [[4.465254783630371]], [[0.0]], [[0.0]], [[0.0]], [[0.0]], [[0.0]], [[0.0]], [[0.0]], [[0.15192735195159912]], [[0.0]], [[0.0]], [[0.0]], [[0.0]], [[0.004540562629699707]], [[0.9133039712905884]], [[0.0]], [[0.0]], [[0.0]], [[0.0]], [[4.459317684173584]], [[0.0]], [[0.0]], [[0.0]], [[0.0]], [[0.0]], [[0.0]], [[0.0]], [[0.0]], [[0.0]], [[2.6653389930725098]], [[0.0]], [[0.0]], [[0.0]], [[0.0]], [[0.0]], [[0.0]], [[0.0]], [[4.5300421714782715]], [[0.0]], [[0.0]], [[0.0]], [[0.0]], [[0.0]], [[0.10402870178222656]], [[0.0]], [[4.455352306365967]], [[0.0]], [[0.0]], [[0.0]], [[0.0]], [[0.0]], [[0.0]], [[0.0]], [[0.0]], [[0.0]], [[0.0]], [[4.418838977813721]], [[0.0]], [[0.0]], [[0.0]], [[0.0]], [[0.0]], [[0.0]], [[0.0]], [[0.0]], [[0.0]], [[0.0]], [[0.0]], [[0.0]], [[0.0]], [[0.0]], [[0.0]], [[0.0]], [[4.4098334312438965]], [[0.0]], [[0.0]], [[0.0]], [[0.0]], [[0.0]], [[0.0]], [[0.0]], [[0.0]], [[0.0]], [[0.0]], [[0.0]], [[0.0]], [[4.400570392608643]], [[0.0]], [[0.0]], [[0.0]], [[2.020357608795166]], [[0.0]], [[0.0]], [[0.0]], [[0.0]], [[0.0]], [[0.32373344898223877]], [[0.0]], [[0.4789125919342041]], [[0.0]], [[0.0]], [[0.0]], [[0.0]], [[0.0]], [[0.15935373306274414]], [[0.0]], [[0.0]], [[0.0]], [[0.0]], [[4.382626533508301]], [[0.0]]], \"firstDimensionName\": \"Attn Param\", \"secondDimensionName\": \"Feature\", \"firstDimensionLabels\": [\"Layer:4/Head:5/W_K\"], \"secondDimensionLabels\": [\"497\"]}\n",
       "    )\n",
       "    </script>"
      ],
      "text/plain": [
       "<circuitsvis.utils.render.RenderedHTML at 0x7f62e40a8910>"
      ]
     },
     "metadata": {},
     "output_type": "display_data"
    },
    {
     "data": {
      "text/html": [
       "<div id=\"circuits-vis-dd7e31f5-20ff\" style=\"margin: 15px 0;\"/>\n",
       "    <script crossorigin type=\"module\">\n",
       "    import { render, TextNeuronActivations } from \"https://unpkg.com/circuitsvis@1.40.1/dist/cdn/esm.js\";\n",
       "    render(\n",
       "      \"circuits-vis-dd7e31f5-20ff\",\n",
       "      TextNeuronActivations,\n",
       "      {\"tokens\": [\"\\\"\", \"Looks\", \" like\", \" T\", \"weed\", \"led\", \"um\", \" and\", \" T\", \"weed\", \"led\", \"ee\", \" coming\", \",\", \" Boss\", \",\\\"\", \" announced\", \" Stan\", \" as\", \" he\", \" looked\", \"\\n\", \"\\\"\", \"Looks\", \" like\", \" T\", \"weed\", \"led\", \"um\", \" and\", \" T\", \"weed\", \"led\", \"ee\", \" coming\", \",\", \" Boss\", \",\\\"\", \" announced\", \" Stan\", \" as\", \" he\", \" looked\", \" out\", \"\\n\", \"\\u201c\", \"I\", \" thought\", \" I\", \" couldn\", \"\\u2019\", \"t\", \" do\", \" it\", \",\\u201d\", \" Maria\", \" admitted\", \"\\n\", \"\\u201c\", \"S\", \"pike\", \"!\", \" No\", \",\", \" S\", \"pike\", \"!\\u201d\", \" Too\", \" late\", \",\", \" my\", \" mut\", \"t\", \" S\", \"pike\", \" was\", \" bus\", \"ily\", \" sniff\", \"ing\", \" up\", \"\\n\", \"Just\", \" after\", \" 4\", \" p\", \".\", \"m\", \".\", \" on\", \" Thanksgiving\", \" eve\", \",\", \" a\", \" boy\", \" steps\", \" off\", \" a\", \" school\", \" bus\", \".\", \"\\\\newline\", \"\\\\newline\", \"Then\", \" he\", \" walks\", \"\\n\", \"Watch\", \" and\", \" Year\", \"n\", \"\\\\newline\", \"\\\\newline\", \"Jul\", \"ia\", \" pulled\", \" open\", \" the\", \" front\", \" of\", \" her\", \" black\", \" lace\", \" k\", \"imon\", \"o\", \" style\", \" wrap\", \" and\", \" brought\", \"\\n\", \"\\\"\", \"Lock\", \" her\", \" up\", \" for\", \" what\", \"?\", \" Because\", \" you\", \" disagree\", \" with\", \" her\", \"?\\\"\", \"\\\\newline\", \"\\\\newline\", \"A\", \" chorus\", \" of\", \"\\n\", \"Watch\", \" and\", \" Year\", \"n\", \"\\\\newline\", \"\\\\newline\", \"Jul\", \"ia\", \" pulled\", \" open\", \"\\n\", \"\\u201c\", \"S\", \"pike\", \"!\", \" No\", \",\", \" S\", \"pike\", \"!\\u201d\", \" Too\", \" late\", \",\", \" my\", \" mut\", \"t\", \" S\", \"pike\", \" was\", \" bus\", \"ily\", \" sniff\", \"ing\", \"\\n\", \"M\", \"ario\", \" Manning\", \"ham\", \" paused\", \" from\", \" his\", \"\\n\"], \"activations\": [[[0.11173117160797119]], [[0.0]], [[0.0]], [[0.0]], [[0.0]], [[0.0]], [[0.0]], [[0.0]], [[0.0]], [[0.0]], [[0.0]], [[0.23463356494903564]], [[0.38931190967559814]], [[0.51750648021698]], [[0.1699603796005249]], [[1.361209750175476]], [[2.0192441940307617]], [[1.597610354423523]], [[2.414454460144043]], [[3.244675636291504]], [[3.9118566513061523]], [[0.0]], [[0.11173117160797119]], [[0.0]], [[0.0]], [[0.0]], [[0.0]], [[0.0]], [[0.0]], [[0.0]], [[0.0]], [[0.0]], [[0.0]], [[0.23463356494903564]], [[0.38931190967559814]], [[0.51750648021698]], [[0.1699603796005249]], [[1.361209750175476]], [[2.0192441940307617]], [[1.597610354423523]], [[2.414454460144043]], [[3.244675636291504]], [[3.9118566513061523]], [[3.892606735229492]], [[0.0]], [[0.0]], [[0.1746581792831421]], [[0.0]], [[0.0]], [[0.0]], [[0.0]], [[0.0]], [[0.0]], [[0.0]], [[1.6122668981552124]], [[2.302403450012207]], [[3.886314868927002]], [[0.0]], [[0.0]], [[0.0]], [[0.0]], [[0.0]], [[0.0]], [[0.0]], [[0.0]], [[0.0]], [[0.8761192560195923]], [[0.5506223440170288]], [[1.2550052404403687]], [[1.070393443107605]], [[2.309314250946045]], [[1.5246933698654175]], [[2.040353775024414]], [[0.5840562582015991]], [[1.5146421194076538]], [[2.24815034866333]], [[1.1874698400497437]], [[2.757218837738037]], [[2.4336509704589844]], [[3.3700923919677734]], [[3.790461540222168]], [[0.0]], [[0.0]], [[0.32907164096832275]], [[0.0]], [[0.39494240283966064]], [[0.0]], [[0.0]], [[0.22222602367401123]], [[0.12093627452850342]], [[0.0]], [[0.44160449504852295]], [[0.1716862916946411]], [[0.5325073003768921]], [[0.7216156721115112]], [[1.784464716911316]], [[1.5253249406814575]], [[1.687588095664978]], [[1.284838080406189]], [[1.6564000844955444]], [[0.2615891695022583]], [[0.0]], [[0.0]], [[0.8468259572982788]], [[1.8445490598678589]], [[3.6142406463623047]], [[0.0]], [[0.0]], [[0.0]], [[0.0]], [[0.0]], [[0.0]], [[0.0]], [[0.0]], [[0.11747515201568604]], [[2.5638880729675293]], [[3.4006686210632324]], [[2.077312469482422]], [[1.8374632596969604]], [[1.9119306802749634]], [[2.202049732208252]], [[2.3100056648254395]], [[2.53631591796875]], [[1.2661911249160767]], [[1.6286128759384155]], [[2.108036518096924]], [[1.6343282461166382]], [[1.4361361265182495]], [[2.544496536254883]], [[3.6091737747192383]], [[0.0]], [[0.11173117160797119]], [[0.0]], [[0.9253033399581909]], [[1.3861664533615112]], [[0.7961634397506714]], [[0.0]], [[0.0]], [[0.21546447277069092]], [[0.0]], [[0.0]], [[0.0]], [[0.0]], [[0.9297627210617065]], [[0.0]], [[1.3878577947616577]], [[2.1797914505004883]], [[2.534453868865967]], [[3.4837770462036133]], [[0.0]], [[0.0]], [[0.0]], [[0.0]], [[0.0]], [[0.0]], [[0.0]], [[0.0]], [[0.11749589443206787]], [[2.5638742446899414]], [[3.4006738662719727]], [[0.0]], [[0.0]], [[0.0]], [[0.0]], [[0.0]], [[0.0]], [[0.0]], [[0.0]], [[0.0]], [[0.8761192560195923]], [[0.5506223440170288]], [[1.2550052404403687]], [[1.070393443107605]], [[2.309314250946045]], [[1.5246933698654175]], [[2.040353775024414]], [[0.5840562582015991]], [[1.5146421194076538]], [[2.24815034866333]], [[1.1874698400497437]], [[2.757218837738037]], [[2.4336509704589844]], [[3.3700923919677734]], [[0.0]], [[0.0]], [[0.0]], [[0.0]], [[0.0]], [[3.2539772987365723]], [[2.7444100379943848]], [[3.287783145904541]], [[0.0]]], \"firstDimensionName\": \"Attn Param\", \"secondDimensionName\": \"Feature\", \"firstDimensionLabels\": [\"Layer:4/Head:5/W_K\"], \"secondDimensionLabels\": [\"550\"]}\n",
       "    )\n",
       "    </script>"
      ],
      "text/plain": [
       "<circuitsvis.utils.render.RenderedHTML at 0x7f62e40ae750>"
      ]
     },
     "metadata": {},
     "output_type": "display_data"
    },
    {
     "data": {
      "text/html": [
       "<div id=\"circuits-vis-18453d3c-8a52\" style=\"margin: 15px 0;\"/>\n",
       "    <script crossorigin type=\"module\">\n",
       "    import { render, TextNeuronActivations } from \"https://unpkg.com/circuitsvis@1.40.1/dist/cdn/esm.js\";\n",
       "    render(\n",
       "      \"circuits-vis-18453d3c-8a52\",\n",
       "      TextNeuronActivations,\n",
       "      {\"tokens\": [\"Q\", \":\", \"\\\\newline\", \"\\\\newline\", \"Is\", \" the\", \" sum\", \" of\", \" separating\", \" vectors\", \" always\", \" separating\", \"?\", \"\\\\newline\", \"\\\\newline\", \"If\", \" $\\\\\", \"mathcal\", \"{\", \"\\n\", \"---\", \"\\\\newline\", \"abstract\", \":\", \" '\", \"Let\", \" $(\", \"R\", \",{\\\\\", \"mathfrak\", \"{\", \"\\n\", \"Q\", \":\", \"\\\\newline\", \"\\\\newline\", \"For\", \"cing\", \" confl\", \"ation\", \" for\", \" $\", \"L\", \"(\\\\\", \"mathbb\", \"{\", \"\\n\", \"Q\", \":\", \"\\\\newline\", \"\\\\newline\", \"How\", \" to\", \" prove\", \" whether\", \" $\", \"x\", \"^{\", \"2\", \"}+\", \"y\", \"^{\", \"2\", \"}+\", \"1\", \"$\", \" is\", \" irreducible\", \" over\", \" $\\\\\", \"mathbb\", \"{\", \"\\n\", \"Q\", \":\", \"\\\\newline\", \"\\\\newline\", \"S\", \"quare\", \" classes\", \" of\", \" $\\\\\", \"mathbb\", \"{\", \"\\n\", \"Q\", \":\", \"\\\\newline\", \"\\\\newline\", \"Eval\", \"uating\", \" $\\\\\", \"int\", \" \\\\\", \"sqrt\", \"{\", \"x\", \"}\\\\\", \"ln\", \"(\", \"2\", \"x\", \")\\\\\", \":\\\\\", \"mathrm\", \"{\", \"\\n\", \"{\", \"\\n\", \"{\", \"\\n\", \"{\", \"\\n\", \"{\", \"\\n\"], \"activations\": [[[1.0529723167419434]], [[0.0]], [[1.000755786895752]], [[0.0]], [[0.0]], [[0.0]], [[0.0]], [[0.0]], [[0.0]], [[0.0]], [[0.0]], [[0.0]], [[0.0]], [[0.0]], [[0.0]], [[0.0]], [[0.09502720832824707]], [[2.2775464057922363]], [[6.266560077667236]], [[0.0]], [[1.5125341415405273]], [[1.732093095779419]], [[0.5669717788696289]], [[0.4104580879211426]], [[0.8089935779571533]], [[0.0]], [[1.0999422073364258]], [[0.2494804859161377]], [[2.0540058612823486]], [[0.9223353862762451]], [[5.254319667816162]], [[0.0]], [[1.0529730319976807]], [[0.0]], [[1.0007822513580322]], [[0.0]], [[0.0]], [[0.0]], [[0.0]], [[0.0]], [[0.0]], [[0.9750523567199707]], [[0.0]], [[0.388521671295166]], [[1.0852084159851074]], [[4.597474098205566]], [[0.0]], [[1.0529723167419434]], [[0.0]], [[1.000755786895752]], [[0.0]], [[0.0]], [[0.0]], [[0.0]], [[0.0]], [[0.9843235015869141]], [[0.2019810676574707]], [[1.2168378829956055]], [[0.0]], [[0.22105073928833008]], [[0.0]], [[1.2320377826690674]], [[0.0]], [[0.04440140724182129]], [[0.0]], [[0.34172916412353516]], [[0.0]], [[0.0]], [[0.0]], [[0.0]], [[0.751878023147583]], [[4.548520088195801]], [[0.0]], [[1.0529730319976807]], [[0.0]], [[1.0007822513580322]], [[0.0]], [[0.0]], [[0.0]], [[0.0]], [[0.0]], [[0.0]], [[1.0018079280853271]], [[4.512207984924316]], [[0.0]], [[1.0529723167419434]], [[0.0]], [[1.000755786895752]], [[0.0]], [[0.0]], [[0.0]], [[0.06515252590179443]], [[1.0624797344207764]], [[1.6231136322021484]], [[0.6290268898010254]], [[3.823418617248535]], [[0.0]], [[0.15556097030639648]], [[0.866206169128418]], [[1.3988611698150635]], [[0.0]], [[0.0]], [[0.0]], [[0.24997520446777344]], [[1.2376999855041504]], [[4.2562432289123535]], [[0.0]], [[3.9919443130493164]], [[0.0]], [[3.9919443130493164]], [[0.0]], [[3.9919443130493164]], [[0.0]], [[3.9919443130493164]], [[0.0]]], \"firstDimensionName\": \"Attn Param\", \"secondDimensionName\": \"Feature\", \"firstDimensionLabels\": [\"Layer:4/Head:5/W_K\"], \"secondDimensionLabels\": [\"568\"]}\n",
       "    )\n",
       "    </script>"
      ],
      "text/plain": [
       "<circuitsvis.utils.render.RenderedHTML at 0x7f62e40aa050>"
      ]
     },
     "metadata": {},
     "output_type": "display_data"
    },
    {
     "data": {
      "text/html": [
       "<div id=\"circuits-vis-cbcfa18e-3fef\" style=\"margin: 15px 0;\"/>\n",
       "    <script crossorigin type=\"module\">\n",
       "    import { render, TextNeuronActivations } from \"https://unpkg.com/circuitsvis@1.40.1/dist/cdn/esm.js\";\n",
       "    render(\n",
       "      \"circuits-vis-cbcfa18e-3fef\",\n",
       "      TextNeuronActivations,\n",
       "      {\"tokens\": [\"Daily\", \" Archives\", \":\", \" October\", \" 15\", \",\", \" 2008\", \"\\\\newline\", \"\\\\newline\", \"My\", \" column\", \" for\", \" the\", \" FT\", \" this\", \" week\", \" (\", \"mentioned\", \" here\", \"\\n\", \"Qu\", \"i\", \"ks\", \"il\", \"ver\", \" Technical\", \" Fig\", \"ue\", \"ira\", \" da\", \" F\", \"oz\", \" (\", \"Portug\", \"al\", \"\\n\", \"El\", \"ens\", \"ki\", \" but\", \"\\\\newline\", \"\\\\newline\", \"El\", \"ens\", \"ki\", \" but\", \" (\", \" or\", \" (\", \"more\", \" precisely\", \"\\n\", \"U\", \".\", \"S\", \".\", \" Pat\", \".\", \" No\", \".\", \" 4\", \",\", \"337\", \",\", \"201\", \" (\", \"P\", \"etr\", \"illo\", \",\", \" Jr\", \"\\n\", \"(\", \"function\", \" (\", \"g\", \"\\n\", \"AP\", \"R\", \"-\", \"246\", \" (\", \"also\", \"\\n\", \"In\", \" certain\", \" electronic\", \" circuits\", \",\", \" a\", \" converted\", \" voltage\", \" may\", \" be\", \" used\", \".\", \" For\", \" example\", \",\", \" in\", \" a\", \" modern\", \" PC\", \" (\", \"personal\", \" computer\", \"\\n\", \"Hi\", \"rom\", \"ichi\", \"\\\\newline\", \"\\\\newline\", \"Hi\", \"rom\", \"ichi\", \" (\", \"written\", \"\\n\", \"Is\", \" the\", \" living\", \" of\", \" life\", \" an\", \" axi\", \"om\", \"?\", \" (\", \"Part\", \" Two\", \"\\n\", \"The\", \" general\", \" goals\", \" for\", \" the\", \" proposed\", \" Career\", \" Development\", \" project\", \" are\", \" two\", \"fold\", \".\", \" They\", \" are\", \" (\", \"a\", \"\\n\"], \"activations\": [[[0.0]], [[0.0]], [[0.0]], [[0.0]], [[0.0]], [[0.0]], [[0.0]], [[0.0]], [[0.0]], [[0.0]], [[0.0]], [[0.0]], [[0.0]], [[0.0]], [[0.0]], [[0.0]], [[1.2054216861724854]], [[3.99104380607605]], [[4.404837608337402]], [[0.0]], [[0.0]], [[0.0]], [[0.0]], [[0.0]], [[0.0]], [[0.0]], [[0.0]], [[0.0]], [[0.0]], [[0.0]], [[0.0]], [[0.0]], [[0.5829925537109375]], [[2.8204047679901123]], [[4.388500213623047]], [[0.0]], [[0.0]], [[0.0]], [[0.0]], [[0.0]], [[0.0]], [[0.0]], [[0.0]], [[0.0]], [[0.0]], [[0.0]], [[0.8947865962982178]], [[1.811650276184082]], [[2.5151357650756836]], [[3.99792218208313]], [[4.3751630783081055]], [[0.0]], [[0.0]], [[0.0]], [[0.0]], [[0.0]], [[0.11653518676757812]], [[0.0]], [[0.0]], [[0.0]], [[0.0]], [[0.0]], [[0.0]], [[0.0]], [[0.0]], [[0.7560338973999023]], [[3.179640054702759]], [[2.049013376235962]], [[3.307128667831421]], [[2.8627126216888428]], [[4.351710319519043]], [[0.0]], [[1.7170445919036865]], [[1.0483455657958984]], [[3.9489543437957764]], [[4.204610824584961]], [[0.0]], [[0.0]], [[0.0]], [[0.0]], [[0.0]], [[1.074516773223877]], [[4.092511177062988]], [[0.0]], [[0.0]], [[0.0]], [[0.0]], [[0.0]], [[0.0]], [[0.0]], [[0.0]], [[0.0]], [[0.0]], [[0.0]], [[0.0]], [[0.0]], [[0.0]], [[0.0]], [[0.0]], [[0.0]], [[0.0]], [[0.0]], [[0.0]], [[1.2442901134490967]], [[3.0843565464019775]], [[4.078094482421875]], [[0.0]], [[0.0]], [[0.0]], [[0.0]], [[0.0]], [[0.0]], [[0.0]], [[0.0]], [[0.0]], [[1.1974141597747803]], [[4.071610450744629]], [[0.0]], [[0.0]], [[0.0]], [[0.0]], [[0.0]], [[0.0]], [[0.0]], [[0.0]], [[0.0]], [[0.0]], [[1.426504373550415]], [[2.9893853664398193]], [[4.042112350463867]], [[0.0]], [[0.0]], [[0.0]], [[0.0]], [[0.0]], [[0.0]], [[0.0]], [[0.0]], [[0.0]], [[0.0]], [[0.0]], [[0.0]], [[0.0]], [[0.0]], [[0.0]], [[0.0]], [[0.7395648956298828]], [[4.035830497741699]], [[0.0]]], \"firstDimensionName\": \"Attn Param\", \"secondDimensionName\": \"Feature\", \"firstDimensionLabels\": [\"Layer:4/Head:5/W_K\"], \"secondDimensionLabels\": [\"705\"]}\n",
       "    )\n",
       "    </script>"
      ],
      "text/plain": [
       "<circuitsvis.utils.render.RenderedHTML at 0x7f62e40a7410>"
      ]
     },
     "metadata": {},
     "output_type": "display_data"
    },
    {
     "data": {
      "text/html": [
       "<div id=\"circuits-vis-fb4b95b5-de14\" style=\"margin: 15px 0;\"/>\n",
       "    <script crossorigin type=\"module\">\n",
       "    import { render, TextNeuronActivations } from \"https://unpkg.com/circuitsvis@1.40.1/dist/cdn/esm.js\";\n",
       "    render(\n",
       "      \"circuits-vis-fb4b95b5-de14\",\n",
       "      TextNeuronActivations,\n",
       "      {\"tokens\": [\"Q\", \":\", \"\\\\newline\", \"\\\\newline\", \"Does\", \" \\\"\", \"old\", \"\\\"\", \" literally\", \" mean\", \" \\\"\", \"old\", \"\\n\", \"The\", \" United\", \" Nations\", \" (\", \"UN\", \")\", \" migration\", \" compact\", \" is\", \" a\", \" \\u201c\", \"threat\", \"\\n\", \"Paul\", \" R\", \"udd\", \"'s\", \" EX\", \"CLUS\", \"IVE\", \" \\\"\", \"An\", \"ch\", \"orman\", \" 2\", \"\\\"\", \" Cl\", \"ip\", \"\\\\newline\", \"\\\\newline\", \"Paul\", \" is\", \" filming\", \" the\", \" \\\"\", \"An\", \"ch\", \"\\n\", \"Paul\", \" R\", \"udd\", \"'s\", \" EX\", \"CLUS\", \"IVE\", \" \\\"\", \"An\", \"ch\", \"orman\", \" 2\", \"\\\"\", \" Cl\", \"ip\", \"\\\\newline\", \"\\\\newline\", \"Paul\", \" is\", \" filming\", \" the\", \" \\\"\", \"An\", \"ch\", \"orman\", \"\\n\", \"<%\", \"inherit\", \" file\", \"=\\\"/\", \"template\", \".\", \"html\", \"\\\"\", \" />\", \"\\\\newline\", \"<%\", \"namespace\", \" name\", \"=\\\"\", \"bad\", \"ge\", \"_\", \"index\", \"\\n\", \"The\", \" basis\", \" of\", \" \\u201c\", \"American\", \" Dream\", \"\\n\", \"{\", \"include\", \" file\", \"=\\\"\", \"order\", \"forms\", \"\\n\", \"<%\", \"inherit\", \" file\", \"=\\\"/\", \"template\", \".\", \"html\", \"\\\"\", \" />\", \"\\\\newline\", \"<%\", \"namespace\", \" name\", \"=\\\"\", \"bad\", \"ge\", \"\\n\", \"A\", \"ortic\", \" arch\", \" morph\", \"ogenesis\", \" and\", \" flow\", \" modeling\", \" in\", \" the\", \" chick\", \" embryo\", \".\", \"\\\\newline\", \"M\", \"orph\", \"ogenesis\", \" of\", \" the\", \" \\\"\", \"imm\", \"ature\", \"\\n\", \"Q\", \":\", \"\\\\newline\", \"\\\\newline\", \"Using\", \" find\", \" command\", \" but\", \" getting\", \" the\", \" error\", \" \\\"\", \"paths\", \"\\n\"], \"activations\": [[[0.0]], [[0.0]], [[0.0]], [[0.0]], [[0.0]], [[0.0032002925872802734]], [[2.9942898750305176]], [[0.0]], [[0.0]], [[0.0]], [[1.1227705478668213]], [[4.2470703125]], [[0.0]], [[0.0]], [[0.0]], [[0.0]], [[0.0]], [[0.0]], [[0.0]], [[0.0]], [[0.0]], [[0.0]], [[0.0]], [[1.1372294425964355]], [[4.173286437988281]], [[0.0]], [[0.0]], [[0.0]], [[0.0]], [[0.0]], [[0.0]], [[0.08940231800079346]], [[0.0]], [[0.8285460472106934]], [[1.7856335639953613]], [[2.0651443004608154]], [[2.503619432449341]], [[2.0596203804016113]], [[0.0]], [[0.0]], [[0.0]], [[0.0]], [[0.0]], [[0.0]], [[0.0]], [[0.0]], [[0.0]], [[0.7689532041549683]], [[3.02193546295166]], [[3.975660800933838]], [[0.0]], [[0.0]], [[0.0]], [[0.0]], [[0.0]], [[0.0]], [[0.08940231800079346]], [[0.0]], [[0.8285460472106934]], [[1.7856335639953613]], [[2.0651443004608154]], [[2.503619432449341]], [[2.0596203804016113]], [[0.0]], [[0.0]], [[0.0]], [[0.0]], [[0.0]], [[0.0]], [[0.0]], [[0.0]], [[0.0]], [[0.7689532041549683]], [[3.02193546295166]], [[3.975660800933838]], [[3.9563093185424805]], [[0.0]], [[0.0]], [[0.3413885831832886]], [[0.010600924491882324]], [[0.8422380685806274]], [[2.633183002471924]], [[0.0]], [[1.876960277557373]], [[0.28469908237457275]], [[0.0]], [[0.0]], [[0.0]], [[0.0]], [[0.42421579360961914]], [[0.3790656328201294]], [[3.559627056121826]], [[3.859684467315674]], [[2.594121217727661]], [[3.8966526985168457]], [[0.0]], [[0.0]], [[0.0]], [[0.0]], [[0.5428493022918701]], [[2.3465957641601562]], [[3.8945794105529785]], [[0.0]], [[0.0]], [[0.4827260971069336]], [[0.3312779664993286]], [[1.4314265251159668]], [[3.661848545074463]], [[3.8697361946105957]], [[0.0]], [[0.0]], [[0.3413734436035156]], [[0.010398387908935547]], [[0.8422191143035889]], [[2.6331379413604736]], [[0.0]], [[1.8769586086273193]], [[0.28463590145111084]], [[0.0]], [[0.0]], [[0.0]], [[0.0]], [[0.4242274761199951]], [[0.3791184425354004]], [[3.5596070289611816]], [[3.8596696853637695]], [[0.0]], [[0.0]], [[0.0]], [[0.0]], [[0.0]], [[0.0]], [[0.0]], [[0.0]], [[0.0]], [[0.0]], [[0.0]], [[0.0]], [[0.0]], [[0.0]], [[0.0]], [[0.0]], [[0.0]], [[0.0]], [[0.0]], [[0.0]], [[0.0]], [[2.376680850982666]], [[3.8534464836120605]], [[0.0]], [[0.0]], [[0.0]], [[0.0]], [[0.0]], [[0.0]], [[0.0]], [[0.0]], [[0.0]], [[0.0]], [[0.0]], [[0.0]], [[0.6119210720062256]], [[3.836902141571045]], [[0.0]]], \"firstDimensionName\": \"Attn Param\", \"secondDimensionName\": \"Feature\", \"firstDimensionLabels\": [\"Layer:4/Head:5/W_K\"], \"secondDimensionLabels\": [\"707\"]}\n",
       "    )\n",
       "    </script>"
      ],
      "text/plain": [
       "<circuitsvis.utils.render.RenderedHTML at 0x7f62e40b7250>"
      ]
     },
     "metadata": {},
     "output_type": "display_data"
    },
    {
     "data": {
      "text/html": [
       "<div id=\"circuits-vis-9f91af51-bc74\" style=\"margin: 15px 0;\"/>\n",
       "    <script crossorigin type=\"module\">\n",
       "    import { render, TextNeuronActivations } from \"https://unpkg.com/circuitsvis@1.40.1/dist/cdn/esm.js\";\n",
       "    render(\n",
       "      \"circuits-vis-9f91af51-bc74\",\n",
       "      TextNeuronActivations,\n",
       "      {\"tokens\": [\"function\", \" test\", \"()\", \" {\", \"\\\\newline\", \"\\\\newline\", \"class\", \" C\", \" {\", \"\\\\newline\", \"  \", \"constructor\", \"()\", \" {\", \"\\n\", \"export\", \" class\", \" Key\", \"board\", \"Controls\", \" {\", \"\\\\newline\", \"    \", \"constructor\", \"(\", \"visual\", \"izer\", \",\", \" bindings\", \")\", \" {\", \"\\n\", \"(\", \"function\", \" (\", \"g\", \")\", \" {\", \"\\\\newline\", \"    \", \"function\", \" t\", \"(\", \"a\", \",\", \" b\", \",\", \" d\", \")\", \" {\", \"\\n\", \"'\", \"use\", \" strict\", \"';\", \"\\\\newline\", \"\\\\newline\", \"module\", \".\", \"exports\", \" =\", \" function\", \"(\", \"Chart\", \")\", \" {\", \"\\n\", \"'\", \"use\", \" strict\", \"';\", \"\\\\newline\", \"\\\\newline\", \"module\", \".\", \"exports\", \" =\", \" function\", \"(\", \"Chart\", \")\", \" {\", \"\\n\", \"'\", \"use\", \" strict\", \"';\", \"\\\\newline\", \"module\", \".\", \"exports\", \" =\", \" function\", \" (\", \"str\", \",\", \" sep\", \")\", \" {\", \"\\n\", \"function\", \" get\", \"Cookie\", \"(\", \"name\", \")\", \" {\", \"\\n\", \".\", \"mini\", \"Chart\", \" {\", \"\\\\newline\", \"  \", \"position\", \":\", \" relative\", \";\", \"\\\\newline\", \"  \", \"width\", \":\", \" 100\", \"%;\", \"\\\\newline\", \" .\", \"chart\", \"Content\", \" {\", \"\\n\", \"'\", \"use\", \" strict\", \"';\", \"\\\\newline\", \"angular\", \".\", \"module\", \"(\\\"\", \"ng\", \"Locale\", \"\\\",\", \" [],\", \" [\\\"\", \"$\", \"provide\", \"\\\",\", \" function\", \"($\", \"provide\", \")\", \" {\", \"\\n\", \"'\", \"use\", \" strict\", \"';\", \"\\\\newline\", \"angular\", \".\", \"module\", \"(\\\"\", \"ng\", \"Locale\", \"\\\",\", \" [],\", \" [\\\"\", \"$\", \"provide\", \"\\\",\", \" function\", \"($\", \"provide\", \")\", \" {\", \"\\n\"], \"activations\": [[[0.7283738851547241]], [[0.0]], [[1.1516042947769165]], [[5.411247730255127]], [[0.5272253751754761]], [[0.5393403768539429]], [[0.0]], [[0.0]], [[5.352254390716553]], [[1.1142669916152954]], [[1.4410709142684937]], [[0.25575268268585205]], [[1.6097475290298462]], [[6.118254661560059]], [[0.0]], [[0.6720987558364868]], [[0.2686053514480591]], [[0.0]], [[0.0]], [[0.0]], [[5.305742263793945]], [[0.750226616859436]], [[1.055057168006897]], [[0.21133208274841309]], [[1.9464391469955444]], [[0.0]], [[0.0]], [[0.5070174932479858]], [[0.0]], [[1.1798588037490845]], [[5.8511199951171875]], [[0.0]], [[1.1256638765335083]], [[0.43753063678741455]], [[0.23121321201324463]], [[0.0]], [[0.6566702127456665]], [[4.948367595672607]], [[0.4275110960006714]], [[0.7480601072311401]], [[0.6720794439315796]], [[0.0]], [[0.6628326177597046]], [[0.0]], [[0.40934431552886963]], [[0.0]], [[0.0]], [[0.0]], [[1.2676893472671509]], [[5.82481050491333]], [[0.0]], [[0.8535333871841431]], [[0.0]], [[0.0]], [[1.1292814016342163]], [[0.22490918636322021]], [[0.0]], [[0.0]], [[1.1260789632797241]], [[0.24461567401885986]], [[0.7706495523452759]], [[0.5055195093154907]], [[1.5314940214157104]], [[0.0]], [[1.042362093925476]], [[5.809720516204834]], [[0.0]], [[0.8535333871841431]], [[0.0]], [[0.0]], [[1.1292814016342163]], [[0.22490918636322021]], [[0.0]], [[0.0]], [[1.1260789632797241]], [[0.24461567401885986]], [[0.7706495523452759]], [[0.5055195093154907]], [[1.5314940214157104]], [[0.0]], [[1.042362093925476]], [[5.809720516204834]], [[0.0]], [[0.8535333871841431]], [[0.0]], [[0.0]], [[1.1292780637741089]], [[0.22491705417633057]], [[0.0]], [[1.104317545890808]], [[0.31661128997802734]], [[0.7629314661026001]], [[0.5623716115951538]], [[1.4528108835220337]], [[0.0]], [[0.6204420328140259]], [[0.0]], [[0.6069613695144653]], [[5.765324592590332]], [[0.0]], [[0.7283741235733032]], [[0.0]], [[0.0]], [[1.1139436960220337]], [[0.0]], [[1.1263271570205688]], [[5.7180867195129395]], [[0.0]], [[0.11311709880828857]], [[0.0]], [[0.0]], [[4.621114253997803]], [[0.6922236680984497]], [[1.008097529411316]], [[0.0]], [[0.25569307804107666]], [[0.0]], [[1.3341830968856812]], [[0.0]], [[0.0]], [[0.0]], [[0.3678528070449829]], [[0.0]], [[1.1773515939712524]], [[0.0]], [[0.2768971920013428]], [[0.0]], [[0.0]], [[5.475675582885742]], [[0.0]], [[0.8535343408584595]], [[0.0]], [[0.0]], [[1.1293026208877563]], [[0.22491693496704102]], [[0.0]], [[0.0]], [[0.0]], [[0.0]], [[0.0]], [[0.0]], [[0.6539298295974731]], [[0.6335474252700806]], [[0.4067116975784302]], [[0.0]], [[0.0]], [[0.1903313398361206]], [[0.567459225654602]], [[0.7158271074295044]], [[0.0]], [[0.9980522394180298]], [[5.670788764953613]], [[0.0]], [[0.8535343408584595]], [[0.0]], [[0.0]], [[1.1293026208877563]], [[0.22491693496704102]], [[0.0]], [[0.0]], [[0.0]], [[0.0]], [[0.0]], [[0.0]], [[0.6539298295974731]], [[0.6335474252700806]], [[0.4067116975784302]], [[0.0]], [[0.0]], [[0.1903313398361206]], [[0.567459225654602]], [[0.7158271074295044]], [[0.0]], [[0.9980522394180298]], [[5.670788764953613]], [[0.0]]], \"firstDimensionName\": \"Attn Param\", \"secondDimensionName\": \"Feature\", \"firstDimensionLabels\": [\"Layer:4/Head:5/W_K\"], \"secondDimensionLabels\": [\"729\"]}\n",
       "    )\n",
       "    </script>"
      ],
      "text/plain": [
       "<circuitsvis.utils.render.RenderedHTML at 0x7f62e40b88d0>"
      ]
     },
     "metadata": {},
     "output_type": "display_data"
    },
    {
     "data": {
      "text/html": [
       "<div id=\"circuits-vis-44881f9a-bd77\" style=\"margin: 15px 0;\"/>\n",
       "    <script crossorigin type=\"module\">\n",
       "    import { render, TextNeuronActivations } from \"https://unpkg.com/circuitsvis@1.40.1/dist/cdn/esm.js\";\n",
       "    render(\n",
       "      \"circuits-vis-44881f9a-bd77\",\n",
       "      TextNeuronActivations,\n",
       "      {\"tokens\": [\"How\", \" much\", \" does\", \" it\", \" cost\", \" to\", \" attend\", \" an\", \" NFL\", \" game\", \"?\", \" [\", \"\\n\", \"Q\", \":\", \"\\\\newline\", \"\\\\newline\", \"Are\", \" all\", \" $[\", \"[\", \"\\n\", \"eps\", \"f\", \".\", \"sty\", \" 220\", \" mm\", \" 145\", \" mm\", \" 0\", \".\", \"5\", \" mm\", \" 1\", \" mm\", \" 8\", \" mm\", \"\\\\newline\", \"\\\\newline\", \"[\", \"\\n\", \"UA\", \" researchers\", \" put\", \" the\", \" bite\", \" on\", \" mosquitoes\", \"\\\\newline\", \"\\\\newline\", \"January\", \" 15\", \",\", \" 2008\", \"\\\\newline\", \"\\\\newline\", \"By\", \" Fl\", \"inn\", \" Foundation\", \"\\\\newline\", \"\\\\newline\", \"[\", \"\\n\", \"Pre\", \"print\", \" hep\", \"-\", \"ph\", \"/\", \"000\", \"60\", \"89\", \"\\\\newline\", \"\\\\newline\", \"[\", \"\\n\", \"Q\", \":\", \"\\\\newline\", \"\\\\newline\", \"N\", \"ested\", \" List\", \" and\", \" For\", \" Loop\", \"\\\\newline\", \"\\\\newline\", \"Consider\", \" this\", \":\", \"\\\\newline\", \"list\", \" =\", \" 2\", \"*\", \"[\", \"2\", \"*\", \"[\", \"\\n\", \"P\", \"raise\", \":\", \" His\", \" Dark\", \" Materials\", \"\\\\newline\", \"\\\\newline\", \"[\", \"\\n\", \"Q\", \":\", \"\\\\newline\", \"\\\\newline\", \"S\", \"ear\", \"ched\", \" /\", \" T\", \"ried\", \" a\", \" lot\", \":\", \" Unable\", \" to\", \" add\", \" popup\", \" display\", \" delay\", \"\\\\newline\", \"\\\\newline\", \"[\", \"\\n\", \"Please\", \" leave\", \" a\", \" comment\", \".\", \"------------------------\", \"Update\", \":\", \" Generic\", \" F\", \"older\", \" is\", \" available\", \" here\", \" [\", \"\\n\", \"s\", \" [\", \"\\n\"], \"activations\": [[[0.0]], [[0.0]], [[0.0]], [[0.0]], [[0.0]], [[0.0]], [[0.0]], [[0.0]], [[0.0]], [[0.0]], [[0.0]], [[5.254732131958008]], [[0.0]], [[0.0]], [[0.0]], [[0.0]], [[0.0]], [[0.0]], [[0.0]], [[3.479792594909668]], [[5.1986165046691895]], [[0.0]], [[0.0]], [[0.0]], [[0.0]], [[0.0]], [[0.0]], [[0.0]], [[0.0]], [[0.0]], [[0.0]], [[0.0]], [[0.0]], [[0.0]], [[0.0]], [[0.0]], [[0.0]], [[0.0]], [[0.0]], [[0.0]], [[5.059020042419434]], [[0.0]], [[0.0]], [[0.0]], [[0.0]], [[0.0]], [[0.0]], [[0.0]], [[0.0]], [[0.0]], [[0.0]], [[0.0]], [[0.0]], [[0.0]], [[0.0]], [[0.0]], [[0.0]], [[0.0]], [[0.0]], [[0.0]], [[0.0]], [[0.0]], [[0.0]], [[5.028563976287842]], [[0.0]], [[0.0]], [[0.0]], [[0.0]], [[0.0]], [[0.0]], [[0.0]], [[0.0]], [[0.0]], [[0.0]], [[0.0]], [[0.0]], [[4.855924606323242]], [[0.0]], [[0.0]], [[0.0]], [[0.0]], [[0.0]], [[0.0]], [[0.0]], [[0.0]], [[0.0]], [[0.0]], [[0.0]], [[0.0]], [[0.0]], [[0.0]], [[0.0]], [[0.0]], [[0.0]], [[0.0]], [[0.0]], [[0.0]], [[0.6506146192550659]], [[4.356845855712891]], [[0.6709017753601074]], [[1.7776042222976685]], [[4.855647087097168]], [[0.0]], [[0.0]], [[0.0]], [[0.12927687168121338]], [[0.0]], [[0.0]], [[0.0]], [[0.0]], [[0.0]], [[4.838921546936035]], [[0.0]], [[0.0]], [[0.0]], [[0.0]], [[0.0]], [[0.0]], [[0.0]], [[0.0]], [[0.0]], [[0.0]], [[0.0]], [[0.0]], [[0.0]], [[0.0]], [[0.0]], [[0.0]], [[0.0]], [[0.0]], [[0.0]], [[0.0]], [[0.0]], [[0.0]], [[4.748744010925293]], [[0.0]], [[0.0]], [[0.0]], [[0.0]], [[0.0]], [[0.0]], [[0.0]], [[0.0]], [[0.0]], [[0.0]], [[0.0]], [[0.0]], [[0.0]], [[0.0]], [[0.0]], [[4.7095842361450195]], [[0.0]], [[0.0]], [[4.647403717041016]], [[0.0]]], \"firstDimensionName\": \"Attn Param\", \"secondDimensionName\": \"Feature\", \"firstDimensionLabels\": [\"Layer:4/Head:5/W_K\"], \"secondDimensionLabels\": [\"873\"]}\n",
       "    )\n",
       "    </script>"
      ],
      "text/plain": [
       "<circuitsvis.utils.render.RenderedHTML at 0x7f62e40bb210>"
      ]
     },
     "metadata": {},
     "output_type": "display_data"
    },
    {
     "data": {
      "text/html": [
       "<div id=\"circuits-vis-abbef1fc-f6c7\" style=\"margin: 15px 0;\"/>\n",
       "    <script crossorigin type=\"module\">\n",
       "    import { render, TextNeuronActivations } from \"https://unpkg.com/circuitsvis@1.40.1/dist/cdn/esm.js\";\n",
       "    render(\n",
       "      \"circuits-vis-abbef1fc-f6c7\",\n",
       "      TextNeuronActivations,\n",
       "      {\"tokens\": [\"\\\"\", \"Listen\", \",\", \" can\", \" you\", \" keep\", \" the\", \" meter\", \" running\", \"?\\\"\", \" \\\"\", \" I\", \"'ll\", \" be\", \" about\", \" five\", \" minutes\", \".\\\"\", \" \\\"\", \" Can\", \" do\", \".\\\"\", \" \\\"\", \" Here\", \"\\n\", \"\\\"\", \"Val\", \"encia\", \",\", \" CA\", \" 2\", \":\", \"43\", \" am\", \"\\\"\", \" \\\"\", \"Yeah\", \".\\\"\", \" \\\"\", \"Shit\", \".\\\"\", \" \\\"\", \"Where\", \"\\n\", \"\\\"\", \"Are\", \" you\", \" okay\", \"?\\\"\", \" \\\"\", \"Ros\", \"ie\", \".\\\"\", \" \\\"\", \"Are\", \" you\", \" okay\", \"\\n\", \"\\\"\", \"Anything\", \" goes\", \"\\\"\", \" \\\"\", \"anything\", \" goes\", \"\\\"\", \" \\\"\", \"Anything\", \" goes\", \".\\\"\", \" \\\"\", \"Be\", \" careful\", \".\\\"\", \" \\\"\", \"You\", \"\\n\", \"\\\"\", \"Listen\", \",\", \" can\", \" you\", \" keep\", \" the\", \" meter\", \" running\", \"?\\\"\", \" \\\"\", \" I\", \"'ll\", \" be\", \" about\", \" five\", \" minutes\", \".\\\"\", \" \\\"\", \" Can\", \"\\n\", \"\\\"\", \"Anything\", \" goes\", \"\\\"\", \" \\\"\", \"anything\", \" goes\", \"\\\"\", \" \\\"\", \"Anything\", \" goes\", \".\\\"\", \" \\\"\", \"Be\", \" careful\", \"\\n\", \"\\\"(\", \"BRE\", \"ATH\", \"ES\", \" D\", \"EE\", \"PL\", \"Y\", \")\\\"\", \" \\\"\", \"You\", \"\\n\", \"\\\"\", \"Anything\", \" goes\", \"\\\"\", \" \\\"\", \"anything\", \" goes\", \"\\\"\", \" \\\"\", \"Anything\", \" goes\", \".\\\"\", \" \\\"\", \"Be\", \" careful\", \".\\\"\", \" \\\"\", \"You\", \" never\", \" told\", \" me\", \"\\n\", \"\\\"\", \"Val\", \"encia\", \",\", \" CA\", \" 2\", \":\", \"43\", \" am\", \"\\\"\", \" \\\"\", \"Yeah\", \".\\\"\", \" \\\"\", \"Shit\", \"\\n\", \"\\\"\", \"Val\", \"encia\", \",\", \" CA\", \" 2\", \":\", \"43\", \" am\", \"\\\"\", \" \\\"\", \"Yeah\", \".\\\"\", \" \\\"\", \"Shit\", \".\\\"\", \" \\\"\", \"Where\", \" is\", \" he\", \"?\\\"\", \" \\\"\", \"Got\", \"ta\", \" go\", \"\\n\"], \"activations\": [[[0.0]], [[0.8031657934188843]], [[1.2035545110702515]], [[1.181778073310852]], [[1.690078854560852]], [[1.8120585680007935]], [[1.3404380083084106]], [[1.3807412385940552]], [[1.5732916593551636]], [[0.26725518703460693]], [[2.2595720291137695]], [[4.143413066864014]], [[4.476541996002197]], [[3.7786688804626465]], [[2.7758121490478516]], [[3.4370765686035156]], [[4.011203765869141]], [[0.0]], [[3.356682300567627]], [[4.660973072052002]], [[3.5903515815734863]], [[0.5288158655166626]], [[2.393939971923828]], [[4.952066898345947]], [[0.0]], [[0.0]], [[0.0]], [[0.0]], [[0.0]], [[0.0]], [[0.0]], [[0.0]], [[0.0]], [[0.0]], [[0.0]], [[0.0]], [[2.9810242652893066]], [[0.0]], [[1.6048849821090698]], [[4.511093616485596]], [[0.7244099378585815]], [[2.039275646209717]], [[4.884982109069824]], [[0.0]], [[0.0]], [[0.5934330224990845]], [[0.914997935295105]], [[1.6783825159072876]], [[0.18869280815124512]], [[2.4054465293884277]], [[1.8647841215133667]], [[3.788466453552246]], [[0.0]], [[2.440446376800537]], [[4.076562404632568]], [[4.143249988555908]], [[4.690035343170166]], [[0.0]], [[0.0]], [[0.8677278757095337]], [[0.7566314935684204]], [[0.03839671611785889]], [[0.04510629177093506]], [[2.3803839683532715]], [[2.339938163757324]], [[1.0123738050460815]], [[1.1212698221206665]], [[2.750333309173584]], [[2.5045104026794434]], [[0.0]], [[1.5622690916061401]], [[2.648622989654541]], [[4.582563877105713]], [[0.9269281625747681]], [[2.9644594192504883]], [[4.687536716461182]], [[0.0]], [[0.0]], [[0.8031657934188843]], [[1.2035545110702515]], [[1.181778073310852]], [[1.690078854560852]], [[1.8120585680007935]], [[1.3404380083084106]], [[1.3807412385940552]], [[1.5732916593551636]], [[0.26725518703460693]], [[2.2595720291137695]], [[4.143413066864014]], [[4.476541996002197]], [[3.7786688804626465]], [[2.7758121490478516]], [[3.4370765686035156]], [[4.011203765869141]], [[0.0]], [[3.356682300567627]], [[4.660973072052002]], [[0.0]], [[0.0]], [[0.8677345514297485]], [[0.7566243410110474]], [[0.03840768337249756]], [[0.04513096809387207]], [[2.3803558349609375]], [[2.339867115020752]], [[1.0126744508743286]], [[1.1212164163589478]], [[2.750331401824951]], [[2.5045690536499023]], [[0.0]], [[1.5622588396072388]], [[2.6486215591430664]], [[4.5825910568237305]], [[0.0]], [[0.0]], [[0.0]], [[0.0]], [[0.0]], [[0.0]], [[0.0]], [[0.0]], [[0.0]], [[0.2201462984085083]], [[2.448770046234131]], [[4.576773166656494]], [[0.0]], [[0.0]], [[0.8677278757095337]], [[0.7566314935684204]], [[0.03839671611785889]], [[0.04510629177093506]], [[2.3803839683532715]], [[2.339938163757324]], [[1.0123738050460815]], [[1.1212698221206665]], [[2.750333309173584]], [[2.5045104026794434]], [[0.0]], [[1.5622690916061401]], [[2.648622989654541]], [[4.582563877105713]], [[0.9269281625747681]], [[2.9644594192504883]], [[4.687536716461182]], [[3.806260585784912]], [[4.153705596923828]], [[4.513678073883057]], [[0.0]], [[0.0]], [[0.0]], [[0.0]], [[0.0]], [[0.0]], [[0.0]], [[0.0]], [[0.0]], [[0.0]], [[0.0]], [[0.0]], [[2.9810476303100586]], [[0.0]], [[1.6049386262893677]], [[4.5110883712768555]], [[0.0]], [[0.0]], [[0.0]], [[0.0]], [[0.0]], [[0.0]], [[0.0]], [[0.0]], [[0.0]], [[0.0]], [[0.0]], [[0.0]], [[2.9810242652893066]], [[0.0]], [[1.6048849821090698]], [[4.511093616485596]], [[0.7244099378585815]], [[2.039275646209717]], [[4.884982109069824]], [[4.162741661071777]], [[4.1187520027160645]], [[0.716499924659729]], [[2.2789883613586426]], [[4.457392692565918]], [[3.532496929168701]], [[4.4771904945373535]], [[0.0]]], \"firstDimensionName\": \"Attn Param\", \"secondDimensionName\": \"Feature\", \"firstDimensionLabels\": [\"Layer:4/Head:5/W_K\"], \"secondDimensionLabels\": [\"957\"]}\n",
       "    )\n",
       "    </script>"
      ],
      "text/plain": [
       "<circuitsvis.utils.render.RenderedHTML at 0x7f62e40c1650>"
      ]
     },
     "metadata": {},
     "output_type": "display_data"
    },
    {
     "data": {
      "text/html": [
       "<div id=\"circuits-vis-89f396f0-bd5d\" style=\"margin: 15px 0;\"/>\n",
       "    <script crossorigin type=\"module\">\n",
       "    import { render, TextNeuronActivations } from \"https://unpkg.com/circuitsvis@1.40.1/dist/cdn/esm.js\";\n",
       "    render(\n",
       "      \"circuits-vis-89f396f0-bd5d\",\n",
       "      TextNeuronActivations,\n",
       "      {\"tokens\": [\"export\", \" class\", \" Key\", \"board\", \"Controls\", \" {\", \"\\\\newline\", \"    \", \"constructor\", \"(\", \"visual\", \"izer\", \",\", \" bindings\", \")\", \" {\", \"\\\\newline\", \"        \", \"this\", \".\", \"visual\", \"izer\", \" =\", \"\\n\", \"def\", \" e\", \"uclidean\", \"Distance\", \"(\", \"p\", \":\", \" List\", \"[\", \"Int\", \"],\", \" q\", \":\", \" List\", \"[\", \"Int\", \"]):\", \" Int\", \" =\", \"\\\\newline\", \"    \", \"math\", \".\", \"sqrt\", \"(\", \"\\n\", \"function\", \" get\", \"Cookie\", \"(\", \"name\", \")\", \" {\", \"\\\\newline\", \"    \", \"var\", \" cookie\", \"Value\", \" =\", \" null\", \";\", \"\\\\newline\", \"    \", \"if\", \" (\", \"document\", \".\", \"cookie\", \" &&\", \"\\n\", \"if\", \" (\", \"global\", \".\", \"G\", \"ENT\", \"LY\", \")\", \" require\", \" =\", \" G\", \"ENT\", \"LY\", \".\", \"h\", \"ij\", \"ack\", \"(\", \"\\n\", \"'\", \"use\", \" strict\", \"';\", \"\\\\newline\", \"module\", \".\", \"exports\", \" =\", \" function\", \" (\", \"str\", \",\", \" sep\", \")\", \" {\", \"\\\\newline\", \"\\t\", \"if\", \" (\", \"\\n\", \"log\", \".\", \"level\", \"=${\", \"log\", \".\", \"level\", \"}\", \"\\\\newline\", \"log\", \".\", \"path\", \"=${\", \"\\n\", \"function\", \" get\", \"Cookie\", \"(\", \"name\", \")\", \" {\", \"\\\\newline\", \"    \", \"var\", \" cookie\", \"Value\", \" =\", \" null\", \";\", \"\\\\newline\", \"    \", \"if\", \" (\", \"\\n\", \"Q\", \":\", \"\\\\newline\", \"\\\\newline\", \"defer\", \" log\", \".\", \"Set\", \"Output\", \"(\", \"os\", \".\", \"Std\", \"out\", \")\", \" after\", \" log\", \".\", \"Set\", \"Output\", \"(\", \"\\n\", \"def\", \" safe\", \"_\", \"remove\", \"(\", \"f\", \"):\", \"\\\\newline\", \"    \", \"import\", \" os\", \"\\\\newline\", \"    \", \"try\", \":\", \"\\\\newline\", \"        \", \"os\", \".\", \"remove\", \"(\", \"\\n\", \"Q\", \":\", \"\\\\newline\", \"\\\\newline\", \"Excel\", \" \\u0438\", \" \\u043c\", \"\\u0430\\u0441\\u0441\", \"\\u0438\\u0432\", \" Python\", \"\\\\newline\\\\newline\", \"        \", \"df\", \" =\", \" pd\", \".\", \"read\", \"_\", \"ex\", \"cel\", \"(\", \"\\n\"], \"activations\": [[[0.124237060546875]], [[0.0]], [[0.0]], [[0.0]], [[0.0]], [[0.0]], [[0.0]], [[0.0]], [[0.0]], [[2.4125304222106934]], [[0.0]], [[0.14054858684539795]], [[1.6795504093170166]], [[0.0]], [[0.0]], [[1.0099010467529297]], [[0.0]], [[0.6960422992706299]], [[0.11559593677520752]], [[1.3017570972442627]], [[1.1732754707336426]], [[0.11420369148254395]], [[5.572744369506836]], [[0.0]], [[0.0]], [[0.0]], [[0.0]], [[0.0]], [[1.9112498760223389]], [[0.34276390075683594]], [[1.2158408164978027]], [[0.21355247497558594]], [[1.80859375]], [[0.0]], [[2.6832714080810547]], [[0.0]], [[2.2029261589050293]], [[0.0]], [[2.1145758628845215]], [[0.0]], [[0.658754825592041]], [[0.0]], [[2.48185396194458]], [[0.7980406284332275]], [[0.7635903358459473]], [[0.0]], [[0.4856429100036621]], [[0.636232852935791]], [[5.366488456726074]], [[0.0]], [[0.0]], [[0.0]], [[0.0]], [[2.2794625759124756]], [[0.32235777378082275]], [[0.6265368461608887]], [[1.3059022426605225]], [[0.13826334476470947]], [[0.8232438564300537]], [[0.5617725849151611]], [[0.0]], [[0.005755901336669922]], [[4.288769721984863]], [[0.2213144302368164]], [[0.6964104175567627]], [[0.6941080093383789]], [[2.18843412399292]], [[0.8000693321228027]], [[4.548113822937012]], [[0.6348564624786377]], [[1.4094924926757812]], [[2.032869815826416]], [[5.039420127868652]], [[0.0]], [[1.5170507431030273]], [[2.5648016929626465]], [[0.0]], [[0.3916360139846802]], [[0.00356137752532959]], [[0.0]], [[0.0]], [[0.0220029354095459]], [[0.0]], [[0.5097916126251221]], [[0.5895321369171143]], [[0.0]], [[0.0]], [[0.0]], [[0.0]], [[0.0]], [[0.0]], [[4.6827616691589355]], [[0.0]], [[0.13819754123687744]], [[0.0]], [[0.0]], [[0.0]], [[0.0972449779510498]], [[0.0]], [[0.0]], [[0.0]], [[2.2442283630371094]], [[0.5563201904296875]], [[2.0250461101531982]], [[0.0]], [[1.626953125]], [[0.07900726795196533]], [[0.08417916297912598]], [[1.0051662921905518]], [[0.0]], [[0.7581748962402344]], [[1.047846794128418]], [[4.624131679534912]], [[0.0]], [[0.5289473533630371]], [[0.40456056594848633]], [[0.0]], [[4.089044570922852]], [[0.46196413040161133]], [[1.486957311630249]], [[0.0]], [[0.0]], [[0.0]], [[0.0]], [[0.26670563220977783]], [[0.0]], [[4.595757484436035]], [[0.0]], [[0.0]], [[0.0]], [[0.0]], [[2.2794625759124756]], [[0.32235777378082275]], [[0.6265368461608887]], [[1.3059022426605225]], [[0.13826334476470947]], [[0.8232438564300537]], [[0.5617725849151611]], [[0.0]], [[0.005755901336669922]], [[4.288769721984863]], [[0.2213144302368164]], [[0.6964104175567627]], [[0.6941080093383789]], [[2.18843412399292]], [[0.8000693321228027]], [[4.548113822937012]], [[0.0]], [[0.0]], [[0.0]], [[0.0]], [[0.0]], [[0.0]], [[0.0]], [[0.0]], [[0.0]], [[0.0]], [[2.9938573837280273]], [[0.12817728519439697]], [[0.3991410732269287]], [[0.0]], [[0.301444411277771]], [[0.6252336502075195]], [[0.0]], [[0.0]], [[0.0]], [[0.0]], [[0.0]], [[4.490356922149658]], [[0.0]], [[0.0]], [[0.0]], [[0.032379150390625]], [[0.0]], [[2.0352706909179688]], [[0.2688335180282593]], [[0.09856069087982178]], [[0.17318212985992432]], [[0.15927600860595703]], [[0.0]], [[0.0]], [[0.053816795349121094]], [[0.3757878541946411]], [[0.0]], [[0.0]], [[0.0]], [[0.20864331722259521]], [[0.0]], [[0.0]], [[0.0]], [[4.470225811004639]], [[0.0]], [[0.0]], [[0.0]], [[0.0]], [[0.0]], [[0.0]], [[0.0]], [[0.0]], [[0.0]], [[0.0]], [[0.0]], [[0.0]], [[0.0]], [[0.0]], [[0.9924356937408447]], [[0.0]], [[0.0]], [[0.0]], [[0.29571211338043213]], [[0.0]], [[0.0]], [[4.313632011413574]], [[0.0]]], \"firstDimensionName\": \"Attn Param\", \"secondDimensionName\": \"Feature\", \"firstDimensionLabels\": [\"Layer:4/Head:5/W_K\"], \"secondDimensionLabels\": [\"972\"]}\n",
       "    )\n",
       "    </script>"
      ],
      "text/plain": [
       "<circuitsvis.utils.render.RenderedHTML at 0x7f62e40c3ad0>"
      ]
     },
     "metadata": {},
     "output_type": "display_data"
    },
    {
     "data": {
      "text/html": [
       "<div id=\"circuits-vis-e2425d3a-dfb6\" style=\"margin: 15px 0;\"/>\n",
       "    <script crossorigin type=\"module\">\n",
       "    import { render, TextNeuronActivations } from \"https://unpkg.com/circuitsvis@1.40.1/dist/cdn/esm.js\";\n",
       "    render(\n",
       "      \"circuits-vis-e2425d3a-dfb6\",\n",
       "      TextNeuronActivations,\n",
       "      {\"tokens\": [\"S\", \"erm\", \"ons\", \" from\", \" February\", \" 2017\", \"\\\\newline\", \"\\\\newline\", \"In\", \" 2017\", \",\", \" our\", \" church\", \"\\u2019\", \"s\", \" theme\", \" is\", \" \\u201c\", \"\\n\", \"Z\", \"oe\", \" K\", \"rav\", \"itz\", \" Says\", \" She\", \"'ll\", \" Never\", \" Work\", \" With\", \" Wood\", \"y\", \" Allen\", \".\", \" K\", \"rav\", \"itz\", \" admits\", \" that\", \" she\", \" was\", \" \\u201c\", \"\\n\", \"By\", \" Palestine\", \" Chronicle\", \" Staff\", \"\\\\newline\", \"\\\\newline\", \"The\", \" politically\", \"-\", \"s\", \"ymb\", \"olic\", \" act\", \" of\", \" two\", \" young\", \" American\", \" athletes\", \" has\", \" been\", \" dubbed\", \" \\u2018\", \"\\n\", \"At\", \" Mom\", \"\\u2019\", \"s\", \" suggestion\", \",\", \" I\", \"\\u2019\", \"m\", \" going\", \" to\", \" try\", \" putting\", \" together\", \" a\", \" post\", \" or\", \" two\", \" on\", \" some\", \" of\", \" the\", \" more\", \" obvious\", \" \\u201c\", \"\\n\", \"In\", \" the\", \" past\", \" few\", \" days\", \",\", \" President\", \" Donald\", \" Trump\", \" has\", \" revealed\", \" that\", \" he\", \" does\", \" not\", \" know\", \" the\", \" definition\", \" of\", \" \\u201c\", \"\\n\", \"Bor\", \"is\", \" Johnson\", \" has\", \" challenged\", \" critics\", \" of\", \" his\", \" \\u201c\", \"\\n\", \"The\", \" resolution\", \" specifically\", \" takes\", \" aim\", \" at\", \" Trump\", \"\\u2019\", \"s\", \" stated\", \" goal\", \" of\", \" \\u201c\", \"\\n\", \"David\", \" Cameron\", \" announced\", \" a\", \" new\", \" racist\", \" crack\", \"down\", \" on\", \" Monday\", \".\", \" He\", \" declared\", \" he\", \" would\", \" remove\", \" housing\", \" from\", \" \\u201c\", \"\\n\", \"President\", \" Trump\", \" expressed\", \" his\", \" frustr\", \"ations\", \" over\", \" an\", \" anonymous\", \" New\", \" York\", \" Times\", \" op\", \"-\", \"ed\", \" from\", \" a\", \" senior\", \" administration\", \" official\", \",\", \" describing\", \" it\", \" as\", \" \\\"\", \"\\n\", \"The\", \" British\", \" Labour\", \" Party\", \" is\", \" prepared\", \" to\", \" back\", \" a\", \" second\", \" referendum\", \" to\", \" prevent\", \" a\", \" \\\"\", \"\\n\"], \"activations\": [[[0.0]], [[0.0]], [[0.0]], [[0.0]], [[0.0]], [[0.0]], [[0.0]], [[0.0434802770614624]], [[0.061714768409729004]], [[0.0]], [[0.0]], [[0.1175769567489624]], [[0.0]], [[0.9087539911270142]], [[0.3603026866912842]], [[0.48237836360931396]], [[1.3211203813552856]], [[6.5230021476745605]], [[0.0]], [[0.0]], [[0.0]], [[0.0]], [[0.0]], [[0.0]], [[0.0]], [[0.0]], [[0.0]], [[0.0]], [[0.0]], [[0.0]], [[0.0]], [[0.0]], [[0.0]], [[0.0]], [[0.0]], [[0.0]], [[0.0]], [[0.0]], [[0.0]], [[0.0]], [[0.1156473159790039]], [[6.235803604125977]], [[0.0]], [[0.0]], [[0.0]], [[0.0]], [[0.0]], [[0.0]], [[0.0]], [[0.0]], [[0.04565608501434326]], [[0.4450885057449341]], [[0.0]], [[0.0]], [[0.0]], [[0.0]], [[0.22512423992156982]], [[0.23653435707092285]], [[0.2355060577392578]], [[0.0]], [[0.0]], [[0.09611248970031738]], [[0.0]], [[1.7922550439834595]], [[6.2288594245910645]], [[0.0]], [[0.0]], [[0.0]], [[0.8762413263320923]], [[0.2564924955368042]], [[0.0]], [[0.0]], [[0.18661344051361084]], [[0.0]], [[0.3875436782836914]], [[0.23599183559417725]], [[0.3824201822280884]], [[0.0]], [[0.45831120014190674]], [[0.6409063339233398]], [[0.6195076704025269]], [[0.0]], [[0.0]], [[0.0]], [[0.0777592658996582]], [[0.2679961919784546]], [[0.0]], [[0.05885469913482666]], [[0.3904327154159546]], [[0.6246097087860107]], [[6.195318698883057]], [[0.0]], [[0.0]], [[0.0]], [[0.0]], [[0.0]], [[0.0]], [[0.0]], [[0.0]], [[0.0]], [[0.23966288566589355]], [[0.4704529047012329]], [[0.3789902925491333]], [[0.7734357118606567]], [[0.5829223394393921]], [[0.22626233100891113]], [[0.5265566110610962]], [[0.0]], [[0.3705558776855469]], [[0.3543308973312378]], [[1.1841033697128296]], [[6.140655517578125]], [[0.0]], [[0.0]], [[0.0]], [[0.0]], [[0.0]], [[0.0]], [[0.0]], [[0.0]], [[0.0]], [[6.092750072479248]], [[0.0]], [[0.18654775619506836]], [[0.0]], [[0.0]], [[0.0]], [[0.0]], [[0.41283321380615234]], [[0.40640556812286377]], [[0.400762677192688]], [[0.542102575302124]], [[0.7684568166732788]], [[0.14368343353271484]], [[0.6516667604446411]], [[6.055083751678467]], [[0.0]], [[0.0]], [[0.4443761110305786]], [[0.0]], [[0.014862537384033203]], [[0.14249515533447266]], [[0.0]], [[0.0]], [[0.0]], [[0.0]], [[0.0]], [[0.0]], [[0.004677772521972656]], [[0.4331456422805786]], [[0.95014488697052]], [[0.4655267000198364]], [[0.3180729150772095]], [[0.0]], [[0.0]], [[6.002917766571045]], [[0.0]], [[0.0]], [[0.6175326108932495]], [[0.0]], [[0.0]], [[0.0]], [[0.0]], [[0.0]], [[0.0]], [[0.0]], [[0.0]], [[0.0]], [[0.0]], [[0.0]], [[0.0]], [[0.0]], [[0.0]], [[0.17627084255218506]], [[0.0]], [[0.0]], [[0.0]], [[0.0]], [[0.0]], [[0.0]], [[1.527279019355774]], [[5.956291675567627]], [[0.0]], [[0.18654775619506836]], [[0.0]], [[0.0]], [[0.0]], [[0.09791290760040283]], [[0.0]], [[0.0]], [[0.0]], [[0.24882853031158447]], [[0.0]], [[0.0]], [[0.14887845516204834]], [[0.7113299369812012]], [[0.46245574951171875]], [[5.932365894317627]], [[0.0]]], \"firstDimensionName\": \"Attn Param\", \"secondDimensionName\": \"Feature\", \"firstDimensionLabels\": [\"Layer:4/Head:5/W_K\"], \"secondDimensionLabels\": [\"1013\"]}\n",
       "    )\n",
       "    </script>"
      ],
      "text/plain": [
       "<circuitsvis.utils.render.RenderedHTML at 0x7f62e40c6710>"
      ]
     },
     "metadata": {},
     "output_type": "display_data"
    },
    {
     "data": {
      "text/markdown": [
       "##### Examining Layer:4/Head:5/W_Q"
      ],
      "text/plain": [
       "<IPython.core.display.Markdown object>"
      ]
     },
     "metadata": {},
     "output_type": "display_data"
    },
    {
     "name": "stdout",
     "output_type": "stream",
     "text": [
      "Found 26 features over threshold 1.500 for L4H5:W_Q\n",
      "Feature ids = [49, 83, 116, 129, 310, 311, 314, 350, 363, 389, 401, 432, 459, 517, 528, 654, 659, 671, 710, 714, 762, 795, 825, 940, 953, 1006]\n"
     ]
    },
    {
     "data": {
      "text/html": [
       "<div id=\"circuits-vis-dafc8790-8026\" style=\"margin: 15px 0;\"/>\n",
       "    <script crossorigin type=\"module\">\n",
       "    import { render, TextNeuronActivations } from \"https://unpkg.com/circuitsvis@1.40.1/dist/cdn/esm.js\";\n",
       "    render(\n",
       "      \"circuits-vis-dafc8790-8026\",\n",
       "      TextNeuronActivations,\n",
       "      {\"tokens\": [\"Q\", \":\", \"\\\\newline\", \"\\\\newline\", \"How\", \" do\", \" I\", \" get\", \" associated\", \" models\", \" to\", \" run\", \" __\", \"construct\", \"?\", \"\\\\newline\", \"\\\\newline\", \"Little\", \" history\", \";\", \" I\", \" hate\", \" the\", \" fact\", \" that\", \"\\n\", \"After\", \" nearly\", \" five\", \" years\", \" of\", \" debate\", \" the\", \" European\", \" parliament\", \" has\", \" finally\", \" approved\", \" a\", \" new\", \" law\", \" that\", \" will\", \" allow\", \"\\n\", \"Q\", \":\", \"\\\\newline\", \"\\\\newline\", \"Natural\", \" vs\", \" surrogate\", \" keys\", \" on\", \" support\", \" tables\", \"\\\\newline\", \"\\\\newline\", \"I\", \" have\", \" read\", \" many\", \" articles\", \" about\", \"\\n\", \"I\", \" like\", \" zo\", \"os\", \".\", \" Really\", \" I\", \" do\", \".\", \" I\", \" applaud\", \" today\", \"\\u2019\", \"s\", \" zo\", \"ological\", \" parks\", \" for\", \" their\", \" increasing\", \" emphasis\", \" on\", \"\\n\", \"Ph\", \"yt\", \"oplasma\", \":\", \" phyt\", \"opath\", \"ogenic\", \" mol\", \"lic\", \"utes\", \".\", \"\\\\newline\", \"During\", \" the\", \" past\", \" decade\", \",\", \" research\", \" has\", \" yielded\", \" new\", \" knowledge\", \" about\", \"\\n\", \"Me\", \"eting\", \" the\", \" psychosocial\", \" needs\", \" of\", \" pac\", \"emaker\", \" patients\", \".\", \"\\\\newline\", \"A\", \" review\", \" of\", \" the\", \" literature\", \" concerning\", \"\\n\", \"The\", \" European\", \" Parliament\", \" Committee\", \" on\", \" Economic\", \" and\", \" Mon\", \"etary\", \" Affairs\", \" (\", \"EC\", \"ON\", \")\", \" published\", \" a\", \" report\", \" this\", \" July\", \" that\", \" concluded\", \" that\", \"\\n\", \"Introduction\", \"\\\\newline\", \"============\", \"\\\\newline\", \"\\\\newline\", \"Now\", \"adays\", \",\", \" online\", \" crowds\", \"ourcing\", \" is\", \" one\", \" of\", \" the\", \" widely\", \" used\", \" methods\", \" for\", \"\\n\", \"Cl\", \"in\", \"ician\", \" compliance\", \" with\", \" laboratory\", \" regulations\", \" requiring\", \"\\n\", \"Journal\", \" of\", \" Women\", \" &\", \" A\", \"ging\", \"\\\\newline\", \"\\\\newline\", \"The\", \" Journal\", \" of\", \" Women\", \" &\", \" A\", \"ging\", \" is\", \" a\", \" quarterly\", \" peer\", \"-\", \"reviewed\", \" healthcare\", \" journal\", \" focusing\", \" on\", \"\\n\"], \"activations\": [[[0.0]], [[0.0]], [[0.0]], [[0.0]], [[0.0365748405456543]], [[1.3382306098937988]], [[0.0]], [[1.6034345626831055]], [[0.2747178077697754]], [[0.0]], [[1.7765707969665527]], [[0.1816960573196411]], [[0.0]], [[0.0]], [[0.0]], [[0.0]], [[0.0]], [[0.0]], [[0.0]], [[0.0]], [[0.0]], [[2.98083758354187]], [[0.4445972442626953]], [[0.0]], [[8.467494010925293]], [[0.0]], [[0.0]], [[0.0]], [[0.0]], [[0.0]], [[0.0]], [[0.9527707099914551]], [[0.0]], [[0.0]], [[0.014238595962524414]], [[3.3857123851776123]], [[2.48502516746521]], [[2.5051443576812744]], [[1.0035860538482666]], [[1.4415054321289062]], [[0.0]], [[3.422264814376831]], [[4.132298469543457]], [[8.394183158874512]], [[0.0]], [[0.0]], [[0.0]], [[0.0]], [[0.0]], [[0.0]], [[0.0]], [[0.0]], [[0.0]], [[1.9634957313537598]], [[0.0]], [[0.0]], [[0.0]], [[0.0]], [[0.0]], [[0.8972599506378174]], [[0.18148839473724365]], [[1.3625962734222412]], [[0.0]], [[7.87126350402832]], [[0.0]], [[0.0]], [[0.0]], [[0.0]], [[0.0]], [[0.0]], [[0.0]], [[0.0]], [[0.0]], [[0.0]], [[0.0]], [[0.0]], [[0.0]], [[1.6041958332061768]], [[0.0]], [[0.0]], [[0.0]], [[0.06106281280517578]], [[0.9754414558410645]], [[0.5645022392272949]], [[0.6721031665802002]], [[0.0]], [[7.762608528137207]], [[0.0]], [[0.0]], [[0.0]], [[0.0]], [[0.0]], [[0.0]], [[0.0]], [[0.0]], [[0.0]], [[0.0]], [[0.0]], [[0.0]], [[0.0]], [[2.132981300354004]], [[0.0]], [[0.0]], [[0.23445117473602295]], [[5.261808395385742]], [[0.0]], [[0.6263048648834229]], [[1.4298794269561768]], [[0.3364851474761963]], [[0.2504129409790039]], [[7.754878044128418]], [[0.0]], [[0.0]], [[0.0]], [[0.0]], [[0.0]], [[0.0]], [[1.2912180423736572]], [[0.0]], [[0.0]], [[0.0]], [[0.0]], [[0.0]], [[0.0]], [[0.0]], [[3.0401957035064697]], [[0.0]], [[0.0]], [[7.703537940979004]], [[0.0]], [[0.0]], [[0.0]], [[0.0]], [[0.0]], [[0.3687169551849365]], [[0.0]], [[0.0]], [[0.0]], [[0.0]], [[0.0]], [[0.7445611953735352]], [[0.0]], [[0.0]], [[0.0]], [[0.7176434993743896]], [[0.0]], [[0.0]], [[0.0]], [[0.0]], [[3.4719884395599365]], [[1.1479432582855225]], [[7.659676551818848]], [[0.0]], [[0.0]], [[0.0]], [[0.0]], [[0.0]], [[0.0]], [[0.0]], [[0.9895274639129639]], [[4.251438140869141]], [[0.0]], [[0.0]], [[0.0]], [[0.0]], [[0.0]], [[0.0]], [[0.0]], [[0.00868535041809082]], [[2.262454032897949]], [[0.0]], [[7.618529319763184]], [[0.0]], [[0.0]], [[0.0]], [[0.0]], [[0.0]], [[0.45764970779418945]], [[0.0]], [[0.0]], [[7.600811958312988]], [[0.0]], [[0.0]], [[0.0739891529083252]], [[0.0]], [[0.0]], [[0.0]], [[0.0]], [[0.0]], [[0.0]], [[0.0]], [[0.0]], [[1.1086156368255615]], [[0.11258232593536377]], [[0.0]], [[0.0]], [[0.0]], [[0.0]], [[0.0]], [[0.0]], [[0.0]], [[0.0]], [[0.2558259963989258]], [[0.0]], [[0.0]], [[0.6957192420959473]], [[7.60024356842041]], [[0.0]]], \"firstDimensionName\": \"Attn Param\", \"secondDimensionName\": \"Feature\", \"firstDimensionLabels\": [\"Layer:4/Head:5/W_Q\"], \"secondDimensionLabels\": [\"49\"]}\n",
       "    )\n",
       "    </script>"
      ],
      "text/plain": [
       "<circuitsvis.utils.render.RenderedHTML at 0x7f62e4097190>"
      ]
     },
     "metadata": {},
     "output_type": "display_data"
    },
    {
     "data": {
      "text/html": [
       "<div id=\"circuits-vis-03ecba5a-efbb\" style=\"margin: 15px 0;\"/>\n",
       "    <script crossorigin type=\"module\">\n",
       "    import { render, TextNeuronActivations } from \"https://unpkg.com/circuitsvis@1.40.1/dist/cdn/esm.js\";\n",
       "    render(\n",
       "      \"circuits-vis-03ecba5a-efbb\",\n",
       "      TextNeuronActivations,\n",
       "      {\"tokens\": [\"#\", \"include\", \" <\", \"windows\", \".\", \"h\", \">\", \"\\\\newline\", \"#\", \"include\", \" \\\"\", \"ias\", \"iod\", \"rv\", \".\", \"h\", \"\\\"\", \"\\\\newline\", \"#\", \"include\", \"\\n\", \"\\\\newline\", \"  \", \"<\", \"b\", \":\", \"style\", \" src\", \"=\\\"\", \"./\", \"Node\", \".\", \"css\", \"\\\"/>\", \"\\\\newline\", \"  \", \"<\", \"b\", \":\", \"style\", \" src\", \"=\\\"\", \"\\n\", \"Sto\", \"ch\", \"astic\", \" separation\", \" theorems\", \".\", \"\\\\newline\", \"The\", \" problem\", \" of\", \" non\", \"-\", \"iter\", \"ative\", \" one\", \"-\", \"shot\", \" and\", \" non\", \"\\n\", \"#\", \"include\", \" \\\"\", \"api\", \"_\", \"config\", \".\", \"h\", \"\\\"\", \"\\\\newline\", \"#\", \"include\", \" \\\"\", \"common\", \".\", \"h\", \"\\\"\", \"\\\\newline\", \"#\", \"include\", \"\\n\", \"/*\", \"\\\\newline\", \" *\", \" Matrix\", \" test\", \".\", \"\\\\newline\", \" */\", \"\\\\newline\", \"#\", \"include\", \" \\\"\", \"io\", \"/\", \"st\", \"reams\", \"/\", \"cout\", \".\", \"hh\", \"\\\"\", \"\\\\newline\", \"#\", \"include\", \"\\n\", \"Custom\", \"ers\", \" purchased\", \" millions\", \" more\", \" Amazon\", \" Devices\", \" this\", \" holiday\", \" season\", \" compared\", \" to\", \" last\", \" year\", \" \\u2013\", \" the\", \" best\", \"-\", \"selling\", \" Amazon\", \" Devices\", \"\\n\", \"Sn\", \"ork\", \"eling\", \" Water\", \"le\", \"mon\", \" Cay\", \" on\", \" St\", \" John\", \"\\\\newline\", \"\\\\newline\", \"About\", \" Water\", \"le\", \"mon\", \" Cay\", \"\\\\newline\", \"Water\", \"le\", \"mon\", \" Cay\", \"\\n\", \"Eric\", \" Bang\", \"eman\", \"\\\\newline\", \"\\\\newline\", \"Eric\", \" Bang\", \"eman\", \"\\\\newline\\\\newline\\\\newline\\\\newline\\\\newline\", \"\\\\newline\", \"Eric\", \" Bang\", \"eman\", \"\\n\", \"#\", \"include\", \" <\", \"stdlib\", \".\", \"h\", \">\", \"\\\\newline\", \"#\", \"include\", \" <\", \"un\", \"ist\", \"d\", \".\", \"h\", \">\", \"\\\\newline\", \"#\", \"include\", \"\\n\", \"\\\\newline\", \"  \", \"<\", \"b\", \":\", \"style\", \" src\", \"=\\\"\", \"./\", \"Node\", \".\", \"css\", \"\\\"/>\", \"\\\\newline\", \"  \", \"<\", \"b\", \"\\n\"], \"activations\": [[[0.0]], [[0.0]], [[0.0]], [[0.0]], [[0.0]], [[0.0]], [[0.0]], [[0.0]], [[1.1059800386428833]], [[7.0058064460754395]], [[0.0]], [[0.0]], [[0.0]], [[0.0]], [[0.0]], [[0.0]], [[0.0]], [[0.0]], [[1.456302285194397]], [[13.475564002990723]], [[0.0]], [[0.0]], [[0.0]], [[0.0]], [[0.0]], [[0.0]], [[0.0]], [[0.0]], [[0.0]], [[0.0]], [[0.0]], [[0.0]], [[0.0]], [[0.0]], [[0.0]], [[0.0]], [[0.0]], [[9.015457153320312]], [[0.5345730781555176]], [[0.05669760704040527]], [[5.65433406829834]], [[12.156521797180176]], [[0.0]], [[0.0]], [[0.0]], [[0.0]], [[0.0]], [[0.0]], [[0.0]], [[0.0]], [[0.0]], [[0.0]], [[0.0]], [[0.0]], [[0.0]], [[0.0]], [[0.0]], [[0.0]], [[0.0]], [[0.0]], [[2.4419021606445312]], [[11.219578742980957]], [[0.0]], [[0.0]], [[0.0]], [[0.0]], [[0.0]], [[0.0]], [[0.0]], [[0.0]], [[0.0]], [[0.0]], [[0.0]], [[0.6351189613342285]], [[5.746798992156982]], [[0.0]], [[0.0]], [[0.0]], [[2.7483296394348145]], [[0.0]], [[0.0]], [[0.5242229700088501]], [[10.013823509216309]], [[0.0]], [[0.0]], [[0.0]], [[0.0]], [[0.0]], [[0.0]], [[0.0]], [[0.0]], [[0.0]], [[0.0]], [[0.0]], [[0.0]], [[0.0]], [[0.0]], [[0.0]], [[0.0]], [[0.0]], [[0.0]], [[0.0]], [[0.0]], [[0.0]], [[0.0]], [[0.0]], [[1.9715157747268677]], [[9.748852729797363]], [[0.0]], [[0.0]], [[0.0]], [[0.0]], [[0.0]], [[0.0]], [[0.0]], [[0.0]], [[0.0]], [[0.0]], [[0.0]], [[0.0]], [[0.0]], [[0.0]], [[0.0]], [[0.0]], [[0.0]], [[0.0]], [[0.0]], [[0.0]], [[0.0]], [[9.519990921020508]], [[0.0]], [[0.0]], [[0.0]], [[0.0]], [[0.0]], [[0.0]], [[0.0]], [[0.0]], [[0.0]], [[0.0]], [[0.0]], [[0.0]], [[0.0]], [[0.0]], [[0.0]], [[0.0]], [[0.0]], [[8.322568893432617]], [[0.0]], [[0.0]], [[0.0]], [[0.0]], [[9.464428901672363]], [[0.0]], [[0.0]], [[0.0]], [[0.0]], [[0.0]], [[0.0]], [[0.0]], [[0.0]], [[0.0]], [[0.0]], [[0.0]], [[0.0]], [[0.0]], [[9.15548324584961]], [[0.0]], [[0.0]], [[0.0]], [[0.0]], [[0.0]], [[0.0]], [[0.0]], [[0.0]], [[0.0]], [[0.593641996383667]], [[6.547556400299072]], [[0.0]], [[0.0]], [[0.0]], [[0.0]], [[0.0]], [[0.0]], [[0.0]], [[0.0]], [[0.4194619655609131]], [[9.104411125183105]], [[0.0]], [[0.0]], [[0.0]], [[0.0]], [[0.0]], [[0.0]], [[0.0]], [[0.0]], [[0.0]], [[0.0]], [[0.0]], [[0.0]], [[0.0]], [[0.0]], [[0.0]], [[0.0]], [[0.0]], [[9.01593017578125]], [[0.0]]], \"firstDimensionName\": \"Attn Param\", \"secondDimensionName\": \"Feature\", \"firstDimensionLabels\": [\"Layer:4/Head:5/W_Q\"], \"secondDimensionLabels\": [\"83\"]}\n",
       "    )\n",
       "    </script>"
      ],
      "text/plain": [
       "<circuitsvis.utils.render.RenderedHTML at 0x7f62f336bad0>"
      ]
     },
     "metadata": {},
     "output_type": "display_data"
    },
    {
     "data": {
      "text/html": [
       "<div id=\"circuits-vis-0dbc474f-28e6\" style=\"margin: 15px 0;\"/>\n",
       "    <script crossorigin type=\"module\">\n",
       "    import { render, TextNeuronActivations } from \"https://unpkg.com/circuitsvis@1.40.1/dist/cdn/esm.js\";\n",
       "    render(\n",
       "      \"circuits-vis-0dbc474f-28e6\",\n",
       "      TextNeuronActivations,\n",
       "      {\"tokens\": [\"#\", \"coding\", \"=\", \"utf\", \"-\", \"8\", \"\\\\newline\", \"#\", \"coding\", \"=\", \"utf\", \"-\", \"\\n\", \"package\", \" org\", \".\", \"int\", \"ell\", \"ij\", \".\", \"markdown\", \".\", \"parser\", \".\", \"sequ\", \"ential\", \"pars\", \"ers\", \".\", \"impl\", \"\\\\newline\", \"\\\\newline\", \"import\", \" org\", \".\", \"int\", \"\\n\", \"![](\", \"hos\", \"pl\", \"ond\", \"7\", \"24\", \"22\", \"-\", \"0017\", \"){#\", \"sp\", \"1\", \".\", \"601\", \"}\", \"\\\\newline\", \"\\\\newline\", \"![](\", \"hos\", \"\\n\", \"![](\", \"edin\", \"b\", \"med\", \"j\", \"7\", \"38\", \"90\", \"-\", \"0014\", \"){#\", \"sp\", \"1\", \".\", \"405\", \"}\", \"\\\\newline\", \"\\\\newline\", \"![](\", \"edin\", \"b\", \"med\", \"j\", \"\\n\", \"![](\", \"l\", \"ond\", \"med\", \"phys\", \"j\", \"69\", \"053\", \"-\", \"0024\", \"){#\", \"sp\", \"1\", \".\", \"288\", \"}\", \"\\\\newline\", \"\\\\newline\", \"![](\", \"l\", \"ond\", \"med\", \"phys\", \"j\", \"\\n\", \"![](\", \"gl\", \"asgow\", \"med\", \"j\", \"755\", \"20\", \"-\", \"00\", \"66\", \"){#\", \"sp\", \"1\", \".\", \"466\", \"}\", \"\\\\newline\", \"\\\\newline\", \"![](\", \"gl\", \"asgow\", \"med\", \"j\", \"\\n\", \"Published\", \":\", \" Wednesday\", \",\", \" April\", \" 24\", \",\", \" 2013\", \" at\", \" 7\", \":\", \"18\", \" p\", \".\", \"m\", \".\", \"\\\\newline\", \"\\\\newline\", \"Last\", \" Modified\", \":\", \" Wednesday\", \",\", \"\\n\", \"Published\", \":\", \" Wednesday\", \",\", \" April\", \" 24\", \",\", \" 2013\", \" at\", \" 7\", \":\", \"18\", \" p\", \".\", \"m\", \".\", \"\\\\newline\", \"\\\\newline\", \"Last\", \" Modified\", \":\", \" Wednesday\", \",\", \" April\", \"\\n\", \"Q\", \":\", \"\\\\newline\", \"\\\\newline\", \"Natural\", \" vs\", \" surrogate\", \" keys\", \" on\", \" support\", \" tables\", \"\\\\newline\", \"\\\\newline\", \"I\", \" have\", \" read\", \" many\", \" articles\", \" about\", \"\\n\", \"![](\", \"ind\", \"med\", \"g\", \"az\", \"7\", \"1974\", \"-\", \"0019\", \"){#\", \"sp\", \"1\", \".\", \"253\", \"}\", \"\\\\newline\", \"\\\\newline\", \"![](\", \"ind\", \"med\", \"g\", \"az\", \"\\n\"], \"activations\": [[[0.0]], [[0.0]], [[0.0]], [[0.0]], [[0.0]], [[0.0]], [[0.0]], [[0.0]], [[0.0]], [[0.0]], [[0.0]], [[6.868030548095703]], [[0.0]], [[0.0]], [[0.0]], [[0.0]], [[0.0]], [[0.0]], [[0.0]], [[0.0]], [[0.0]], [[0.0]], [[0.0]], [[0.0980294942855835]], [[0.0]], [[0.0]], [[0.0]], [[0.0]], [[0.0]], [[0.0]], [[0.0]], [[0.0]], [[0.0]], [[0.0]], [[0.0]], [[5.1766037940979]], [[0.0]], [[0.0]], [[0.0]], [[0.0]], [[0.0]], [[0.0]], [[0.0]], [[0.0]], [[0.058026909828186035]], [[0.0]], [[0.0]], [[0.0]], [[0.0]], [[0.0]], [[0.0]], [[0.0]], [[0.0]], [[0.0]], [[0.0]], [[5.058431625366211]], [[0.0]], [[0.0]], [[0.0]], [[0.0]], [[0.0]], [[0.0]], [[0.0]], [[0.0]], [[0.0]], [[0.21968352794647217]], [[0.0]], [[0.0]], [[0.0]], [[0.0]], [[0.0]], [[0.0]], [[0.0]], [[0.0]], [[0.0]], [[0.0]], [[1.2056313753128052]], [[0.0]], [[0.14906907081604004]], [[5.428452491760254]], [[0.0]], [[0.0]], [[0.0]], [[0.0]], [[0.0]], [[0.0]], [[0.0]], [[0.0]], [[0.0]], [[0.6890848875045776]], [[0.23959779739379883]], [[0.0]], [[0.0]], [[0.0]], [[0.0]], [[0.0]], [[0.0]], [[0.0]], [[0.0]], [[0.0]], [[0.0]], [[0.0]], [[0.0]], [[0.27430081367492676]], [[4.727591514587402]], [[0.0]], [[0.0]], [[0.0]], [[0.0]], [[0.0]], [[0.0]], [[0.0]], [[0.0]], [[0.4002547264099121]], [[0.0]], [[0.0]], [[0.0]], [[0.06945717334747314]], [[0.0]], [[0.0]], [[0.0]], [[0.0]], [[0.0]], [[0.0]], [[0.0]], [[0.0]], [[0.0]], [[0.0]], [[4.57896614074707]], [[0.0]], [[0.0]], [[0.0]], [[0.0]], [[0.0]], [[0.0]], [[0.0]], [[0.0]], [[0.0]], [[0.0]], [[0.0]], [[0.5916374921798706]], [[0.0]], [[0.0]], [[0.0]], [[0.0]], [[0.0]], [[0.0]], [[0.0]], [[0.0]], [[0.0]], [[0.773491621017456]], [[0.39199864864349365]], [[4.333781719207764]], [[0.0]], [[0.0]], [[0.0]], [[0.0]], [[0.0]], [[0.0]], [[0.0]], [[0.0]], [[0.0]], [[0.0]], [[0.0]], [[0.5916374921798706]], [[0.0]], [[0.0]], [[0.0]], [[0.0]], [[0.0]], [[0.0]], [[0.0]], [[0.0]], [[0.0]], [[0.773491621017456]], [[0.39199864864349365]], [[4.333781719207764]], [[4.195017337799072]], [[0.0]], [[0.0]], [[0.0]], [[0.0]], [[0.0]], [[0.0]], [[0.0]], [[0.0]], [[0.0]], [[0.0]], [[0.0]], [[0.0]], [[0.0]], [[0.0]], [[0.0]], [[0.0]], [[0.0]], [[0.0]], [[0.0]], [[4.043962001800537]], [[0.0]], [[0.0]], [[0.0]], [[0.0]], [[0.0]], [[0.0]], [[0.0]], [[0.0]], [[0.0]], [[0.0]], [[0.0]], [[0.0]], [[0.0]], [[0.0]], [[0.0]], [[0.0]], [[0.0]], [[0.0]], [[0.0]], [[0.0]], [[0.0]], [[3.945694923400879]], [[4.3003716468811035]], [[0.0]]], \"firstDimensionName\": \"Attn Param\", \"secondDimensionName\": \"Feature\", \"firstDimensionLabels\": [\"Layer:4/Head:5/W_Q\"], \"secondDimensionLabels\": [\"116\"]}\n",
       "    )\n",
       "    </script>"
      ],
      "text/plain": [
       "<circuitsvis.utils.render.RenderedHTML at 0x7f62e4073950>"
      ]
     },
     "metadata": {},
     "output_type": "display_data"
    },
    {
     "data": {
      "text/html": [
       "<div id=\"circuits-vis-f494127e-4895\" style=\"margin: 15px 0;\"/>\n",
       "    <script crossorigin type=\"module\">\n",
       "    import { render, TextNeuronActivations } from \"https://unpkg.com/circuitsvis@1.40.1/dist/cdn/esm.js\";\n",
       "    render(\n",
       "      \"circuits-vis-f494127e-4895\",\n",
       "      TextNeuronActivations,\n",
       "      {\"tokens\": [\"<\", \"ul\", \">\", \"\\\\newline\", \"  \", \"<\", \"li\", \">\", \"br\", \"</\", \"li\", \">\", \"\\\\newline\", \"  \", \"<\", \"li\", \">\", \"em\", \"</\", \"li\", \">\", \"\\n\", \"0\", \"\\\\newline\", \"0\", \"\\\\newline\", \"18\", \"\\\\newline\", \"74\", \"\\\\newline\", \"9\", \"\\\\newline\", \"30\", \"\\\\newline\", \"0\", \"\\\\newline\", \"61\", \"\\\\newline\", \"0\", \"\\\\newline\", \"15\", \"\\\\newline\", \"41\", \"\\\\newline\", \"9\", \"\\\\newline\", \"0\", \"\\n\", \"*((\", \"c\", \"*\", \"c\", \"**(\", \"5\", \"/\", \"4\", \")*\", \"c\", \")/(\", \"c\", \"*\", \"c\", \"**(-\", \"12\", \")/\", \"c\", \"))**(-\", \"11\", \")\", \" assuming\", \" c\", \" is\", \"\\n\", \"#\", \"ifndef\", \" DEM\", \"O\", \"_\", \"MODE\", \"L\", \"_\", \"H\", \"\\\\newline\", \"#\", \"define\", \" DEM\", \"O\", \"_\", \"MODE\", \"L\", \"\\n\", \"*((\", \"c\", \"*\", \"c\", \"**(\", \"5\", \"/\", \"4\", \")*\", \"c\", \")/(\", \"c\", \"*\", \"c\", \"**(-\", \"12\", \")/\", \"c\", \"))**(-\", \"11\", \")\", \" assuming\", \" c\", \" is\", \" positive\", \"\\n\", \"\\ufffd\", \"\\ufffd\", \"ag\", \"iew\", \"n\", \"iki\", \",\", \" W\", \"\\u0142\", \"oc\", \"\\u0142a\", \"we\", \"k\", \" County\", \"\\\\newline\", \"\\\\newline\", \"\\ufffd\", \"\\ufffd\", \"ag\", \"iew\", \"\\n\", \"#\", \"ifndef\", \" P\", \"ARD\", \"ENSE\", \"MAT\", \"RI\", \"X\", \"_\", \"H\", \"\\\\newline\", \"#\", \"define\", \" P\", \"ARD\", \"ENSE\", \"MAT\", \"RI\", \"\\n\", \"![](\", \"gl\", \"asgow\", \"med\", \"j\", \"755\", \"20\", \"-\", \"00\", \"66\", \"){#\", \"sp\", \"1\", \".\", \"466\", \"}\", \"\\\\newline\", \"\\\\newline\", \"![](\", \"gl\", \"asgow\", \"med\", \"j\", \"\\n\", \"]]>\", \"http\", \"://\", \"kg\", \"\\n\", \"0\", \"\\\\newline\", \"0\", \"\\\\newline\", \"18\", \"\\\\newline\", \"74\", \"\\\\newline\", \"9\", \"\\\\newline\", \"30\", \"\\\\newline\", \"0\", \"\\\\newline\", \"61\", \"\\\\newline\", \"0\", \"\\\\newline\", \"15\", \"\\\\newline\", \"41\", \"\\\\newline\", \"9\", \"\\n\"], \"activations\": [[[0.0]], [[0.0]], [[0.08089900016784668]], [[0.0]], [[0.48000311851501465]], [[0.0]], [[0.0]], [[0.0]], [[0.0]], [[0.0]], [[0.0]], [[0.8893589973449707]], [[0.0]], [[0.0]], [[0.4629577398300171]], [[0.0]], [[0.317388653755188]], [[1.1775286197662354]], [[0.0]], [[3.4122447967529297]], [[10.169726371765137]], [[0.0]], [[0.0]], [[0.0]], [[0.6035493612289429]], [[0.0]], [[0.0]], [[0.703455924987793]], [[0.0]], [[0.6606388092041016]], [[0.6501739025115967]], [[0.03561139106750488]], [[0.35726726055145264]], [[0.6351909637451172]], [[1.8918476104736328]], [[2.031406879425049]], [[0.7418649196624756]], [[1.3495006561279297]], [[5.71816873550415]], [[0.5525832176208496]], [[0.2962195873260498]], [[1.5174267292022705]], [[1.0855956077575684]], [[0.9697151184082031]], [[7.2765960693359375]], [[1.2639141082763672]], [[10.060345649719238]], [[0.0]], [[1.256836175918579]], [[0.6027997732162476]], [[0.2937204837799072]], [[0.0]], [[0.56298828125]], [[0.0]], [[0.41016697883605957]], [[0.26267337799072266]], [[0.0]], [[0.8972897529602051]], [[0.0]], [[0.0]], [[0.0]], [[0.8596985340118408]], [[0.0]], [[0.0]], [[0.05851924419403076]], [[2.0620927810668945]], [[0.16930055618286133]], [[0.0]], [[0.8680810928344727]], [[5.13815975189209]], [[6.597506046295166]], [[8.412055015563965]], [[0.0]], [[0.0]], [[0.4113130569458008]], [[1.2303104400634766]], [[1.72342848777771]], [[0.844261884689331]], [[0.49327003955841064]], [[0.09224283695220947]], [[0.0]], [[0.3083503246307373]], [[0.0]], [[1.0744316577911377]], [[0.0]], [[7.086403846740723]], [[4.206386089324951]], [[0.0]], [[6.865100860595703]], [[8.377964973449707]], [[0.0]], [[1.256836175918579]], [[0.6027997732162476]], [[0.2937204837799072]], [[0.0]], [[0.56298828125]], [[0.0]], [[0.41016697883605957]], [[0.26267337799072266]], [[0.0]], [[0.8972897529602051]], [[0.0]], [[0.0]], [[0.0]], [[0.8596985340118408]], [[0.0]], [[0.0]], [[0.05851924419403076]], [[2.0620927810668945]], [[0.16930055618286133]], [[0.0]], [[0.8680810928344727]], [[5.13815975189209]], [[6.597506046295166]], [[8.412055015563965]], [[7.967686653137207]], [[0.0]], [[1.7054617404937744]], [[2.807795524597168]], [[1.4014801979064941]], [[1.6850156784057617]], [[1.4976835250854492]], [[0.7761907577514648]], [[1.0150814056396484]], [[0.9136722087860107]], [[1.9958209991455078]], [[1.5653667449951172]], [[1.4501087665557861]], [[1.2634284496307373]], [[1.0673010349273682]], [[0.47382164001464844]], [[0.0]], [[0.0]], [[1.572556734085083]], [[0.8055927753448486]], [[2.2695772647857666]], [[7.882870674133301]], [[0.0]], [[0.0]], [[0.4118225574493408]], [[0.0]], [[0.007449626922607422]], [[0.14288091659545898]], [[0.765143871307373]], [[1.0046138763427734]], [[0.757422924041748]], [[0.2512338161468506]], [[0.8917403221130371]], [[0.0]], [[0.504765510559082]], [[0.0]], [[0.0]], [[1.127220630645752]], [[5.112396240234375]], [[4.28506326675415]], [[7.8314104080200195]], [[0.0]], [[0.0]], [[0.0]], [[0.0]], [[0.4422966241836548]], [[0.399183988571167]], [[0.0]], [[0.0]], [[0.0]], [[0.09230303764343262]], [[0.0]], [[0.0]], [[0.0]], [[0.0]], [[0.0]], [[0.0]], [[0.19999480247497559]], [[0.0]], [[0.0]], [[0.0]], [[0.7305412292480469]], [[0.0]], [[2.829655170440674]], [[7.510972023010254]], [[0.0]], [[5.148133277893066]], [[4.193447589874268]], [[7.169510841369629]], [[7.678854942321777]], [[0.0]], [[0.0]], [[0.0]], [[0.6035493612289429]], [[0.0]], [[0.0]], [[0.703455924987793]], [[0.0]], [[0.6606388092041016]], [[0.6501739025115967]], [[0.03561139106750488]], [[0.35726726055145264]], [[0.6351909637451172]], [[1.8918476104736328]], [[2.031406879425049]], [[0.7418649196624756]], [[1.3495006561279297]], [[5.71816873550415]], [[0.5525832176208496]], [[0.2962195873260498]], [[1.5174267292022705]], [[1.0855956077575684]], [[0.9697151184082031]], [[7.2765960693359375]], [[0.0]]], \"firstDimensionName\": \"Attn Param\", \"secondDimensionName\": \"Feature\", \"firstDimensionLabels\": [\"Layer:4/Head:5/W_Q\"], \"secondDimensionLabels\": [\"129\"]}\n",
       "    )\n",
       "    </script>"
      ],
      "text/plain": [
       "<circuitsvis.utils.render.RenderedHTML at 0x7f62e408c7d0>"
      ]
     },
     "metadata": {},
     "output_type": "display_data"
    },
    {
     "data": {
      "text/html": [
       "<div id=\"circuits-vis-e32d4fb4-bd36\" style=\"margin: 15px 0;\"/>\n",
       "    <script crossorigin type=\"module\">\n",
       "    import { render, TextNeuronActivations } from \"https://unpkg.com/circuitsvis@1.40.1/dist/cdn/esm.js\";\n",
       "    render(\n",
       "      \"circuits-vis-e32d4fb4-bd36\",\n",
       "      TextNeuronActivations,\n",
       "      {\"tokens\": [\"The\", \" Dark\", \" at\", \" the\", \" Top\", \" of\", \" the\", \" St\", \"airs\", \" (\", \"film\", \")\", \"\\\\newline\", \"\\\\newline\", \"The\", \" Dark\", \" at\", \" the\", \" Top\", \" of\", \"\\n\", \"The\", \" Indian\", \" Pe\", \"aks\", \" from\", \" the\", \"...\", \"\\\\newline\", \"\\\\newline\", \"The\", \" Indian\", \" Pe\", \"aks\", \" from\", \"\\n\", \"I\", \"EM\", \"iller\", \"\\\\newline\", \"\\\\newline\", \"5\", \" Things\", \" to\", \" Avoid\", \" in\", \" the\", \" Fashion\", \" Industry\", \"\\\\newline\", \"\\\\newline\", \"5\", \" Things\", \" to\", \" Avoid\", \" in\", \"\\n\", \"Texas\", \" Under\", \"graduate\", \" Research\", \" Day\", \" at\", \" the\", \" Capitol\", \"\\\\newline\", \"\\\\newline\", \"The\", \" Texas\", \" Under\", \"graduate\", \" Research\", \" Day\", \" at\", \"\\n\", \"The\", \" Dark\", \" at\", \" the\", \" Top\", \" of\", \" the\", \" St\", \"airs\", \" (\", \"film\", \")\", \"\\\\newline\", \"\\\\newline\", \"The\", \" Dark\", \" at\", \"\\n\", \"In\", \" Iraq\", \",\", \" Americans\", \" have\", \" one\", \" foot\", \" out\", \" the\", \" door\", \"\\\\newline\", \"\\\\newline\", \"In\", \" Iraq\", \",\", \" Americans\", \" have\", \" one\", \" foot\", \" out\", \"\\n\", \"Introduction\", \"\\\\newline\", \"============\", \"\\\\newline\", \"\\\\newline\", \"M\", \"ussels\", \" of\", \" the\", \" genus\", \" *\", \"My\", \"til\", \"us\", \"*\", \" are\", \" widespread\", \" in\", \" both\", \" the\", \" Northern\", \" and\", \"\\n\", \"C\", \"ill\", \"essen\", \":\", \" I\", \" want\", \" to\", \" play\", \" in\", \" the\", \" league\", \",\", \" in\", \" the\", \" Champions\", \" League\", \" and\", \" in\", \"\\n\", \"C\", \"yp\", \"ress\", \" Park\", \" sees\", \" major\", \" improvements\", \"\\\\newline\", \"\\\\newline\", \"C\", \"yp\", \"ress\", \" Black\", \" Bay\", \"ou\", \" Re\", \"cre\", \"ational\", \" Park\", \" is\", \" seeing\", \"\\n\", \"Minn\", \"esota\", \"'s\", \" move\", \" to\", \" raise\", \" $\", \"2\", \".\", \"1\", \" billion\", \" in\", \" new\", \" taxes\", \",\", \" largely\", \" from\", \" the\", \" wealthy\", \",\", \" to\", \"\\n\"], \"activations\": [[[2.076122283935547]], [[0.0]], [[0.0]], [[0.0]], [[0.0]], [[0.9060100317001343]], [[0.0]], [[0.0]], [[0.0]], [[0.0]], [[0.0]], [[0.0]], [[1.3719991445541382]], [[0.0]], [[0.0]], [[0.0]], [[5.250267505645752]], [[1.218953013420105]], [[0.36739158630371094]], [[6.572761535644531]], [[0.0]], [[2.0761213302612305]], [[0.0]], [[0.0]], [[0.0]], [[0.6593672037124634]], [[0.017697572708129883]], [[0.11496102809906006]], [[2.1531519889831543]], [[0.0]], [[0.0]], [[0.148187518119812]], [[0.0]], [[0.0]], [[6.2580885887146]], [[0.0]], [[1.4065274000167847]], [[0.0]], [[0.0]], [[1.5985966920852661]], [[0.0]], [[0.0]], [[0.0]], [[0.0]], [[0.0]], [[0.0]], [[0.0]], [[0.0]], [[0.0]], [[0.0]], [[0.0]], [[0.1919020414352417]], [[0.0]], [[0.680347204208374]], [[0.0]], [[5.833669662475586]], [[0.0]], [[2.309833526611328]], [[0.0]], [[0.0]], [[0.0]], [[0.0]], [[1.1207443475723267]], [[0.09538519382476807]], [[0.37239885330200195]], [[1.4960964918136597]], [[0.0]], [[0.0]], [[0.0]], [[2.3985676765441895]], [[1.4705322980880737]], [[0.0]], [[1.0408509969711304]], [[5.507941246032715]], [[0.0]], [[2.0761213302612305]], [[0.0]], [[0.0]], [[0.0]], [[0.0]], [[0.9060090780258179]], [[0.0]], [[0.0]], [[0.0]], [[0.0]], [[0.0]], [[0.0]], [[1.3720170259475708]], [[0.0]], [[0.0]], [[0.0]], [[5.24862003326416]], [[0.0]], [[1.7913397550582886]], [[0.0]], [[0.0]], [[0.0]], [[0.0]], [[0.0]], [[0.0]], [[0.0]], [[0.0]], [[0.0]], [[1.4664899110794067]], [[0.0]], [[0.38419854640960693]], [[1.1411527395248413]], [[0.0]], [[0.12328755855560303]], [[1.443076252937317]], [[0.6622682809829712]], [[0.0]], [[5.052346229553223]], [[0.0]], [[2.2960424423217773]], [[1.363866925239563]], [[0.0]], [[1.7175155878067017]], [[0.0]], [[0.0]], [[0.0]], [[0.8320618867874146]], [[0.0]], [[0.42711377143859863]], [[0.0]], [[0.0]], [[0.0]], [[0.0]], [[0.0]], [[0.0]], [[0.0]], [[1.1137181520462036]], [[1.0446919202804565]], [[0.0]], [[0.18566668033599854]], [[4.779491424560547]], [[0.0]], [[1.3998185396194458]], [[0.0]], [[0.0]], [[0.0]], [[0.0]], [[0.0]], [[0.0]], [[0.0]], [[0.3749399185180664]], [[0.0]], [[0.0]], [[0.0]], [[1.7280796766281128]], [[0.0]], [[0.40845394134521484]], [[0.26741158962249756]], [[1.999083161354065]], [[4.559980392456055]], [[0.0]], [[1.3998185396194458]], [[0.0]], [[0.0]], [[0.0]], [[0.0]], [[0.21221482753753662]], [[0.0]], [[1.6874266862869263]], [[0.0]], [[0.0]], [[0.0]], [[0.0]], [[0.0]], [[0.0]], [[0.0]], [[0.0]], [[0.0]], [[0.0]], [[0.0]], [[0.41470110416412354]], [[4.4435858726501465]], [[0.0]], [[1.6212421655654907]], [[0.20506930351257324]], [[0.6363738775253296]], [[0.0]], [[0.7944272756576538]], [[1.0038408041000366]], [[0.0]], [[0.0]], [[1.162742018699646]], [[0.0]], [[0.0]], [[0.004865765571594238]], [[0.2974095344543457]], [[0.0]], [[0.0]], [[0.7000023126602173]], [[0.9009743928909302]], [[0.0]], [[0.25442373752593994]], [[0.0]], [[4.27578067779541]], [[0.0]]], \"firstDimensionName\": \"Attn Param\", \"secondDimensionName\": \"Feature\", \"firstDimensionLabels\": [\"Layer:4/Head:5/W_Q\"], \"secondDimensionLabels\": [\"310\"]}\n",
       "    )\n",
       "    </script>"
      ],
      "text/plain": [
       "<circuitsvis.utils.render.RenderedHTML at 0x7f62e42db190>"
      ]
     },
     "metadata": {},
     "output_type": "display_data"
    },
    {
     "data": {
      "text/html": [
       "<div id=\"circuits-vis-b4c13fd8-9c12\" style=\"margin: 15px 0;\"/>\n",
       "    <script crossorigin type=\"module\">\n",
       "    import { render, TextNeuronActivations } from \"https://unpkg.com/circuitsvis@1.40.1/dist/cdn/esm.js\";\n",
       "    render(\n",
       "      \"circuits-vis-b4c13fd8-9c12\",\n",
       "      TextNeuronActivations,\n",
       "      {\"tokens\": [\"Ult\", \"\\n\", \"Aw\", \"\\n\", \"Aw\", \"\\n\", \"Every\", \"\\n\", \"Every\", \"\\n\", \"Every\", \"\\n\", \"Every\", \"\\n\", \"Every\", \"\\n\", \"Are\", \"\\n\", \"Are\", \"\\n\"], \"activations\": [[[7.116353511810303]], [[0.0]], [[7.086532115936279]], [[0.0]], [[7.086532115936279]], [[0.0]], [[6.86865758895874]], [[0.0]], [[6.86865758895874]], [[0.0]], [[6.86865758895874]], [[0.0]], [[6.86865758895874]], [[0.0]], [[6.86865758895874]], [[0.0]], [[6.866448879241943]], [[0.0]], [[6.866448879241943]], [[0.0]]], \"firstDimensionName\": \"Attn Param\", \"secondDimensionName\": \"Feature\", \"firstDimensionLabels\": [\"Layer:4/Head:5/W_Q\"], \"secondDimensionLabels\": [\"311\"]}\n",
       "    )\n",
       "    </script>"
      ],
      "text/plain": [
       "<circuitsvis.utils.render.RenderedHTML at 0x7f6445ec67d0>"
      ]
     },
     "metadata": {},
     "output_type": "display_data"
    },
    {
     "data": {
      "text/html": [
       "<div id=\"circuits-vis-86367753-a03e\" style=\"margin: 15px 0;\"/>\n",
       "    <script crossorigin type=\"module\">\n",
       "    import { render, TextNeuronActivations } from \"https://unpkg.com/circuitsvis@1.40.1/dist/cdn/esm.js\";\n",
       "    render(\n",
       "      \"circuits-vis-86367753-a03e\",\n",
       "      TextNeuronActivations,\n",
       "      {\"tokens\": [\"The\", \" subject\", \" matter\", \" disclosed\", \" herein\", \" generally\", \" relates\", \" to\", \" an\", \" aircraft\", \" de\", \"icing\", \" system\", \",\", \" and\", \" more\", \" particularly\", \",\", \" to\", \" a\", \" de\", \"icing\", \"\\n\", \"1\", \".\", \" Field\", \" of\", \" the\", \" Invention\", \"\\\\newline\", \"The\", \" present\", \" invention\", \" relates\", \" to\", \" a\", \" digital\", \" broadcasting\", \" system\", \",\", \" and\", \" more\", \" particularly\", \" to\", \" a\", \" digital\", \" broadcasting\", \"\\n\", \"Group\", \"on\", \" Guide\", \"\\\\newline\", \"\\\\newline\", \"When\", \" most\", \" people\", \" hear\", \" the\", \" word\", \" opera\", \" these\", \" days\", \",\", \" they\", \" don\", \"\\n\", \"Rom\", \"antic\", \" hone\", \"ymoon\", \"\\u2026\", \" in\", \" London\", \"?\", \"\\\\newline\", \"\\\\newline\", \"Do\", \" you\", \" consider\", \" London\", \" to\", \" be\", \" an\", \" official\", \" city\", \"?\", \" I\", \" think\", \" you\", \" don\", \"\\n\", \"<\", \"import\", \" src\", \"=\\\"../../../\", \"common\", \"/\", \"head\", \".\", \"w\", \"xml\", \"\\\"/>\", \"\\\\newline\", \"<\", \"import\", \" src\", \"=\\\"../../../\", \"common\", \"/\", \"foot\", \".\", \"w\", \"xml\", \"\\n\", \"Eric\", \" Bang\", \"eman\", \"\\\\newline\", \"\\\\newline\", \"Eric\", \" Bang\", \"eman\", \"\\\\newline\\\\newline\\\\newline\\\\newline\\\\newline\", \"\\\\newline\", \"Eric\", \" Bang\", \"eman\", \"\\n\", \"Q\", \":\", \"\\\\newline\", \"\\\\newline\", \"ir\", \"rational\", \"ity\", \" of\", \" $\\\\\", \"sqrt\", \"{\", \"2\", \"}^{\\\\\", \"sqrt\", \"{\", \"2\", \"\\n\", \"\\u201c\", \"I\", \" thought\", \" I\", \" couldn\", \"\\u2019\", \"t\", \" do\", \" it\", \",\\u201d\", \" Maria\", \" admitted\", \".\", \" \\u201c\", \"Before\", \" I\", \" joined\", \" BIG\", \",\", \" I\", \" didn\", \"\\n\", \"But\", \" something\", \" is\", \" happening\", \" here\", \" and\", \" you\", \" don\", \"\\n\", \"\\\"\", \"Previously\", \" on\", \" \\\"\", \"The\", \" L\", \" Word\", \"\\\"\\\"\", \" \\\"\", \"I\", \" don\", \"\\n\"], \"activations\": [[[0.0]], [[0.0]], [[0.0]], [[0.0]], [[0.0]], [[0.0]], [[0.0]], [[0.0]], [[0.0]], [[0.0]], [[0.0]], [[0.0]], [[0.0]], [[0.0]], [[0.0]], [[0.0]], [[0.0]], [[0.0]], [[0.0]], [[0.0]], [[0.0]], [[5.19411563873291]], [[0.0]], [[0.0]], [[0.0]], [[0.0]], [[0.0]], [[0.0]], [[0.0]], [[0.0]], [[0.0]], [[0.0]], [[0.0]], [[0.0]], [[0.0]], [[0.0]], [[0.0]], [[0.0]], [[0.0]], [[0.0]], [[0.0]], [[0.0]], [[0.0]], [[0.0]], [[0.0]], [[0.0]], [[4.525628089904785]], [[0.0]], [[0.0]], [[0.0]], [[0.0]], [[0.0]], [[0.0]], [[0.0]], [[0.0]], [[0.0]], [[0.0]], [[0.0]], [[0.0]], [[0.0]], [[0.0]], [[0.0]], [[0.0]], [[0.0]], [[4.349539756774902]], [[0.0]], [[0.0]], [[0.0]], [[0.0]], [[0.0]], [[0.0]], [[0.0]], [[0.0]], [[0.0]], [[0.0]], [[0.0]], [[0.0]], [[0.0]], [[0.0]], [[0.0]], [[0.0]], [[0.0]], [[0.0]], [[0.0]], [[0.0]], [[0.0]], [[0.0]], [[0.0]], [[0.0]], [[4.300427436828613]], [[0.0]], [[0.0]], [[0.0]], [[0.0]], [[0.0]], [[0.0]], [[0.0]], [[0.0]], [[0.0]], [[0.0]], [[0.0]], [[0.0]], [[0.0]], [[0.0]], [[0.0]], [[0.0]], [[0.0]], [[0.0]], [[0.0]], [[0.0]], [[0.0]], [[0.0]], [[4.03765869140625]], [[0.0]], [[0.0]], [[0.0]], [[0.0]], [[0.0]], [[0.0]], [[0.0]], [[0.0]], [[0.0]], [[0.0]], [[0.0]], [[0.0]], [[0.0]], [[3.699577569961548]], [[0.0]], [[0.0]], [[0.0]], [[0.0]], [[0.0]], [[0.0]], [[0.0]], [[0.0]], [[0.0]], [[0.0]], [[0.0]], [[0.0]], [[0.0]], [[0.0]], [[0.0]], [[0.0]], [[3.6947085857391357]], [[0.0]], [[0.0]], [[0.0]], [[0.0]], [[0.0]], [[0.3270179033279419]], [[0.0]], [[0.0]], [[0.0]], [[0.0]], [[0.0]], [[0.0]], [[0.0]], [[0.0]], [[0.0]], [[0.0]], [[0.0]], [[0.0]], [[0.0]], [[0.0]], [[0.0]], [[3.682136297225952]], [[0.0]], [[0.0]], [[0.0]], [[0.0]], [[0.0]], [[0.0]], [[0.0]], [[0.0]], [[3.6361920833587646]], [[0.0]], [[0.0]], [[0.0]], [[0.0]], [[0.0]], [[0.0]], [[0.0]], [[0.0]], [[0.0]], [[0.0]], [[0.0]], [[3.4571211338043213]], [[0.0]]], \"firstDimensionName\": \"Attn Param\", \"secondDimensionName\": \"Feature\", \"firstDimensionLabels\": [\"Layer:4/Head:5/W_Q\"], \"secondDimensionLabels\": [\"314\"]}\n",
       "    )\n",
       "    </script>"
      ],
      "text/plain": [
       "<circuitsvis.utils.render.RenderedHTML at 0x7f62e41e34d0>"
      ]
     },
     "metadata": {},
     "output_type": "display_data"
    },
    {
     "data": {
      "text/html": [
       "<div id=\"circuits-vis-48f04b12-a720\" style=\"margin: 15px 0;\"/>\n",
       "    <script crossorigin type=\"module\">\n",
       "    import { render, TextNeuronActivations } from \"https://unpkg.com/circuitsvis@1.40.1/dist/cdn/esm.js\";\n",
       "    render(\n",
       "      \"circuits-vis-48f04b12-a720\",\n",
       "      TextNeuronActivations,\n",
       "      {\"tokens\": [\"Ch\", \"ronic\", \" insomnia\", \" and\", \" cognitive\", \" functioning\", \" among\", \" older\", \" adults\", \".\", \"\\\\newline\", \"Ch\", \"ronic\", \" insomnia\", \" and\", \" cognitive\", \"\\n\", \"L\", \"ung\", \" donation\", \" after\", \" circul\", \"atory\", \" death\", \".\", \"\\\\newline\", \"The\", \" current\", \" review\", \" presents\", \" a\", \" concise\", \" update\", \" on\", \" published\", \" literature\", \" on\", \" donation\", \" after\", \" circul\", \"atory\", \"\\n\", \"G\", \"astro\", \"intestinal\", \"\\n\", \"Low\", \" autonomic\", \" arousal\", \" as\", \" vulnerability\", \" to\", \" external\", \"ising\", \" behaviour\", \" in\", \" infants\", \" with\", \" hostile\", \" mothers\", \".\", \"\\\\newline\", \"M\", \"aternal\", \" psych\", \"opathology\", \" and\", \" the\", \" child\", \"'s\", \" autonomic\", \"\\n\", \"Nor\", \"wegian\", \" Ent\", \"om\", \"ological\", \" Society\", \"\\\\newline\", \"\\\\newline\", \"The\", \" Norwegian\", \" Ent\", \"om\", \"ological\", \"\\n\", \"Our\", \" main\", \" objective\", \" is\", \" to\", \" characterize\", \" the\", \" immunological\", \"\\n\", \"Is\", \" L\", \"ARC\", \" for\", \" Everyone\", \"?\", \" A\", \" Qual\", \"itative\", \" Study\", \" of\", \" Soci\", \"oc\", \"ultural\", \"\\n\", \"Immun\", \"ological\", \"\\n\", \"Ch\", \"ronic\", \" insomnia\", \" and\", \" cognitive\", \"\\n\", \"Ther\", \"mal\", \" oxidative\", \"\\n\"], \"activations\": [[[0.0]], [[2.72723650932312]], [[0.0]], [[0.06520581245422363]], [[5.041384696960449]], [[0.0]], [[0.0]], [[0.6298167705535889]], [[0.0]], [[0.0]], [[0.0]], [[0.0]], [[2.355620861053467]], [[0.0]], [[1.7432003021240234]], [[6.266280174255371]], [[0.0]], [[0.0]], [[0.0]], [[0.0]], [[0.0]], [[1.068023920059204]], [[3.793717622756958]], [[0.0]], [[0.0]], [[0.0]], [[0.0]], [[0.4341106414794922]], [[0.0]], [[0.0]], [[0.0]], [[1.4750726222991943]], [[0.0]], [[0.0]], [[0.8128402233123779]], [[0.0]], [[0.0]], [[0.0]], [[0.0]], [[1.8174097537994385]], [[6.205583572387695]], [[0.0]], [[0.7654354572296143]], [[1.0853726863861084]], [[5.574875831604004]], [[0.0]], [[0.0]], [[4.689690589904785]], [[0.197706937789917]], [[0.0]], [[0.0]], [[0.04377603530883789]], [[3.554042100906372]], [[1.202251672744751]], [[0.0]], [[0.0]], [[0.0]], [[0.0]], [[2.676292657852173]], [[0.0]], [[0.0]], [[0.0]], [[0.0]], [[3.1100943088531494]], [[2.472761392593384]], [[0.01605701446533203]], [[0.9806718826293945]], [[0.6700828075408936]], [[0.0]], [[1.479471206665039]], [[5.458869934082031]], [[0.0]], [[0.1382683515548706]], [[2.100933790206909]], [[0.0]], [[0.0]], [[3.583566904067993]], [[0.0]], [[0.0]], [[0.0]], [[0.0]], [[0.5848495960235596]], [[0.07752764225006104]], [[0.0]], [[5.116489410400391]], [[0.0]], [[1.2474818229675293]], [[0.8341734409332275]], [[1.989168643951416]], [[0.0]], [[0.0]], [[0.0]], [[0.03755784034729004]], [[5.1141767501831055]], [[0.0]], [[0.949531078338623]], [[0.0]], [[0.0]], [[0.0]], [[0.0]], [[0.0]], [[0.0]], [[0.003797173500061035]], [[1.9222066402435303]], [[0.0]], [[0.0]], [[2.3802411556243896]], [[1.1494066715240479]], [[5.106752395629883]], [[0.0]], [[3.695490598678589]], [[5.049979209899902]], [[0.0]], [[0.0]], [[2.727246046066284]], [[0.0]], [[0.06520819664001465]], [[5.04144287109375]], [[0.0]], [[1.2749049663543701]], [[3.0538341999053955]], [[5.041389465332031]], [[0.0]]], \"firstDimensionName\": \"Attn Param\", \"secondDimensionName\": \"Feature\", \"firstDimensionLabels\": [\"Layer:4/Head:5/W_Q\"], \"secondDimensionLabels\": [\"350\"]}\n",
       "    )\n",
       "    </script>"
      ],
      "text/plain": [
       "<circuitsvis.utils.render.RenderedHTML at 0x7f62e40a0f50>"
      ]
     },
     "metadata": {},
     "output_type": "display_data"
    },
    {
     "data": {
      "text/html": [
       "<div id=\"circuits-vis-d7174e62-40a4\" style=\"margin: 15px 0;\"/>\n",
       "    <script crossorigin type=\"module\">\n",
       "    import { render, TextNeuronActivations } from \"https://unpkg.com/circuitsvis@1.40.1/dist/cdn/esm.js\";\n",
       "    render(\n",
       "      \"circuits-vis-d7174e62-40a4\",\n",
       "      TextNeuronActivations,\n",
       "      {\"tokens\": [\"Den\", \"\\n\", \"Den\", \"\\n\", \"Den\", \"\\n\", \"Den\", \"\\n\", \"Sample\", \" code\", \"\\n\", \"MAN\", \"\\n\", \"MAN\", \"\\n\", \"Ama\", \"\\n\", \"Fer\", \"\\n\", \"Currently\", \"\\n\"], \"activations\": [[[7.924520492553711]], [[0.0]], [[7.924520492553711]], [[0.0]], [[7.924520492553711]], [[0.0]], [[7.924520492553711]], [[0.0]], [[5.8957061767578125]], [[7.723067283630371]], [[0.0]], [[7.71333122253418]], [[0.0]], [[7.71333122253418]], [[0.0]], [[7.701227188110352]], [[0.0]], [[7.688996315002441]], [[0.0]], [[7.664422035217285]], [[0.0]]], \"firstDimensionName\": \"Attn Param\", \"secondDimensionName\": \"Feature\", \"firstDimensionLabels\": [\"Layer:4/Head:5/W_Q\"], \"secondDimensionLabels\": [\"363\"]}\n",
       "    )\n",
       "    </script>"
      ],
      "text/plain": [
       "<circuitsvis.utils.render.RenderedHTML at 0x7f62e419d450>"
      ]
     },
     "metadata": {},
     "output_type": "display_data"
    },
    {
     "data": {
      "text/html": [
       "<div id=\"circuits-vis-00723ce9-373e\" style=\"margin: 15px 0;\"/>\n",
       "    <script crossorigin type=\"module\">\n",
       "    import { render, TextNeuronActivations } from \"https://unpkg.com/circuitsvis@1.40.1/dist/cdn/esm.js\";\n",
       "    render(\n",
       "      \"circuits-vis-00723ce9-373e\",\n",
       "      TextNeuronActivations,\n",
       "      {\"tokens\": [\"Gary\", \" B\", \".\", \" Sanders\", \",\", \" \\u201c\", \"Conf\", \"ed\", \"erate\", \" Conflict\", \" in\", \" Jackson\", \" County\", \",\", \" Alabama\", \"\\u201d\", \"\\\\newline\", \"\\\\newline\", \"Guest\", \" columnist\", \" Gary\", \" B\", \".\", \" Sanders\", \"\\n\", \"W\", \"WE\", \" Chairman\", \" Vince\", \" Mc\", \"Mah\", \"on\", \":\", \" WWE\", \" Network\", \" Could\", \" Launch\", \" in\", \" 2011\", \"\\\\newline\", \"\\\\newline\", \"World\", \" Wrestling\", \" Entertainment\", \" chairman\", \" Vince\", \" Mc\", \"Mah\", \"on\", \"\\n\", \"Bill\", \" Ferr\", \"is\", \"\\u2019\", \" \\u201c\", \"Vo\", \"ices\", \" of\", \" Mississippi\", \"\\u201d\", \" wins\", \" two\", \" Gr\", \"amm\", \"ys\", \"\\\\newline\", \"\\\\newline\", \"Histor\", \"ian\", \" and\", \" Mississippi\", \" native\", \" William\", \" Ferr\", \"is\", \"\\n\", \"J\", \"ake\", \" Ellen\", \"berger\", \" isn\", \"\\u2019\", \"t\", \" done\", \" yet\", \".\", \" There\", \" was\", \" a\", \" moment\", \" on\", \" Saturday\", \" night\", \" in\", \" Nashville\", \" when\", \" Ellen\", \"berger\", \"\\n\", \"James\", \" Dav\", \"ison\", \" (\", \"California\", \" politician\", \")\", \"\\\\newline\", \"\\\\newline\", \"James\", \" Dav\", \"ison\", \"\\n\", \"Rob\", \"in\", \" Williams\", \" enjoyed\", \" \\u2018\", \"perfect\", \"\\u2019\", \" last\", \" day\", \"\\\\newline\", \"\\\\newline\", \"Rob\", \"in\", \" Williams\", \"\\n\", \"But\", \" Democrats\", \" hope\", \" Mr\", \".\", \" Bush\", \"\\u2019\", \"s\", \" new\", \" high\", \" profile\", \" will\", \" help\", \" them\", \" frame\", \" the\", \" emerging\", \" Republican\", \" generation\", \".\", \" Mark\", \" Mell\", \"man\", \"\\n\", \"Inter\", \"view\", \" with\", \" a\", \" quality\", \" leader\", \":\", \" Dr\", \".\", \" John\", \" Com\", \"bes\", \" on\", \" boards\", \" and\", \" governance\", \".\", \"\\\\newline\", \"Dr\", \".\", \" Com\", \"bes\", \"\\n\", \"Q\", \":\", \"\\\\newline\", \"\\\\newline\", \"Pro\", \"ving\", \" Pl\", \"anc\", \"here\", \"l\", \"'s\", \" theorem\", \" using\", \" Cauchy\", \" integral\", \" formula\", \"\\\\newline\", \"\\\\newline\", \"Pl\", \"anc\", \"here\", \"l\", \"\\n\", \"Video\", \"-\", \"lect\", \"ure\", \" with\", \" most\", \" views\", \" in\", \" micro\", \"econom\", \"ics\", \"\\\\newline\", \"\\\\newline\", \"In\", \" the\", \" lecture\", \" videos\", \",\", \" Professor\", \" Jonathan\", \" Gr\", \"uber\", \"\\n\"], \"activations\": [[[0.6508315801620483]], [[0.0]], [[0.0]], [[1.9175688028335571]], [[0.0]], [[0.0]], [[0.0]], [[0.0]], [[0.0]], [[0.0]], [[0.0]], [[0.0]], [[0.0]], [[0.0]], [[0.22486770153045654]], [[0.0]], [[0.0]], [[0.0]], [[0.0]], [[0.2517836093902588]], [[1.79731285572052]], [[1.1142131090164185]], [[1.0136348009109497]], [[5.050933837890625]], [[0.0]], [[0.0]], [[0.0]], [[0.0]], [[0.0]], [[0.0]], [[0.030259370803833008]], [[2.362199306488037]], [[0.0]], [[0.0]], [[0.0]], [[0.0]], [[0.0]], [[0.0]], [[0.0]], [[0.0]], [[0.0]], [[0.0]], [[0.0]], [[0.7971252202987671]], [[0.0]], [[0.7321890592575073]], [[0.3433953523635864]], [[0.5386824607849121]], [[4.885360240936279]], [[0.0]], [[0.1318570375442505]], [[0.0]], [[1.8492761850357056]], [[0.552208662033081]], [[0.0]], [[0.0]], [[0.0]], [[0.0]], [[0.15608513355255127]], [[0.0]], [[0.0]], [[0.0]], [[0.0]], [[0.0]], [[0.0]], [[0.0]], [[0.0]], [[0.0]], [[0.4343383312225342]], [[0.0]], [[1.385982632637024]], [[0.0]], [[0.6765981912612915]], [[1.1220866441726685]], [[4.658101558685303]], [[0.0]], [[0.0]], [[0.0]], [[0.0]], [[1.2191869020462036]], [[0.0]], [[0.0]], [[0.0]], [[0.0]], [[0.0]], [[0.0]], [[0.0]], [[0.0]], [[0.0]], [[0.0]], [[0.0]], [[0.0]], [[0.0]], [[0.0]], [[0.27252697944641113]], [[0.0]], [[1.2156463861465454]], [[4.618328094482422]], [[0.0]], [[0.5714578628540039]], [[0.0]], [[1.5334125757217407]], [[0.0]], [[0.0]], [[0.0]], [[0.0]], [[0.0]], [[0.0]], [[1.4539321660995483]], [[1.5088003873825073]], [[4.454965591430664]], [[0.0]], [[0.0]], [[1.603488802909851]], [[2.618748664855957]], [[0.0]], [[0.0]], [[0.0]], [[0.0]], [[0.0]], [[0.0]], [[0.0]], [[0.0]], [[0.0]], [[2.209946632385254]], [[4.388764381408691]], [[0.0]], [[0.0]], [[0.8175190687179565]], [[0.0]], [[0.0]], [[0.0]], [[2.2495298385620117]], [[0.4296928644180298]], [[0.7864996194839478]], [[0.0]], [[0.0]], [[0.0]], [[0.0]], [[0.0]], [[0.15292799472808838]], [[0.0]], [[0.0]], [[0.0]], [[0.0]], [[0.0]], [[0.0]], [[0.2766925096511841]], [[1.0570591688156128]], [[4.317567825317383]], [[0.0]], [[0.0]], [[0.0]], [[0.0]], [[0.0]], [[0.0]], [[0.0]], [[0.0]], [[0.0]], [[0.0]], [[0.38536977767944336]], [[0.0]], [[2.212967872619629]], [[0.0]], [[0.0]], [[0.0]], [[0.0]], [[0.0]], [[0.0]], [[0.1198434829711914]], [[0.0]], [[0.2998906373977661]], [[4.288740158081055]], [[0.0]], [[0.0]], [[0.0]], [[0.0]], [[0.0]], [[0.0]], [[0.0]], [[0.0]], [[0.0]], [[0.0]], [[0.8911076784133911]], [[0.06522095203399658]], [[0.0]], [[0.0]], [[0.0]], [[0.0]], [[0.0]], [[0.0]], [[0.0]], [[0.0]], [[0.0]], [[0.0]], [[4.1080756187438965]], [[0.0]], [[0.0]], [[0.0]], [[0.0]], [[0.0]], [[0.0]], [[0.0]], [[0.0]], [[0.0]], [[0.0]], [[0.0]], [[0.0]], [[0.0]], [[0.0]], [[0.0]], [[0.0]], [[0.0]], [[0.0]], [[0.0]], [[0.3712204694747925]], [[1.2116948366165161]], [[0.0]], [[4.083250999450684]], [[0.0]]], \"firstDimensionName\": \"Attn Param\", \"secondDimensionName\": \"Feature\", \"firstDimensionLabels\": [\"Layer:4/Head:5/W_Q\"], \"secondDimensionLabels\": [\"389\"]}\n",
       "    )\n",
       "    </script>"
      ],
      "text/plain": [
       "<circuitsvis.utils.render.RenderedHTML at 0x7f62e40b3c10>"
      ]
     },
     "metadata": {},
     "output_type": "display_data"
    },
    {
     "data": {
      "text/html": [
       "<div id=\"circuits-vis-ac5697b6-9d4a\" style=\"margin: 15px 0;\"/>\n",
       "    <script crossorigin type=\"module\">\n",
       "    import { render, TextNeuronActivations } from \"https://unpkg.com/circuitsvis@1.40.1/dist/cdn/esm.js\";\n",
       "    render(\n",
       "      \"circuits-vis-ac5697b6-9d4a\",\n",
       "      TextNeuronActivations,\n",
       "      {\"tokens\": [\"Wu\", \"\\n\", \"Iron\", \"\\n\", \"Iron\", \"\\n\", \"Mad\", \"\\n\", \"Mad\", \"\\n\", \"Sus\", \"\\n\", \"Sus\", \"\\n\", \"Sus\", \"\\n\", \" PM\", \"\\n\", \"James\", \"\\n\"], \"activations\": [[[4.771955490112305]], [[0.0]], [[4.75263786315918]], [[0.0]], [[4.75263786315918]], [[0.0]], [[4.731714248657227]], [[0.0]], [[4.731714248657227]], [[0.0]], [[4.7260942459106445]], [[0.0]], [[4.7260942459106445]], [[0.0]], [[4.7260942459106445]], [[0.0]], [[4.7245893478393555]], [[0.0]], [[4.669875144958496]], [[0.0]]], \"firstDimensionName\": \"Attn Param\", \"secondDimensionName\": \"Feature\", \"firstDimensionLabels\": [\"Layer:4/Head:5/W_Q\"], \"secondDimensionLabels\": [\"401\"]}\n",
       "    )\n",
       "    </script>"
      ],
      "text/plain": [
       "<circuitsvis.utils.render.RenderedHTML at 0x7f62ed22a210>"
      ]
     },
     "metadata": {},
     "output_type": "display_data"
    },
    {
     "data": {
      "text/html": [
       "<div id=\"circuits-vis-54227236-84b9\" style=\"margin: 15px 0;\"/>\n",
       "    <script crossorigin type=\"module\">\n",
       "    import { render, TextNeuronActivations } from \"https://unpkg.com/circuitsvis@1.40.1/dist/cdn/esm.js\";\n",
       "    render(\n",
       "      \"circuits-vis-54227236-84b9\",\n",
       "      TextNeuronActivations,\n",
       "      {\"tokens\": [\"Watch\", \" Live\", \" Stream\", \"ing\", \" HD\", \" Y\", \"alla\", \" Sh\", \"oot\", \" Sport\", \" Ball\", \" Be\", \"ind\", \" 8\", \"\\\\newline\", \"\\\\newline\", \"Watch\", \" Live\", \" Stream\", \"ing\", \" HD\", \" Y\", \"alla\", \"\\n\", \"\\ufffd\", \"\\n\", \"Watch\", \" Live\", \" Stream\", \"ing\", \" HD\", \" Y\", \"alla\", \" Sh\", \"oot\", \" Sport\", \" Ball\", \" Be\", \"ind\", \" 8\", \"\\\\newline\", \"\\\\newline\", \"Watch\", \" Live\", \" Stream\", \"ing\", \" HD\", \"\\n\", \"\\u30cb\", \"\\n\", \"\\ufffd\", \"\\n\", \"2010\", \" World\", \" Junior\", \" Figure\", \" Sk\", \"ating\", \" Championships\", \"\\\\newline\", \"\\\\newline\", \"The\", \" 2010\", \" World\", \" Junior\", \" Figure\", \"\\n\", \"Red\", \" Sh\", \"\\n\", \"Q\", \":\", \"\\\\newline\", \"\\\\newline\", \"Pro\", \"ving\", \" Cauchy\", \"-\", \"Sch\", \"warz\", \" with\", \" Ar\", \"ithmetic\", \" Ge\", \"ometric\", \" mean\", \"\\\\newline\", \"\\\\newline\", \"I\", \" understand\", \" common\", \" proofs\", \" for\", \" Cauchy\", \"-\", \"\\n\", \"For\", \"ced\", \" exp\", \"iratory\", \" man\", \"oe\", \"uv\", \"\\n\", \"CC\", \"-\", \"P\", \"3\", \"-\", \"OT\", \"TER\", \"BOX\", \"-\", \"OB\", \"IP\", \"H\", \"ONE\", \"4\", \"\\\\newline\", \"CC\", \"-\", \"P\", \"3\", \"-\", \"\\n\"], \"activations\": [[[1.6526126861572266]], [[1.0628671646118164]], [[2.2561309337615967]], [[0.0]], [[0.6751875877380371]], [[1.2879891395568848]], [[0.0]], [[0.909299373626709]], [[0.0]], [[0.6556386947631836]], [[0.5331003665924072]], [[1.039776086807251]], [[0.0]], [[0.0]], [[0.0]], [[0.7016654014587402]], [[0.416489839553833]], [[1.1343705654144287]], [[0.8559393882751465]], [[3.393907308578491]], [[4.423299789428711]], [[2.5354292392730713]], [[5.876394271850586]], [[0.0]], [[3.6525442600250244]], [[0.0]], [[1.6526126861572266]], [[1.0628671646118164]], [[2.2561309337615967]], [[0.0]], [[0.6751875877380371]], [[1.2879891395568848]], [[0.0]], [[0.909299373626709]], [[0.0]], [[0.6556386947631836]], [[0.5331003665924072]], [[1.039776086807251]], [[0.0]], [[0.0]], [[0.0]], [[0.7016654014587402]], [[0.416489839553833]], [[1.1343705654144287]], [[0.8559393882751465]], [[3.393907308578491]], [[4.423299789428711]], [[0.0]], [[4.406876564025879]], [[0.0]], [[3.6525442600250244]], [[0.0]], [[0.18534588813781738]], [[0.6983489990234375]], [[2.765681505203247]], [[0.3897613286972046]], [[0.0]], [[0.0]], [[0.0]], [[0.0]], [[0.0]], [[0.0]], [[0.0]], [[0.0]], [[0.0]], [[4.319973945617676]], [[0.0]], [[2.5908777713775635]], [[4.309382438659668]], [[0.0]], [[3.2464816570281982]], [[0.7594823837280273]], [[0.0]], [[0.0]], [[0.0]], [[0.0]], [[0.0]], [[0.0]], [[0.0]], [[0.0]], [[0.0]], [[0.0]], [[0.0]], [[0.5473413467407227]], [[0.0]], [[0.0]], [[0.0]], [[0.35658836364746094]], [[0.0]], [[0.6765449047088623]], [[0.0]], [[0.0]], [[0.0]], [[0.0]], [[4.2149553298950195]], [[0.0]], [[0.1666126251220703]], [[0.0]], [[0.23711943626403809]], [[0.0]], [[0.0]], [[0.0]], [[4.184622764587402]], [[0.0]], [[2.6133100986480713]], [[0.0]], [[0.0]], [[0.0]], [[0.510643720626831]], [[0.0]], [[0.0]], [[0.0]], [[0.0]], [[0.0]], [[0.0]], [[0.0]], [[0.0]], [[0.0]], [[0.0]], [[0.0]], [[0.7979345321655273]], [[0.0]], [[0.0]], [[4.165341377258301]], [[0.0]]], \"firstDimensionName\": \"Attn Param\", \"secondDimensionName\": \"Feature\", \"firstDimensionLabels\": [\"Layer:4/Head:5/W_Q\"], \"secondDimensionLabels\": [\"432\"]}\n",
       "    )\n",
       "    </script>"
      ],
      "text/plain": [
       "<circuitsvis.utils.render.RenderedHTML at 0x7f62e4094410>"
      ]
     },
     "metadata": {},
     "output_type": "display_data"
    }
   ],
   "source": [
    "# Pick out the features above a threshold value\n",
    "d_model, d_head = model.cfg.d_model, model.cfg.d_head\n",
    "\n",
    "# These are not super principled, maybe \"top k features\" would be a better metric but even more\n",
    "# ideally we'd have a principled way of deciding whether a feature was actually attended to\n",
    "threshold_multipliers_by_attn_key = {\n",
    "    'k': 4,\n",
    "    'q': 12,\n",
    "}\n",
    "\n",
    "layer, head = 4, 5\n",
    "\n",
    "for attn_key, threshold_multiplier in threshold_multipliers_by_attn_key.items():\n",
    "    display(Markdown(f'##### Examining Layer:{layer}/Head:{head}/W_{attn_key.upper()}'))\n",
    "    threshold = threshold_multiplier * d_head / d_model\n",
    "    scores = feature_attention_alignment_scores(learned_dict, attn[attn_key][layer][head]).detach().cpu()\n",
    "    feature_ids = (scores > threshold).nonzero().flatten().tolist()\n",
    "    print(f\"Found {len(feature_ids)} features over threshold {threshold:.3f} for L{layer}H{head}:W_{attn_key.upper()}\")\n",
    "    print(f\"Feature ids = {feature_ids}\")\n",
    "    tokens_by_feature_id, activations_by_feature_id = {}, {}\n",
    "    for feature_id in feature_ids:\n",
    "        text_list, full_text, token_list, full_token_list = get_feature_datapoints(\n",
    "            feature_id,\n",
    "            model,\n",
    "            dataset.num_rows,\n",
    "            token_amount,\n",
    "            dictionary_activations,\n",
    "            dataset,\n",
    "            setting=\"max\"\n",
    "        )\n",
    "        tokens, activations = get_tokens_and_activations(text_list, feature_id, autoencoder, model, cache_name)\n",
    "        activations = activations.flatten()\n",
    "        tokens_by_feature_id[feature_id] = tokens\n",
    "        activations_by_feature_id[feature_id] = activations\n",
    "        display(text_neuron_activations(\n",
    "            tokens=tokens,\n",
    "            activations=activations[:,None,None],\n",
    "            first_dimension_name=\"Attn Param\",\n",
    "            second_dimension_name=\"Feature\",\n",
    "            first_dimension_labels=[f'Layer:{layer}/Head:{head}/W_{attn_key.upper()}'],\n",
    "            second_dimension_labels=[str(feature_id)]\n",
    "        ))"
   ]
  }
 ],
 "metadata": {
  "kernelspec": {
   "display_name": "Python 3 (ipykernel)",
   "language": "python",
   "name": "python3"
  },
  "language_info": {
   "codemirror_mode": {
    "name": "ipython",
    "version": 3
   },
   "file_extension": ".py",
   "mimetype": "text/x-python",
   "name": "python",
   "nbconvert_exporter": "python",
   "pygments_lexer": "ipython3",
   "version": "3.11.4"
  }
 },
 "nbformat": 4,
 "nbformat_minor": 5
}
